{
 "cells": [
  {
   "cell_type": "code",
   "execution_count": 1,
   "id": "e4a22d41-0896-473a-8664-3814be9d5c2b",
   "metadata": {},
   "outputs": [],
   "source": [
    "# !pip install markdown\n",
    "# !pip install --upgrade kaleido"
   ]
  },
  {
   "cell_type": "code",
   "execution_count": 2,
   "id": "7ccd3662-006f-4055-9d2f-98b5483bbc41",
   "metadata": {},
   "outputs": [
    {
     "name": "stdout",
     "output_type": "stream",
     "text": [
      "✅ Setup complete.\n"
     ]
    }
   ],
   "source": [
    "# --- Technical Setup ---\n",
    "import pandas as pd\n",
    "import numpy as np\n",
    "import seaborn as sns\n",
    "import matplotlib.pyplot as plt\n",
    "import warnings\n",
    "from typing import Dict, List, Optional, Tuple\n",
    "\n",
    "# Ignore warnings for a cleaner executive report\n",
    "warnings.filterwarnings('ignore')\n",
    "\n",
    "# Set plotting style and display options\n",
    "sns.set_style(\"whitegrid\")\n",
    "pd.set_option('display.float_format', '{:,.2f}'.format)\n",
    "print(\"✅ Setup complete.\")"
   ]
  },
  {
   "cell_type": "code",
   "execution_count": 3,
   "id": "b5390353-7810-4220-95a0-ab42fd7ea263",
   "metadata": {},
   "outputs": [
    {
     "name": "stdout",
     "output_type": "stream",
     "text": [
      "✅ Setup complete with all consolidated components imported.\n"
     ]
    }
   ],
   "source": [
    "# --- Corrected Cell 1: Updated Imports ---\n",
    "\n",
    "# Explicitly import all the necessary components from your consolidated .py file\n",
    "from capacity_pipeline import (\n",
    "    ColumnMap, ScoreConfig, WSIConfig, ScenarioConfig, OptimizeConfig,\n",
    "    DataPrep, CapacityScorer, WSIComputer, OptimizeConfig, run_optimizer_pipeline, \n",
    "    pre_post_tree_pipeline, # NEW: The consolidated simulation function\n",
    "    compute_capacity_centric_wsi, # NEW: The standalone WSI function\n",
    "    make_sample_data,\n",
    "    plot_score_distributions, plot_team_metrics, plot_feature_importances,\n",
    "    plot_contributions_waterfall, plot_optimization_plan,\n",
    "    plot_simulation_distributions, plot_bucket_uplift_distributions,\n",
    "    plot_volume_uplift_distributions,\n",
    "    pre_post_tree_pipeline_cap_cases\n",
    ")\n",
    "\n",
    "import pandas as pd\n",
    "import numpy as np\n",
    "import seaborn as sns\n",
    "import matplotlib.pyplot as plt\n",
    "import warnings\n",
    "from typing import Dict, List, Optional, Tuple\n",
    "\n",
    "# Ignore warnings for a cleaner executive report\n",
    "warnings.filterwarnings('ignore')\n",
    "\n",
    "# Set plotting style and display options\n",
    "sns.set_style(\"whitegrid\")\n",
    "pd.set_option('display.float_format', '{:,.2f}'.format)\n",
    "print(\"✅ Setup complete with all consolidated components imported.\")"
   ]
  },
  {
   "cell_type": "code",
   "execution_count": 4,
   "id": "1642f7a7-3e10-4947-8685-bcbb29ee6dfe",
   "metadata": {},
   "outputs": [
    {
     "name": "stdout",
     "output_type": "stream",
     "text": [
      "✅ Hybrid analysis setup with guardrails is ready.\n"
     ]
    }
   ],
   "source": [
    "# --- Fully Configurable Analysis Setup (Updated for Hybrid Approach) ---\n",
    "\n",
    "# 1. IDENTIFIER COLUMNS (from your data)\n",
    "cols = ColumnMap(\n",
    "    date=\"_date_\",\n",
    "    alias=\"alias\",\n",
    "    group=\"StaffGroup\",\n",
    "    num_cases=\"TasksCompleted\", # Map your 'TasksCompleted' to the pipeline's 'num_cases'\n",
    "    backlog=\"BacklogSize\",\n",
    "    avg_dtc=\"AvgTimeToResolve\",\n",
    "    efficiency_raw=\"EfficiencyRating\"\n",
    "    # ... map any other relevant columns from your dataset\n",
    ")\n",
    "\n",
    "# 2. FEATURE COLUMNS (for Capacity Score)\n",
    "my_feature_columns = [\n",
    "    \"TasksCompleted\", \"ActiveCases\", \"BacklogSize\", \"AvgTimeToResolve\",\n",
    "    \"TenureInMonths\", \"EfficiencyRating\", \"CustomerSatisfaction\"\n",
    "]\n",
    "\n",
    "my_feature_direction = {\n",
    "    \"TasksCompleted\": False, \"ActiveCases\": True, \"BacklogSize\": True,\n",
    "    \"AvgTimeToResolve\": True, \"TenureInMonths\": False, \"EfficiencyRating\": False,\n",
    "    \"CustomerSatisfaction\": False\n",
    "}\n",
    "\n",
    "# 3. DERIVED METRIC NAMES (you can name these whatever you want)\n",
    "CAPACITY_SCORE_COL = \"Capacity_Score_0_100\"\n",
    "WSI_COL = \"WSI_0_100\"\n",
    "EFFICIENCY_COL = \"efficiency\"\n",
    "DTC_COL = \"days_to_close\"\n",
    "\n",
    "# 4. CONFIGURATION OBJECTS\n",
    "\n",
    "# --- NEW: Define weights for the features you want in the percentile score ---\n",
    "# These keys should match the names in `my_feature_columns`.\n",
    "feature_weights = {\n",
    "    'TasksCompleted': 0.4,       # 40% of the score comes from case volume\n",
    "    'EfficiencyRating': 0.3,   # 30% from efficiency\n",
    "    'AvgTimeToResolve': 0.2,   # 20% from time to close\n",
    "    'BacklogSize': 0.1         # 10% from backlog\n",
    "}\n",
    "\n",
    "# --- CHANGED: Updated ScoreConfig with guardrails ---\n",
    "score_cfg = ScoreConfig(\n",
    "    method=\"percentile\",        # Use percentile for the final score\n",
    "    direction_map=my_feature_direction, # Still needed for DataPrep\n",
    "    random_state=42,\n",
    "    # Guardrail 1: Set the final score floor to 20\n",
    "    score_range=(20, 100),\n",
    "    # Guardrail 2: Apply weights to the percentile calculation\n",
    "    percentile_weights=feature_weights\n",
    ")\n",
    "\n",
    "\n",
    "wsi_cfg = WSIConfig(team_aggregate=\"mean\")\n",
    "\n",
    "scn_cfg = ScenarioConfig(capacity_col_out=CAPACITY_SCORE_COL, random_state=42)\n",
    "\n",
    "opt_cfg = OptimizeConfig(\n",
    "    budget_moves=15,\n",
    "    objective_weights={\n",
    "        WSI_COL: -1.0,\n",
    "        EFFICIENCY_COL: +0.6,\n",
    "        DTC_COL: -0.6,\n",
    "        cols.backlog: -0.8,\n",
    "        cols.num_cases: +0.25\n",
    "    },\n",
    "    random_state=42\n",
    ")\n",
    "\n",
    "# Define the targets for the OutcomeModeler dynamically\n",
    "modeler_targets = (WSI_COL, EFFICIENCY_COL, DTC_COL, cols.backlog)\n",
    "\n",
    "print(\"✅ Hybrid analysis setup with guardrails is ready.\")"
   ]
  },
  {
   "cell_type": "code",
   "execution_count": 5,
   "id": "d4945c9e-2380-414b-9528-b66c4806a1a1",
   "metadata": {},
   "outputs": [
    {
     "name": "stdout",
     "output_type": "stream",
     "text": [
      "✅ Configuration loaded.\n"
     ]
    }
   ],
   "source": [
    "# --- Configuration Settings ---\n",
    "\n",
    "# Defines the column names in your data\n",
    "cols = ColumnMap()\n",
    "\n",
    "# List of features to use when calculating the Capacity Score\n",
    "capacity_features = [\n",
    "    \"numCases\", \"numOpenCases\", \"backlog\", \"TimeSpent\", \"currentSevA\",\n",
    "    \"Is24X7OptedIn\", \"IsClosedOnWeekend\", \"tenure\", \"som\", \"avgDaysToClose\"\n",
    "]\n",
    "\n",
    "# Config for the Capacity Score\n",
    "# In your notebook configuration cell\n",
    "\n",
    "score_cfg = ScoreConfig(\n",
    "    method=\"percentile\",\n",
    "    bench_percentile=0.70,\n",
    "    scale_scope=\"by_group\",\n",
    "    percentile_clip=(5, 95),\n",
    "    random_state=42,\n",
    "    distribution=\"gaussian\", # Use the new normalization method,\n",
    "    score_range=(30, 100)\n",
    "\n",
    ")\n",
    "\n",
    "# Config for the Workload Stress Index (WSI)\n",
    "# In your notebook configuration cell\n",
    "\n",
    "wsi_cfg = WSIConfig(\n",
    "    team_aggregate=\"mean\",\n",
    "    distribution=\"gaussian\", # Use the new normalization method,\n",
    "    feature_range=(20, 100),\n",
    "    weights=dict(\n",
    "        w_workload=0.50,\n",
    "        cap_dev=0.10,\n",
    "        persist=0.15,\n",
    "        complexity=0.15,\n",
    "        time=0.10\n",
    "    )\n",
    ")\n",
    "\n",
    "# Config for \"What-If\" Scenarios\n",
    "scn_cfg = ScenarioConfig(random_state=42)\n",
    "\n",
    "# Config for the Optimizer\n",
    "opt_cfg = OptimizeConfig(\n",
    "    budget_moves=15,\n",
    "    objective_weights=dict(\n",
    "        WSI_0_100=-1.0,\n",
    "        efficiency=+0.6,\n",
    "        days_to_close=-0.6,\n",
    "        backlog=-0.8,\n",
    "        numCases=+0.25\n",
    "    ),\n",
    "    random_state=42\n",
    ")\n",
    "\n",
    "print(\"✅ Configuration loaded.\")"
   ]
  },
  {
   "cell_type": "code",
   "execution_count": 6,
   "id": "0f537015-1fc9-4bfa-a6c6-e96fb52eb364",
   "metadata": {},
   "outputs": [
    {
     "name": "stdout",
     "output_type": "stream",
     "text": [
      "✅ All scores calculated successfully.\n"
     ]
    },
    {
     "data": {
      "text/html": [
       "<div>\n",
       "<style scoped>\n",
       "    .dataframe tbody tr th:only-of-type {\n",
       "        vertical-align: middle;\n",
       "    }\n",
       "\n",
       "    .dataframe tbody tr th {\n",
       "        vertical-align: top;\n",
       "    }\n",
       "\n",
       "    .dataframe thead th {\n",
       "        text-align: right;\n",
       "    }\n",
       "</style>\n",
       "<table border=\"1\" class=\"dataframe\">\n",
       "  <thead>\n",
       "    <tr style=\"text-align: right;\">\n",
       "      <th></th>\n",
       "      <th>alias</th>\n",
       "      <th>StaffGroup</th>\n",
       "      <th>_date_</th>\n",
       "      <th>Capacity_Score_0_100</th>\n",
       "      <th>WSI_0_100</th>\n",
       "      <th>cap_dev</th>\n",
       "      <th>complexity</th>\n",
       "    </tr>\n",
       "  </thead>\n",
       "  <tbody>\n",
       "    <tr>\n",
       "      <th>0</th>\n",
       "      <td>SG-A-E01</td>\n",
       "      <td>SG-A</td>\n",
       "      <td>2025-06-01</td>\n",
       "      <td>62.04</td>\n",
       "      <td>51.01</td>\n",
       "      <td>0.00</td>\n",
       "      <td>0.06</td>\n",
       "    </tr>\n",
       "    <tr>\n",
       "      <th>1</th>\n",
       "      <td>SG-A-E01</td>\n",
       "      <td>SG-A</td>\n",
       "      <td>2025-07-01</td>\n",
       "      <td>58.98</td>\n",
       "      <td>48.38</td>\n",
       "      <td>0.00</td>\n",
       "      <td>0.07</td>\n",
       "    </tr>\n",
       "    <tr>\n",
       "      <th>2</th>\n",
       "      <td>SG-A-E01</td>\n",
       "      <td>SG-A</td>\n",
       "      <td>2025-08-01</td>\n",
       "      <td>53.05</td>\n",
       "      <td>42.15</td>\n",
       "      <td>0.00</td>\n",
       "      <td>0.06</td>\n",
       "    </tr>\n",
       "    <tr>\n",
       "      <th>3</th>\n",
       "      <td>SG-A-E02</td>\n",
       "      <td>SG-A</td>\n",
       "      <td>2025-06-01</td>\n",
       "      <td>56.40</td>\n",
       "      <td>63.19</td>\n",
       "      <td>0.00</td>\n",
       "      <td>0.09</td>\n",
       "    </tr>\n",
       "    <tr>\n",
       "      <th>4</th>\n",
       "      <td>SG-A-E02</td>\n",
       "      <td>SG-A</td>\n",
       "      <td>2025-07-01</td>\n",
       "      <td>47.97</td>\n",
       "      <td>51.92</td>\n",
       "      <td>0.00</td>\n",
       "      <td>0.04</td>\n",
       "    </tr>\n",
       "  </tbody>\n",
       "</table>\n",
       "</div>"
      ],
      "text/plain": [
       "      alias StaffGroup     _date_  Capacity_Score_0_100  WSI_0_100  cap_dev  \\\n",
       "0  SG-A-E01       SG-A 2025-06-01                 62.04      51.01     0.00   \n",
       "1  SG-A-E01       SG-A 2025-07-01                 58.98      48.38     0.00   \n",
       "2  SG-A-E01       SG-A 2025-08-01                 53.05      42.15     0.00   \n",
       "3  SG-A-E02       SG-A 2025-06-01                 56.40      63.19     0.00   \n",
       "4  SG-A-E02       SG-A 2025-07-01                 47.97      51.92     0.00   \n",
       "\n",
       "   complexity  \n",
       "0        0.06  \n",
       "1        0.07  \n",
       "2        0.06  \n",
       "3        0.09  \n",
       "4        0.04  "
      ]
     },
     "metadata": {},
     "output_type": "display_data"
    }
   ],
   "source": [
    "# --- Corrected Cell 4: Load Data and Calculate Scores ---\n",
    "#\n",
    "# Here, we generate our sample monthly data and run the core pipeline to calculate the\n",
    "# Capacity Score and Workload Stress Index (WSI) for every employee and team.\n",
    "\n",
    "# 1. Generate sample data for three months\n",
    "df_full = make_sample_data(n_groups=4, aliases_per_group=30, months=[\"2025-06\", \"2025-07\", \"2025-08\"])\n",
    "df_full['efficiency'] = df_full['som'] # Use coalesce_names logic\n",
    "df_full['days_to_close'] = df_full['avgDaysToClose']\n",
    "\n",
    "# 2. Prepare the data (calculate deviations from benchmark)\n",
    "prep = DataPrep(columns=cols, features=capacity_features, config=score_cfg).fit(df_full)\n",
    "df_prepped = prep.transform(df_full)\n",
    "\n",
    "# 3. Calculate the 0-100 Capacity Score for each employee-month\n",
    "scorer = CapacityScorer(config=score_cfg).fit(df_prepped, group_col=cols.group, id_cols=(cols.alias, cols.date))\n",
    "scores = scorer.transform(df_prepped, group_col=cols.group, id_cols=(cols.alias, cols.date))\n",
    "\n",
    "# FIX: Merge only the new score column to avoid creating duplicate 'StaffGroup_x/y' columns.\n",
    "df_scored = df_full.merge(\n",
    "    scores[[cols.alias, cols.date, 'Capacity_Score_0_100']],\n",
    "    on=[cols.alias, cols.date],\n",
    "    how=\"left\"\n",
    ")\n",
    "\n",
    "# 4. Calculate the 0-100 WSI for each employee-month and aggregate for teams\n",
    "wsi_computer = WSIComputer(columns=cols, config=wsi_cfg)\n",
    "wsi_results = wsi_computer.compute(df_scored)\n",
    "alias_metrics = wsi_results[\"alias_metrics\"]\n",
    "team_metrics = wsi_results[\"team_metrics\"]\n",
    "\n",
    "print(\"✅ All scores calculated successfully.\")\n",
    "display(alias_metrics.head())"
   ]
  },
  {
   "cell_type": "code",
   "execution_count": 7,
   "id": "07ff0820-aaaa-4985-8d85-534bd7558fc2",
   "metadata": {},
   "outputs": [
    {
     "name": "stdout",
     "output_type": "stream",
     "text": [
      "--- How are our employees distributed across these scores? (Latest Month) ---\n",
      "✅ Plot saved to: score_distributions.png\n"
     ]
    },
    {
     "data": {
      "image/png": "[encoded data removed]",
      "text/plain": [
       "<Figure size 1400x500 with 2 Axes>"
      ]
     },
     "metadata": {},
     "output_type": "display_data"
    },
    {
     "name": "stdout",
     "output_type": "stream",
     "text": [
      "\n",
      "--- How do the teams compare on key WSI components over time? ---\n",
      "Note: 'Capacity Deviation' now shows positive (above baseline) and negative (below baseline) performance.\n",
      "✅ Plot saved to: team_metrics_over_time.png\n"
     ]
    },
    {
     "data": {
      "image/png": "[encoded data removed]",
      "text/plain": [
       "<Figure size 1284.75x800 with 3 Axes>"
      ]
     },
     "metadata": {},
     "output_type": "display_data"
    }
   ],
   "source": [
    "# --- Corrected Cell 5: ❓ Question 1: What are the Capacity Score & WSI? ---\n",
    "\n",
    "# The Capacity Score (0-100) measures an employee's overall operational performance. A higher score is better.\n",
    "# The Workload Stress Index (WSI) (0-100) measures workload pressure. A higher score indicates more stress.\n",
    "\n",
    "# This dictionary will store the paths to all our saved plots.\n",
    "saved_plots = {}\n",
    "\n",
    "print(\"--- How are our employees distributed across these scores? (Latest Month) ---\")\n",
    "latest_month_df = alias_metrics[alias_metrics['_date_'] == alias_metrics['_date_'].max()]\n",
    "\n",
    "# Define a path and save the plot\n",
    "score_dist_path = \"score_distributions.png\"\n",
    "plot_score_distributions(latest_month_df, ['Capacity_Score_0_100', 'WSI_0_100'], save_path=score_dist_path)\n",
    "saved_plots[\"[INSERT SCORE DISTRIBUTION PLOT HERE]\"] = score_dist_path\n",
    "\n",
    "\n",
    "print(\"\\n--- How do the teams compare on key WSI components over time? ---\")\n",
    "print(\"Note: 'Capacity Deviation' now shows positive (above baseline) and negative (below baseline) performance.\")\n",
    "\n",
    "# Define a path and save the plot\n",
    "team_metrics_path = \"team_metrics_over_time.png\"\n",
    "plot_team_metrics(team_metrics, ['WSI_0_100', 'cap_dev', 'complexity'], save_path=team_metrics_path)\n",
    "saved_plots[\"[INSERT TEAM METRICS PLOT HERE]\"] = team_metrics_path"
   ]
  },
  {
   "cell_type": "code",
   "execution_count": 8,
   "id": "5ad5c97d-7327-4dc7-978e-7fcbeb024fd3",
   "metadata": {},
   "outputs": [
    {
     "name": "stdout",
     "output_type": "stream",
     "text": [
      "--- Global Drivers: What factors matter most across the organization? ---\n",
      "✅ Plot saved to: feature_importance.png\n"
     ]
    },
    {
     "data": {
      "image/png": "[encoded data removed]",
      "text/plain": [
       "<Figure size 1000x600 with 1 Axes>"
      ]
     },
     "metadata": {},
     "output_type": "display_data"
    },
    {
     "name": "stdout",
     "output_type": "stream",
     "text": [
      "\n",
      "--- Local Drivers: Why did a specific employee get their score? ---\n",
      "✅ Plot saved to: contributions_waterfall.png\n"
     ]
    },
    {
     "data": {
      "image/png": "[encoded data removed]",
      "text/plain": [
       "<Figure size 1000x600 with 1 Axes>"
      ]
     },
     "metadata": {},
     "output_type": "display_data"
    }
   ],
   "source": [
    "# print(\"--- Global Drivers: What factors matter most across the organization? ---\")\n",
    "# # This chart shows the factors with the highest overall impact on the Capacity Score.\n",
    "# # A higher bar means the feature is more influential in determining the score.\n",
    "# plot_feature_importances(scorer)\n",
    "\n",
    "# print(\"\\n--- Local Drivers: Why did a specific employee get their score? ---\")\n",
    "# # This waterfall chart breaks down the score for a single employee.\n",
    "# # Green bars are factors that helped their score; red bars are factors that hurt it.\n",
    "# example_employee = df_prepped.iloc[0]\n",
    "# contributions = scorer.contributions(df_prepped, alias=example_employee[cols.alias], date=example_employee[cols.date])\n",
    "# plot_contributions_waterfall(contributions, alias=example_employee[cols.alias])\n",
    "\n",
    "\n",
    "# In Cell [7]\n",
    "print(\"--- Global Drivers: What factors matter most across the organization? ---\")\n",
    "feature_importance_path = \"feature_importance.png\" # Define path\n",
    "plot_feature_importances(scorer, save_path=feature_importance_path) # Add save_path\n",
    "\n",
    "print(\"\\n--- Local Drivers: Why did a specific employee get their score? ---\")\n",
    "example_employee = df_prepped.iloc[0]\n",
    "contributions = scorer.contributions(df_prepped, alias=example_employee[cols.alias], date=example_employee[cols.date])\n",
    "contributions_path = \"contributions_waterfall.png\" # Define path\n",
    "plot_contributions_waterfall(contributions, alias=example_employee[cols.alias], save_path=contributions_path) # Add save_path"
   ]
  },
  {
   "cell_type": "code",
   "execution_count": 9,
   "id": "083149a2-721a-4ccc-9997-3bd2f901148b",
   "metadata": {
    "scrolled": true
   },
   "outputs": [],
   "source": [
    "# # --- Corrected Cell 7: ❓ Question 3: What-If Scenario - Simulating Headcount Moves ---\n",
    "# print(\"This tool simulates moving employees between teams to see the projected impact.\")\n",
    "\n",
    "# # Define your hypothetical moves\n",
    "# moves = [\n",
    "#     {\"from\": \"SG-A\", \"to\": \"SG-C\", \"n\": 30}\n",
    "# ]\n",
    "\n",
    "# # Run the simulation\n",
    "# df_month = df_full[df_full['_date_'] == df_full['_date_'].max()]\n",
    "# modeler = OutcomeModeler().fit(alias_metrics.dropna())\n",
    "# engine = ScenarioEngine(columns=cols, prep=prep, scorer=scorer, wsi=wsi_computer, modeler=modeler, config=scn_cfg)\n",
    "# sim_results = engine.simulate_moves(df_month, moves=moves)\n",
    "\n",
    "# print(\"\\n--- Simulation Results: Comparing 'Before' vs. 'After' ---\")\n",
    "# # This heatmap visualizes the projected state of each team before and after the move.\n",
    "# # The color is based on the WSI score (Green = Low Stress, Red = High Stress).\n",
    "# simulation_heatmap_path = \"simulation_heatmap.png\"\n",
    "\n",
    "# # FIX: Use the correct keys \"pre_agg\" and \"post_agg\" to access the dataframes\n",
    "# stacked_sim_data = plot_simulation_heatmap(\n",
    "#     sim_results[\"pre_agg\"], \n",
    "#     sim_results[\"post_agg\"], \n",
    "#     only_impacted=False,  # This is the default, but we're being explicit\n",
    "#     save_path=\"simulation_heatmap_impacted.png\"\n",
    "# )\n",
    "# saved_plots[\"[INSERT SIMULATION HEATMAP HERE]\"] = simulation_heatmap_path\n",
    "\n",
    "# # NEW: Overlapping distribution plots for key metrics at the employee level\n",
    "# simulation_dist_path = \"simulation_distributions.png\"\n",
    "# plot_simulation_distributions(\n",
    "#     pre_df_employee=sim_results[\"pre_employee\"],\n",
    "#     post_df_employee=sim_results[\"post_employee\"],\n",
    "#     metrics=['Capacity_Score_0_100', 'WSI_0_100', 'efficiency'],\n",
    "#     save_path=simulation_dist_path\n",
    "# )\n",
    "# saved_plots[\"[INSERT SIMULATION DISTRIBUTIONS PLOT HERE]\"] = simulation_dist_path\n",
    "\n",
    "\n",
    "# print(\"\\n✅ Simulation plots saved successfully.\")"
   ]
  },
  {
   "cell_type": "code",
   "execution_count": 10,
   "id": "b33d6056-7453-493b-8a73-38020ea441fb",
   "metadata": {},
   "outputs": [
    {
     "name": "stdout",
     "output_type": "stream",
     "text": [
      "This tool simulates moving employees between teams to see the projected impact.\n",
      "\n",
      "[DEBUG] Team-level predict() sample (first 20 rows):\n",
      " Capacity StaffGroup\n",
      "    72.14       SG-A\n",
      "    57.03       SG-B\n",
      "    58.53       SG-C\n",
      "    62.49       SG-D\n",
      "Rows to predict (team-level): 4\n",
      "\n",
      "--- Sanity Check: Typical Metric Ranges (based on pre-move data) ---\n"
     ]
    },
    {
     "data": {
      "text/html": [
       "<div>\n",
       "<style scoped>\n",
       "    .dataframe tbody tr th:only-of-type {\n",
       "        vertical-align: middle;\n",
       "    }\n",
       "\n",
       "    .dataframe tbody tr th {\n",
       "        vertical-align: top;\n",
       "    }\n",
       "\n",
       "    .dataframe thead th {\n",
       "        text-align: right;\n",
       "    }\n",
       "</style>\n",
       "<table border=\"1\" class=\"dataframe\">\n",
       "  <thead>\n",
       "    <tr style=\"text-align: right;\">\n",
       "      <th></th>\n",
       "      <th>Typical Range (25th-75th percentile)</th>\n",
       "    </tr>\n",
       "    <tr>\n",
       "      <th>Metric</th>\n",
       "      <th></th>\n",
       "    </tr>\n",
       "  </thead>\n",
       "  <tbody>\n",
       "    <tr>\n",
       "      <th>Capacity</th>\n",
       "      <td>55.05 to 72.75</td>\n",
       "    </tr>\n",
       "    <tr>\n",
       "      <th>WSI_0_100</th>\n",
       "      <td>44.72 to 61.61</td>\n",
       "    </tr>\n",
       "    <tr>\n",
       "      <th>efficiency</th>\n",
       "      <td>0.76 to 0.86</td>\n",
       "    </tr>\n",
       "    <tr>\n",
       "      <th>days_to_close</th>\n",
       "      <td>5.38 to 8.71</td>\n",
       "    </tr>\n",
       "    <tr>\n",
       "      <th>backlog</th>\n",
       "      <td>15.75 to 24.00</td>\n",
       "    </tr>\n",
       "  </tbody>\n",
       "</table>\n",
       "</div>"
      ],
      "text/plain": [
       "              Typical Range (25th-75th percentile)\n",
       "Metric                                            \n",
       "Capacity                            55.05 to 72.75\n",
       "WSI_0_100                           44.72 to 61.61\n",
       "efficiency                            0.76 to 0.86\n",
       "days_to_close                         5.38 to 8.71\n",
       "backlog                             15.75 to 24.00"
      ]
     },
     "metadata": {},
     "output_type": "display_data"
    },
    {
     "name": "stdout",
     "output_type": "stream",
     "text": [
      "\n",
      "--- Simulation Results: Comparing 'Before' vs. 'After' ---\n"
     ]
    },
    {
     "data": {
      "application/vnd.plotly.v1+json": {
       "config": {
        "plotlyServerURL": "https://plot.ly"
       },
       "data": [
        {
         "cells": {
          "align": "left",
          "fill": {
           "color": [
            [
             "rgba(0,0,0,0)",
             "rgba(0,0,0,0)",
             "rgba(0,0,0,0)",
             "rgba(0,0,0,0)"
            ],
            [
             "rgba(0,0,0,0)",
             "rgba(0,0,0,0)",
             "rgba(0,0,0,0)",
             "rgba(0,0,0,0)"
            ],
            [
             "rgba(0,0,0,0)",
             "rgba(0,0,0,0)",
             "rgba(0,0,0,0)",
             "rgba(0,0,0,0)"
            ],
            [
             "rgba(0,0,0,0)",
             "rgba(0,0,0,0)",
             "rgba(0,0,0,0)",
             "rgba(0,0,0,0)"
            ],
            [
             "rgba(0,0,0,0)",
             "rgba(0,0,0,0)",
             "rgba(0,0,0,0)",
             "rgba(0,0,0,0)"
            ],
            [
             "rgba(255, 99, 71, 0.18)",
             "rgba(0,0,0,0)",
             "rgba(0,0,0,0)",
             "rgba(0,0,0,0)"
            ]
           ]
          },
          "format": [
           null,
           ".2f",
           ".2f",
           ".2f",
           ".2f",
           ".2f"
          ],
          "values": [
           [
            "SG-A — Post (pred)",
            "SG-A — Pre",
            "SG-C — Post (pred)",
            "SG-C — Pre"
           ],
           [
            72.144,
            69.205,
            58.532000000000004,
            64.02
           ],
           [
            55.18559265136719,
            55,
            57.601261138916016,
            56.465
           ],
           [
            0.7951229810714722,
            0.7803099409980399,
            0.811663031578064,
            0.8240436306272423
           ],
           [
            7.404249668121338,
            7.222333843914095,
            6.993083953857422,
            6.885990685795295
           ],
           [
            24.04436492919922,
            19.5,
            23.711069107055664,
            18.5
           ]
          ]
         },
         "header": {
          "align": "left",
          "fill": {
           "color": "rgba(240,240,240,1)"
          },
          "values": [
           "StaffGroup — Scenario",
           "Capacity",
           "WSI_0_100",
           "efficiency",
           "days_to_close",
           "backlog"
          ]
         },
         "type": "table"
        }
       ],
       "layout": {
        "margin": {
         "b": 10,
         "l": 10,
         "r": 10,
         "t": 40
        },
        "template": {
         "data": {
          "bar": [
           {
            "error_x": {
             "color": "#2a3f5f"
            },
            "error_y": {
             "color": "#2a3f5f"
            },
            "marker": {
             "line": {
              "color": "#E5ECF6",
              "width": 0.5
             },
             "pattern": {
              "fillmode": "overlay",
              "size": 10,
              "solidity": 0.2
             }
            },
            "type": "bar"
           }
          ],
          "barpolar": [
           {
            "marker": {
             "line": {
              "color": "#E5ECF6",
              "width": 0.5
             },
             "pattern": {
              "fillmode": "overlay",
              "size": 10,
              "solidity": 0.2
             }
            },
            "type": "barpolar"
           }
          ],
          "carpet": [
           {
            "aaxis": {
             "endlinecolor": "#2a3f5f",
             "gridcolor": "white",
             "linecolor": "white",
             "minorgridcolor": "white",
             "startlinecolor": "#2a3f5f"
            },
            "baxis": {
             "endlinecolor": "#2a3f5f",
             "gridcolor": "white",
             "linecolor": "white",
             "minorgridcolor": "white",
             "startlinecolor": "#2a3f5f"
            },
            "type": "carpet"
           }
          ],
          "choropleth": [
           {
            "colorbar": {
             "outlinewidth": 0,
             "ticks": ""
            },
            "type": "choropleth"
           }
          ],
          "contour": [
           {
            "colorbar": {
             "outlinewidth": 0,
             "ticks": ""
            },
            "colorscale": [
             [
              0,
              "#0d0887"
             ],
             [
              0.1111111111111111,
              "#46039f"
             ],
             [
              0.2222222222222222,
              "#7201a8"
             ],
             [
              0.3333333333333333,
              "#9c179e"
             ],
             [
              0.4444444444444444,
              "#bd3786"
             ],
             [
              0.5555555555555556,
              "#d8576b"
             ],
             [
              0.6666666666666666,
              "#ed7953"
             ],
             [
              0.7777777777777778,
              "#fb9f3a"
             ],
             [
              0.8888888888888888,
              "#fdca26"
             ],
             [
              1,
              "#f0f921"
             ]
            ],
            "type": "contour"
           }
          ],
          "contourcarpet": [
           {
            "colorbar": {
             "outlinewidth": 0,
             "ticks": ""
            },
            "type": "contourcarpet"
           }
          ],
          "heatmap": [
           {
            "colorbar": {
             "outlinewidth": 0,
             "ticks": ""
            },
            "colorscale": [
             [
              0,
              "#0d0887"
             ],
             [
              0.1111111111111111,
              "#46039f"
             ],
             [
              0.2222222222222222,
              "#7201a8"
             ],
             [
              0.3333333333333333,
              "#9c179e"
             ],
             [
              0.4444444444444444,
              "#bd3786"
             ],
             [
              0.5555555555555556,
              "#d8576b"
             ],
             [
              0.6666666666666666,
              "#ed7953"
             ],
             [
              0.7777777777777778,
              "#fb9f3a"
             ],
             [
              0.8888888888888888,
              "#fdca26"
             ],
             [
              1,
              "#f0f921"
             ]
            ],
            "type": "heatmap"
           }
          ],
          "histogram": [
           {
            "marker": {
             "pattern": {
              "fillmode": "overlay",
              "size": 10,
              "solidity": 0.2
             }
            },
            "type": "histogram"
           }
          ],
          "histogram2d": [
           {
            "colorbar": {
             "outlinewidth": 0,
             "ticks": ""
            },
            "colorscale": [
             [
              0,
              "#0d0887"
             ],
             [
              0.1111111111111111,
              "#46039f"
             ],
             [
              0.2222222222222222,
              "#7201a8"
             ],
             [
              0.3333333333333333,
              "#9c179e"
             ],
             [
              0.4444444444444444,
              "#bd3786"
             ],
             [
              0.5555555555555556,
              "#d8576b"
             ],
             [
              0.6666666666666666,
              "#ed7953"
             ],
             [
              0.7777777777777778,
              "#fb9f3a"
             ],
             [
              0.8888888888888888,
              "#fdca26"
             ],
             [
              1,
              "#f0f921"
             ]
            ],
            "type": "histogram2d"
           }
          ],
          "histogram2dcontour": [
           {
            "colorbar": {
             "outlinewidth": 0,
             "ticks": ""
            },
            "colorscale": [
             [
              0,
              "#0d0887"
             ],
             [
              0.1111111111111111,
              "#46039f"
             ],
             [
              0.2222222222222222,
              "#7201a8"
             ],
             [
              0.3333333333333333,
              "#9c179e"
             ],
             [
              0.4444444444444444,
              "#bd3786"
             ],
             [
              0.5555555555555556,
              "#d8576b"
             ],
             [
              0.6666666666666666,
              "#ed7953"
             ],
             [
              0.7777777777777778,
              "#fb9f3a"
             ],
             [
              0.8888888888888888,
              "#fdca26"
             ],
             [
              1,
              "#f0f921"
             ]
            ],
            "type": "histogram2dcontour"
           }
          ],
          "mesh3d": [
           {
            "colorbar": {
             "outlinewidth": 0,
             "ticks": ""
            },
            "type": "mesh3d"
           }
          ],
          "parcoords": [
           {
            "line": {
             "colorbar": {
              "outlinewidth": 0,
              "ticks": ""
             }
            },
            "type": "parcoords"
           }
          ],
          "pie": [
           {
            "automargin": true,
            "type": "pie"
           }
          ],
          "scatter": [
           {
            "fillpattern": {
             "fillmode": "overlay",
             "size": 10,
             "solidity": 0.2
            },
            "type": "scatter"
           }
          ],
          "scatter3d": [
           {
            "line": {
             "colorbar": {
              "outlinewidth": 0,
              "ticks": ""
             }
            },
            "marker": {
             "colorbar": {
              "outlinewidth": 0,
              "ticks": ""
             }
            },
            "type": "scatter3d"
           }
          ],
          "scattercarpet": [
           {
            "marker": {
             "colorbar": {
              "outlinewidth": 0,
              "ticks": ""
             }
            },
            "type": "scattercarpet"
           }
          ],
          "scattergeo": [
           {
            "marker": {
             "colorbar": {
              "outlinewidth": 0,
              "ticks": ""
             }
            },
            "type": "scattergeo"
           }
          ],
          "scattergl": [
           {
            "marker": {
             "colorbar": {
              "outlinewidth": 0,
              "ticks": ""
             }
            },
            "type": "scattergl"
           }
          ],
          "scattermap": [
           {
            "marker": {
             "colorbar": {
              "outlinewidth": 0,
              "ticks": ""
             }
            },
            "type": "scattermap"
           }
          ],
          "scattermapbox": [
           {
            "marker": {
             "colorbar": {
              "outlinewidth": 0,
              "ticks": ""
             }
            },
            "type": "scattermapbox"
           }
          ],
          "scatterpolar": [
           {
            "marker": {
             "colorbar": {
              "outlinewidth": 0,
              "ticks": ""
             }
            },
            "type": "scatterpolar"
           }
          ],
          "scatterpolargl": [
           {
            "marker": {
             "colorbar": {
              "outlinewidth": 0,
              "ticks": ""
             }
            },
            "type": "scatterpolargl"
           }
          ],
          "scatterternary": [
           {
            "marker": {
             "colorbar": {
              "outlinewidth": 0,
              "ticks": ""
             }
            },
            "type": "scatterternary"
           }
          ],
          "surface": [
           {
            "colorbar": {
             "outlinewidth": 0,
             "ticks": ""
            },
            "colorscale": [
             [
              0,
              "#0d0887"
             ],
             [
              0.1111111111111111,
              "#46039f"
             ],
             [
              0.2222222222222222,
              "#7201a8"
             ],
             [
              0.3333333333333333,
              "#9c179e"
             ],
             [
              0.4444444444444444,
              "#bd3786"
             ],
             [
              0.5555555555555556,
              "#d8576b"
             ],
             [
              0.6666666666666666,
              "#ed7953"
             ],
             [
              0.7777777777777778,
              "#fb9f3a"
             ],
             [
              0.8888888888888888,
              "#fdca26"
             ],
             [
              1,
              "#f0f921"
             ]
            ],
            "type": "surface"
           }
          ],
          "table": [
           {
            "cells": {
             "fill": {
              "color": "#EBF0F8"
             },
             "line": {
              "color": "white"
             }
            },
            "header": {
             "fill": {
              "color": "#C8D4E3"
             },
             "line": {
              "color": "white"
             }
            },
            "type": "table"
           }
          ]
         },
         "layout": {
          "annotationdefaults": {
           "arrowcolor": "#2a3f5f",
           "arrowhead": 0,
           "arrowwidth": 1
          },
          "autotypenumbers": "strict",
          "coloraxis": {
           "colorbar": {
            "outlinewidth": 0,
            "ticks": ""
           }
          },
          "colorscale": {
           "diverging": [
            [
             0,
             "#8e0152"
            ],
            [
             0.1,
             "#c51b7d"
            ],
            [
             0.2,
             "#de77ae"
            ],
            [
             0.3,
             "#f1b6da"
            ],
            [
             0.4,
             "#fde0ef"
            ],
            [
             0.5,
             "#f7f7f7"
            ],
            [
             0.6,
             "#e6f5d0"
            ],
            [
             0.7,
             "#b8e186"
            ],
            [
             0.8,
             "#7fbc41"
            ],
            [
             0.9,
             "#4d9221"
            ],
            [
             1,
             "#276419"
            ]
           ],
           "sequential": [
            [
             0,
             "#0d0887"
            ],
            [
             0.1111111111111111,
             "#46039f"
            ],
            [
             0.2222222222222222,
             "#7201a8"
            ],
            [
             0.3333333333333333,
             "#9c179e"
            ],
            [
             0.4444444444444444,
             "#bd3786"
            ],
            [
             0.5555555555555556,
             "#d8576b"
            ],
            [
             0.6666666666666666,
             "#ed7953"
            ],
            [
             0.7777777777777778,
             "#fb9f3a"
            ],
            [
             0.8888888888888888,
             "#fdca26"
            ],
            [
             1,
             "#f0f921"
            ]
           ],
           "sequentialminus": [
            [
             0,
             "#0d0887"
            ],
            [
             0.1111111111111111,
             "#46039f"
            ],
            [
             0.2222222222222222,
             "#7201a8"
            ],
            [
             0.3333333333333333,
             "#9c179e"
            ],
            [
             0.4444444444444444,
             "#bd3786"
            ],
            [
             0.5555555555555556,
             "#d8576b"
            ],
            [
             0.6666666666666666,
             "#ed7953"
            ],
            [
             0.7777777777777778,
             "#fb9f3a"
            ],
            [
             0.8888888888888888,
             "#fdca26"
            ],
            [
             1,
             "#f0f921"
            ]
           ]
          },
          "colorway": [
           "#636efa",
           "#EF553B",
           "#00cc96",
           "#ab63fa",
           "#FFA15A",
           "#19d3f3",
           "#FF6692",
           "#B6E880",
           "#FF97FF",
           "#FECB52"
          ],
          "font": {
           "color": "#2a3f5f"
          },
          "geo": {
           "bgcolor": "white",
           "lakecolor": "white",
           "landcolor": "#E5ECF6",
           "showlakes": true,
           "showland": true,
           "subunitcolor": "white"
          },
          "hoverlabel": {
           "align": "left"
          },
          "hovermode": "closest",
          "mapbox": {
           "style": "light"
          },
          "paper_bgcolor": "white",
          "plot_bgcolor": "#E5ECF6",
          "polar": {
           "angularaxis": {
            "gridcolor": "white",
            "linecolor": "white",
            "ticks": ""
           },
           "bgcolor": "#E5ECF6",
           "radialaxis": {
            "gridcolor": "white",
            "linecolor": "white",
            "ticks": ""
           }
          },
          "scene": {
           "xaxis": {
            "backgroundcolor": "#E5ECF6",
            "gridcolor": "white",
            "gridwidth": 2,
            "linecolor": "white",
            "showbackground": true,
            "ticks": "",
            "zerolinecolor": "white"
           },
           "yaxis": {
            "backgroundcolor": "#E5ECF6",
            "gridcolor": "white",
            "gridwidth": 2,
            "linecolor": "white",
            "showbackground": true,
            "ticks": "",
            "zerolinecolor": "white"
           },
           "zaxis": {
            "backgroundcolor": "#E5ECF6",
            "gridcolor": "white",
            "gridwidth": 2,
            "linecolor": "white",
            "showbackground": true,
            "ticks": "",
            "zerolinecolor": "white"
           }
          },
          "shapedefaults": {
           "line": {
            "color": "#2a3f5f"
           }
          },
          "ternary": {
           "aaxis": {
            "gridcolor": "white",
            "linecolor": "white",
            "ticks": ""
           },
           "baxis": {
            "gridcolor": "white",
            "linecolor": "white",
            "ticks": ""
           },
           "bgcolor": "#E5ECF6",
           "caxis": {
            "gridcolor": "white",
            "linecolor": "white",
            "ticks": ""
           }
          },
          "title": {
           "x": 0.05
          },
          "xaxis": {
           "automargin": true,
           "gridcolor": "white",
           "linecolor": "white",
           "ticks": "",
           "title": {
            "standoff": 15
           },
           "zerolinecolor": "white",
           "zerolinewidth": 2
          },
          "yaxis": {
           "automargin": true,
           "gridcolor": "white",
           "linecolor": "white",
           "ticks": "",
           "title": {
            "standoff": 15
           },
           "zerolinecolor": "white",
           "zerolinewidth": 2
          }
         }
        },
        "title": {
         "text": "Pre vs. Post Simulation (Sanity-flagged)"
        }
       }
      }
     },
     "metadata": {},
     "output_type": "display_data"
    },
    {
     "name": "stdout",
     "output_type": "stream",
     "text": [
      "\n",
      "--- Detailed Dataframes ---\n"
     ]
    },
    {
     "data": {
      "text/html": [
       "<div>\n",
       "<style scoped>\n",
       "    .dataframe tbody tr th:only-of-type {\n",
       "        vertical-align: middle;\n",
       "    }\n",
       "\n",
       "    .dataframe tbody tr th {\n",
       "        vertical-align: top;\n",
       "    }\n",
       "\n",
       "    .dataframe thead th {\n",
       "        text-align: right;\n",
       "    }\n",
       "</style>\n",
       "<table border=\"1\" class=\"dataframe\">\n",
       "  <thead>\n",
       "    <tr style=\"text-align: right;\">\n",
       "      <th></th>\n",
       "      <th>StaffGroup</th>\n",
       "      <th>Capacity</th>\n",
       "      <th>WSI_0_100</th>\n",
       "      <th>efficiency</th>\n",
       "      <th>days_to_close</th>\n",
       "      <th>backlog</th>\n",
       "      <th>Scenario</th>\n",
       "    </tr>\n",
       "  </thead>\n",
       "  <tbody>\n",
       "    <tr>\n",
       "      <th>0</th>\n",
       "      <td>SG-A</td>\n",
       "      <td>72.14</td>\n",
       "      <td>55.19</td>\n",
       "      <td>0.80</td>\n",
       "      <td>7.40</td>\n",
       "      <td>24.04</td>\n",
       "      <td>Post (pred)</td>\n",
       "    </tr>\n",
       "    <tr>\n",
       "      <th>1</th>\n",
       "      <td>SG-A</td>\n",
       "      <td>69.20</td>\n",
       "      <td>55.00</td>\n",
       "      <td>0.78</td>\n",
       "      <td>7.22</td>\n",
       "      <td>19.50</td>\n",
       "      <td>Pre</td>\n",
       "    </tr>\n",
       "    <tr>\n",
       "      <th>2</th>\n",
       "      <td>SG-C</td>\n",
       "      <td>58.53</td>\n",
       "      <td>57.60</td>\n",
       "      <td>0.81</td>\n",
       "      <td>6.99</td>\n",
       "      <td>23.71</td>\n",
       "      <td>Post (pred)</td>\n",
       "    </tr>\n",
       "    <tr>\n",
       "      <th>3</th>\n",
       "      <td>SG-C</td>\n",
       "      <td>64.02</td>\n",
       "      <td>56.47</td>\n",
       "      <td>0.82</td>\n",
       "      <td>6.89</td>\n",
       "      <td>18.50</td>\n",
       "      <td>Pre</td>\n",
       "    </tr>\n",
       "  </tbody>\n",
       "</table>\n",
       "</div>"
      ],
      "text/plain": [
       "  StaffGroup  Capacity  WSI_0_100  efficiency  days_to_close  backlog  \\\n",
       "0       SG-A     72.14      55.19        0.80           7.40    24.04   \n",
       "1       SG-A     69.20      55.00        0.78           7.22    19.50   \n",
       "2       SG-C     58.53      57.60        0.81           6.99    23.71   \n",
       "3       SG-C     64.02      56.47        0.82           6.89    18.50   \n",
       "\n",
       "      Scenario  \n",
       "0  Post (pred)  \n",
       "1          Pre  \n",
       "2  Post (pred)  \n",
       "3          Pre  "
      ]
     },
     "metadata": {},
     "output_type": "display_data"
    },
    {
     "name": "stdout",
     "output_type": "stream",
     "text": [
      "✅ Simulation heatmap saved to: simulation_heatmap.png\n"
     ]
    }
   ],
   "source": [
    "# --- Corrected Cell 7: Consolidated \"What-If\" Scenario ---\n",
    "print(\"This tool simulates moving employees between teams to see the projected impact.\")\n",
    "\n",
    "# 1. Define your hypothetical moves\n",
    "moves = [\n",
    "    {\"from\": \"SG-A\", \"to\": \"SG-C\", \"n\": 5}\n",
    "]\n",
    "\n",
    "# 2. Build the baseline scores dataframe needed for the pipeline\n",
    "scores_baseline = scores[[cols.date, cols.alias, \"Capacity_Score_0_100\"]].dropna().copy()\n",
    "\n",
    "# 3. Define the WSI calculation parameters\n",
    "wsi_kwargs = dict(\n",
    "    date_col=\"_date_\",\n",
    "    alias_col=\"alias\",\n",
    "    sg_col=\"StaffGroup\",\n",
    "    cap_col=\"Capacity_Score_0_100\",\n",
    "    cases_col=\"numCases\",\n",
    "    complexity_col=\"complexity\",\n",
    "    linearity_col=\"LinearityScore\",\n",
    "    sev_cols=(\"currentSev1\", \"currentSevA\", \"currentSevB\"),\n",
    "    weekend_col=\"IsClosedOnWeekend\",\n",
    "    x24_col=\"Is24X7OptedIn\",\n",
    "    baseline_window_months=12,\n",
    "    persist_window_months=8,\n",
    "    high_cap_thresh=75.0,\n",
    "    w_workload=0.30,\n",
    "    w_cap_dev=0.30,\n",
    "    w_persist=0.15,\n",
    "    w_complex=0.15,\n",
    "    w_time=0.10,\n",
    "    q_low=0.05,\n",
    "    q_high=0.95,\n",
    "    team_aggregate=\"median\",\n",
    "    distribution=\"gaussian\",\n",
    "    feature_range=(10, 100)\n",
    ")\n",
    "\n",
    "# --- NEW: Define the outcome metrics to predict ---\n",
    "modeler_targets = (\"WSI_0_100\", \"efficiency\", \"days_to_close\", \"backlog\")\n",
    "\n",
    "\n",
    "# 4. Run the consolidated simulation pipeline\n",
    "grid_pre, grid_post, combined, fig, mse_report, sanity_df = pre_post_tree_pipeline(\n",
    "    df_in=df_full,\n",
    "    scores_baseline=scores_baseline,\n",
    "    month=df_full[\"_date_\"].max().strftime(\"%Y-%m\"),\n",
    "    moves=moves,\n",
    "    compute_wsi_fn=compute_capacity_centric_wsi,\n",
    "    wsi_kwargs=wsi_kwargs,\n",
    "    targets=modeler_targets,\n",
    "    only_impacted=True,\n",
    "    team_level_post=True     # <--- NEW\n",
    ")\n",
    "\n",
    "# 6. Display the results\n",
    "print(\"\\n--- Sanity Check: Typical Metric Ranges (based on pre-move data) ---\")\n",
    "display(sanity_df)\n",
    "\n",
    "print(\"\\n--- Simulation Results: Comparing 'Before' vs. 'After' ---\")\n",
    "fig.show()\n",
    "\n",
    "print(\"\\n--- Detailed Dataframes ---\")\n",
    "display(combined)\n",
    "\n",
    "# --- ADD THIS TO SAVE THE PLOT ---\n",
    "# Define a path for the simulation heatmap\n",
    "simulation_heatmap_path = \"simulation_heatmap.png\"\n",
    "\n",
    "# Save the Plotly figure as a static image\n",
    "# You may need to run: pip install -U kaleido\n",
    "fig.write_image(simulation_heatmap_path)\n",
    "\n",
    "print(f\"✅ Simulation heatmap saved to: {simulation_heatmap_path}\")"
   ]
  },
  {
   "cell_type": "code",
   "execution_count": 11,
   "id": "7477e6fe-af68-4aba-abff-fd4e54c2a06f",
   "metadata": {},
   "outputs": [
    {
     "name": "stdout",
     "output_type": "stream",
     "text": [
      "This tool simulates moving employees between teams to see the projected impact.\n",
      "[WARN] simulate_post_capacity did not provide 'numCases'; using PRE team medians as a fallback.\n",
      "\n",
      "[DEBUG] Alias-level POST predict() input (first 12 rows):\n",
      " Capacity  numCases StaffGroup\n",
      "    72.14     41.00       SG-A\n",
      "    57.03     42.50       SG-B\n",
      "    58.53     44.50       SG-C\n",
      "    62.49     41.00       SG-D\n",
      "Rows to predict (alias-level): 4\n",
      "\n",
      "--- Sanity Check: Typical Metric Ranges (based on pre-move data) ---\n"
     ]
    },
    {
     "data": {
      "text/html": [
       "<div>\n",
       "<style scoped>\n",
       "    .dataframe tbody tr th:only-of-type {\n",
       "        vertical-align: middle;\n",
       "    }\n",
       "\n",
       "    .dataframe tbody tr th {\n",
       "        vertical-align: top;\n",
       "    }\n",
       "\n",
       "    .dataframe thead th {\n",
       "        text-align: right;\n",
       "    }\n",
       "</style>\n",
       "<table border=\"1\" class=\"dataframe\">\n",
       "  <thead>\n",
       "    <tr style=\"text-align: right;\">\n",
       "      <th></th>\n",
       "      <th>Typical Range (25th-75th percentile)</th>\n",
       "    </tr>\n",
       "    <tr>\n",
       "      <th>Metric</th>\n",
       "      <th></th>\n",
       "    </tr>\n",
       "  </thead>\n",
       "  <tbody>\n",
       "    <tr>\n",
       "      <th>Capacity</th>\n",
       "      <td>55.05 to 72.75</td>\n",
       "    </tr>\n",
       "    <tr>\n",
       "      <th>numCases</th>\n",
       "      <td>36.75 to 50.00</td>\n",
       "    </tr>\n",
       "    <tr>\n",
       "      <th>WSI_0_100</th>\n",
       "      <td>44.72 to 61.61</td>\n",
       "    </tr>\n",
       "    <tr>\n",
       "      <th>efficiency</th>\n",
       "      <td>0.76 to 0.86</td>\n",
       "    </tr>\n",
       "    <tr>\n",
       "      <th>days_to_close</th>\n",
       "      <td>5.38 to 8.71</td>\n",
       "    </tr>\n",
       "    <tr>\n",
       "      <th>backlog</th>\n",
       "      <td>15.75 to 24.00</td>\n",
       "    </tr>\n",
       "  </tbody>\n",
       "</table>\n",
       "</div>"
      ],
      "text/plain": [
       "              Typical Range (25th-75th percentile)\n",
       "Metric                                            \n",
       "Capacity                            55.05 to 72.75\n",
       "numCases                            36.75 to 50.00\n",
       "WSI_0_100                           44.72 to 61.61\n",
       "efficiency                            0.76 to 0.86\n",
       "days_to_close                         5.38 to 8.71\n",
       "backlog                             15.75 to 24.00"
      ]
     },
     "metadata": {},
     "output_type": "display_data"
    },
    {
     "name": "stdout",
     "output_type": "stream",
     "text": [
      "\n",
      "--- Simulation Results: Comparing 'Before' vs. 'After' ---\n"
     ]
    },
    {
     "data": {
      "application/vnd.plotly.v1+json": {
       "config": {
        "plotlyServerURL": "https://plot.ly"
       },
       "data": [
        {
         "colorscale": [
          [
           0,
           "rgb(0,104,55)"
          ],
          [
           0.1,
           "rgb(26,152,80)"
          ],
          [
           0.2,
           "rgb(102,189,99)"
          ],
          [
           0.3,
           "rgb(166,217,106)"
          ],
          [
           0.4,
           "rgb(217,239,139)"
          ],
          [
           0.5,
           "rgb(255,255,191)"
          ],
          [
           0.6,
           "rgb(254,224,139)"
          ],
          [
           0.7,
           "rgb(253,174,97)"
          ],
          [
           0.8,
           "rgb(244,109,67)"
          ],
          [
           0.9,
           "rgb(215,48,39)"
          ],
          [
           1,
           "rgb(165,0,38)"
          ]
         ],
         "reversescale": true,
         "text": [
          [
           "72.14",
           "61.58",
           "0.74",
           "9.41",
           "27.86"
          ],
          [
           "69.2",
           "55.0",
           "0.78",
           "7.22",
           "19.5"
          ],
          [
           "58.53",
           "51.34",
           "0.87",
           "4.77",
           "17.77"
          ],
          [
           "64.02",
           "56.46",
           "0.82",
           "6.89",
           "18.5"
          ]
         ],
         "texttemplate": "%{text}",
         "type": "heatmap",
         "x": [
          "Capacity",
          "WSI_0_100",
          "efficiency",
          "days_to_close",
          "backlog"
         ],
         "y": [
          "SG-A — Post (pred)",
          "SG-A — Pre",
          "SG-C — Post (pred)",
          "SG-C — Pre"
         ],
         "z": {
          "bdata": "cT0K12m04z9xPQrXabTjP3E9CtdptOM/cT0K12m04z9xPQrXabTjP5qZmZmZmeE/mpmZmZmZ4T+amZmZmZnhP5qZmZmZmeE/mpmZmZmZ4T+kcD0KAW7gP6RwPQoBbuA/pHA9CgFu4D+kcD0KAW7gP6RwPQoBbuA//fZ14JwR4j/99nXgnBHiP/32deCcEeI//fZ14JwR4j/99nXgnBHiPw==",
          "dtype": "f8",
          "shape": "4, 5"
         }
        }
       ],
       "layout": {
        "margin": {
         "l": 140,
         "t": 80
        },
        "template": {
         "data": {
          "bar": [
           {
            "error_x": {
             "color": "#2a3f5f"
            },
            "error_y": {
             "color": "#2a3f5f"
            },
            "marker": {
             "line": {
              "color": "#E5ECF6",
              "width": 0.5
             },
             "pattern": {
              "fillmode": "overlay",
              "size": 10,
              "solidity": 0.2
             }
            },
            "type": "bar"
           }
          ],
          "barpolar": [
           {
            "marker": {
             "line": {
              "color": "#E5ECF6",
              "width": 0.5
             },
             "pattern": {
              "fillmode": "overlay",
              "size": 10,
              "solidity": 0.2
             }
            },
            "type": "barpolar"
           }
          ],
          "carpet": [
           {
            "aaxis": {
             "endlinecolor": "#2a3f5f",
             "gridcolor": "white",
             "linecolor": "white",
             "minorgridcolor": "white",
             "startlinecolor": "#2a3f5f"
            },
            "baxis": {
             "endlinecolor": "#2a3f5f",
             "gridcolor": "white",
             "linecolor": "white",
             "minorgridcolor": "white",
             "startlinecolor": "#2a3f5f"
            },
            "type": "carpet"
           }
          ],
          "choropleth": [
           {
            "colorbar": {
             "outlinewidth": 0,
             "ticks": ""
            },
            "type": "choropleth"
           }
          ],
          "contour": [
           {
            "colorbar": {
             "outlinewidth": 0,
             "ticks": ""
            },
            "colorscale": [
             [
              0,
              "#0d0887"
             ],
             [
              0.1111111111111111,
              "#46039f"
             ],
             [
              0.2222222222222222,
              "#7201a8"
             ],
             [
              0.3333333333333333,
              "#9c179e"
             ],
             [
              0.4444444444444444,
              "#bd3786"
             ],
             [
              0.5555555555555556,
              "#d8576b"
             ],
             [
              0.6666666666666666,
              "#ed7953"
             ],
             [
              0.7777777777777778,
              "#fb9f3a"
             ],
             [
              0.8888888888888888,
              "#fdca26"
             ],
             [
              1,
              "#f0f921"
             ]
            ],
            "type": "contour"
           }
          ],
          "contourcarpet": [
           {
            "colorbar": {
             "outlinewidth": 0,
             "ticks": ""
            },
            "type": "contourcarpet"
           }
          ],
          "heatmap": [
           {
            "colorbar": {
             "outlinewidth": 0,
             "ticks": ""
            },
            "colorscale": [
             [
              0,
              "#0d0887"
             ],
             [
              0.1111111111111111,
              "#46039f"
             ],
             [
              0.2222222222222222,
              "#7201a8"
             ],
             [
              0.3333333333333333,
              "#9c179e"
             ],
             [
              0.4444444444444444,
              "#bd3786"
             ],
             [
              0.5555555555555556,
              "#d8576b"
             ],
             [
              0.6666666666666666,
              "#ed7953"
             ],
             [
              0.7777777777777778,
              "#fb9f3a"
             ],
             [
              0.8888888888888888,
              "#fdca26"
             ],
             [
              1,
              "#f0f921"
             ]
            ],
            "type": "heatmap"
           }
          ],
          "histogram": [
           {
            "marker": {
             "pattern": {
              "fillmode": "overlay",
              "size": 10,
              "solidity": 0.2
             }
            },
            "type": "histogram"
           }
          ],
          "histogram2d": [
           {
            "colorbar": {
             "outlinewidth": 0,
             "ticks": ""
            },
            "colorscale": [
             [
              0,
              "#0d0887"
             ],
             [
              0.1111111111111111,
              "#46039f"
             ],
             [
              0.2222222222222222,
              "#7201a8"
             ],
             [
              0.3333333333333333,
              "#9c179e"
             ],
             [
              0.4444444444444444,
              "#bd3786"
             ],
             [
              0.5555555555555556,
              "#d8576b"
             ],
             [
              0.6666666666666666,
              "#ed7953"
             ],
             [
              0.7777777777777778,
              "#fb9f3a"
             ],
             [
              0.8888888888888888,
              "#fdca26"
             ],
             [
              1,
              "#f0f921"
             ]
            ],
            "type": "histogram2d"
           }
          ],
          "histogram2dcontour": [
           {
            "colorbar": {
             "outlinewidth": 0,
             "ticks": ""
            },
            "colorscale": [
             [
              0,
              "#0d0887"
             ],
             [
              0.1111111111111111,
              "#46039f"
             ],
             [
              0.2222222222222222,
              "#7201a8"
             ],
             [
              0.3333333333333333,
              "#9c179e"
             ],
             [
              0.4444444444444444,
              "#bd3786"
             ],
             [
              0.5555555555555556,
              "#d8576b"
             ],
             [
              0.6666666666666666,
              "#ed7953"
             ],
             [
              0.7777777777777778,
              "#fb9f3a"
             ],
             [
              0.8888888888888888,
              "#fdca26"
             ],
             [
              1,
              "#f0f921"
             ]
            ],
            "type": "histogram2dcontour"
           }
          ],
          "mesh3d": [
           {
            "colorbar": {
             "outlinewidth": 0,
             "ticks": ""
            },
            "type": "mesh3d"
           }
          ],
          "parcoords": [
           {
            "line": {
             "colorbar": {
              "outlinewidth": 0,
              "ticks": ""
             }
            },
            "type": "parcoords"
           }
          ],
          "pie": [
           {
            "automargin": true,
            "type": "pie"
           }
          ],
          "scatter": [
           {
            "fillpattern": {
             "fillmode": "overlay",
             "size": 10,
             "solidity": 0.2
            },
            "type": "scatter"
           }
          ],
          "scatter3d": [
           {
            "line": {
             "colorbar": {
              "outlinewidth": 0,
              "ticks": ""
             }
            },
            "marker": {
             "colorbar": {
              "outlinewidth": 0,
              "ticks": ""
             }
            },
            "type": "scatter3d"
           }
          ],
          "scattercarpet": [
           {
            "marker": {
             "colorbar": {
              "outlinewidth": 0,
              "ticks": ""
             }
            },
            "type": "scattercarpet"
           }
          ],
          "scattergeo": [
           {
            "marker": {
             "colorbar": {
              "outlinewidth": 0,
              "ticks": ""
             }
            },
            "type": "scattergeo"
           }
          ],
          "scattergl": [
           {
            "marker": {
             "colorbar": {
              "outlinewidth": 0,
              "ticks": ""
             }
            },
            "type": "scattergl"
           }
          ],
          "scattermap": [
           {
            "marker": {
             "colorbar": {
              "outlinewidth": 0,
              "ticks": ""
             }
            },
            "type": "scattermap"
           }
          ],
          "scattermapbox": [
           {
            "marker": {
             "colorbar": {
              "outlinewidth": 0,
              "ticks": ""
             }
            },
            "type": "scattermapbox"
           }
          ],
          "scatterpolar": [
           {
            "marker": {
             "colorbar": {
              "outlinewidth": 0,
              "ticks": ""
             }
            },
            "type": "scatterpolar"
           }
          ],
          "scatterpolargl": [
           {
            "marker": {
             "colorbar": {
              "outlinewidth": 0,
              "ticks": ""
             }
            },
            "type": "scatterpolargl"
           }
          ],
          "scatterternary": [
           {
            "marker": {
             "colorbar": {
              "outlinewidth": 0,
              "ticks": ""
             }
            },
            "type": "scatterternary"
           }
          ],
          "surface": [
           {
            "colorbar": {
             "outlinewidth": 0,
             "ticks": ""
            },
            "colorscale": [
             [
              0,
              "#0d0887"
             ],
             [
              0.1111111111111111,
              "#46039f"
             ],
             [
              0.2222222222222222,
              "#7201a8"
             ],
             [
              0.3333333333333333,
              "#9c179e"
             ],
             [
              0.4444444444444444,
              "#bd3786"
             ],
             [
              0.5555555555555556,
              "#d8576b"
             ],
             [
              0.6666666666666666,
              "#ed7953"
             ],
             [
              0.7777777777777778,
              "#fb9f3a"
             ],
             [
              0.8888888888888888,
              "#fdca26"
             ],
             [
              1,
              "#f0f921"
             ]
            ],
            "type": "surface"
           }
          ],
          "table": [
           {
            "cells": {
             "fill": {
              "color": "#EBF0F8"
             },
             "line": {
              "color": "white"
             }
            },
            "header": {
             "fill": {
              "color": "#C8D4E3"
             },
             "line": {
              "color": "white"
             }
            },
            "type": "table"
           }
          ]
         },
         "layout": {
          "annotationdefaults": {
           "arrowcolor": "#2a3f5f",
           "arrowhead": 0,
           "arrowwidth": 1
          },
          "autotypenumbers": "strict",
          "coloraxis": {
           "colorbar": {
            "outlinewidth": 0,
            "ticks": ""
           }
          },
          "colorscale": {
           "diverging": [
            [
             0,
             "#8e0152"
            ],
            [
             0.1,
             "#c51b7d"
            ],
            [
             0.2,
             "#de77ae"
            ],
            [
             0.3,
             "#f1b6da"
            ],
            [
             0.4,
             "#fde0ef"
            ],
            [
             0.5,
             "#f7f7f7"
            ],
            [
             0.6,
             "#e6f5d0"
            ],
            [
             0.7,
             "#b8e186"
            ],
            [
             0.8,
             "#7fbc41"
            ],
            [
             0.9,
             "#4d9221"
            ],
            [
             1,
             "#276419"
            ]
           ],
           "sequential": [
            [
             0,
             "#0d0887"
            ],
            [
             0.1111111111111111,
             "#46039f"
            ],
            [
             0.2222222222222222,
             "#7201a8"
            ],
            [
             0.3333333333333333,
             "#9c179e"
            ],
            [
             0.4444444444444444,
             "#bd3786"
            ],
            [
             0.5555555555555556,
             "#d8576b"
            ],
            [
             0.6666666666666666,
             "#ed7953"
            ],
            [
             0.7777777777777778,
             "#fb9f3a"
            ],
            [
             0.8888888888888888,
             "#fdca26"
            ],
            [
             1,
             "#f0f921"
            ]
           ],
           "sequentialminus": [
            [
             0,
             "#0d0887"
            ],
            [
             0.1111111111111111,
             "#46039f"
            ],
            [
             0.2222222222222222,
             "#7201a8"
            ],
            [
             0.3333333333333333,
             "#9c179e"
            ],
            [
             0.4444444444444444,
             "#bd3786"
            ],
            [
             0.5555555555555556,
             "#d8576b"
            ],
            [
             0.6666666666666666,
             "#ed7953"
            ],
            [
             0.7777777777777778,
             "#fb9f3a"
            ],
            [
             0.8888888888888888,
             "#fdca26"
            ],
            [
             1,
             "#f0f921"
            ]
           ]
          },
          "colorway": [
           "#636efa",
           "#EF553B",
           "#00cc96",
           "#ab63fa",
           "#FFA15A",
           "#19d3f3",
           "#FF6692",
           "#B6E880",
           "#FF97FF",
           "#FECB52"
          ],
          "font": {
           "color": "#2a3f5f"
          },
          "geo": {
           "bgcolor": "white",
           "lakecolor": "white",
           "landcolor": "#E5ECF6",
           "showlakes": true,
           "showland": true,
           "subunitcolor": "white"
          },
          "hoverlabel": {
           "align": "left"
          },
          "hovermode": "closest",
          "mapbox": {
           "style": "light"
          },
          "paper_bgcolor": "white",
          "plot_bgcolor": "#E5ECF6",
          "polar": {
           "angularaxis": {
            "gridcolor": "white",
            "linecolor": "white",
            "ticks": ""
           },
           "bgcolor": "#E5ECF6",
           "radialaxis": {
            "gridcolor": "white",
            "linecolor": "white",
            "ticks": ""
           }
          },
          "scene": {
           "xaxis": {
            "backgroundcolor": "#E5ECF6",
            "gridcolor": "white",
            "gridwidth": 2,
            "linecolor": "white",
            "showbackground": true,
            "ticks": "",
            "zerolinecolor": "white"
           },
           "yaxis": {
            "backgroundcolor": "#E5ECF6",
            "gridcolor": "white",
            "gridwidth": 2,
            "linecolor": "white",
            "showbackground": true,
            "ticks": "",
            "zerolinecolor": "white"
           },
           "zaxis": {
            "backgroundcolor": "#E5ECF6",
            "gridcolor": "white",
            "gridwidth": 2,
            "linecolor": "white",
            "showbackground": true,
            "ticks": "",
            "zerolinecolor": "white"
           }
          },
          "shapedefaults": {
           "line": {
            "color": "#2a3f5f"
           }
          },
          "ternary": {
           "aaxis": {
            "gridcolor": "white",
            "linecolor": "white",
            "ticks": ""
           },
           "baxis": {
            "gridcolor": "white",
            "linecolor": "white",
            "ticks": ""
           },
           "bgcolor": "#E5ECF6",
           "caxis": {
            "gridcolor": "white",
            "linecolor": "white",
            "ticks": ""
           }
          },
          "title": {
           "x": 0.05
          },
          "xaxis": {
           "automargin": true,
           "gridcolor": "white",
           "linecolor": "white",
           "ticks": "",
           "title": {
            "standoff": 15
           },
           "zerolinecolor": "white",
           "zerolinewidth": 2
          },
          "yaxis": {
           "automargin": true,
           "gridcolor": "white",
           "linecolor": "white",
           "ticks": "",
           "title": {
            "standoff": 15
           },
           "zerolinecolor": "white",
           "zerolinewidth": 2
          }
         }
        },
        "title": {
         "text": "Pre vs. Post Simulation (Cap + numCases)"
        }
       }
      }
     },
     "metadata": {},
     "output_type": "display_data"
    },
    {
     "name": "stdout",
     "output_type": "stream",
     "text": [
      "\n",
      "--- Detailed Dataframes ---\n"
     ]
    },
    {
     "data": {
      "text/html": [
       "<div>\n",
       "<style scoped>\n",
       "    .dataframe tbody tr th:only-of-type {\n",
       "        vertical-align: middle;\n",
       "    }\n",
       "\n",
       "    .dataframe tbody tr th {\n",
       "        vertical-align: top;\n",
       "    }\n",
       "\n",
       "    .dataframe thead th {\n",
       "        text-align: right;\n",
       "    }\n",
       "</style>\n",
       "<table border=\"1\" class=\"dataframe\">\n",
       "  <thead>\n",
       "    <tr style=\"text-align: right;\">\n",
       "      <th></th>\n",
       "      <th>StaffGroup</th>\n",
       "      <th>Capacity</th>\n",
       "      <th>numCases</th>\n",
       "      <th>WSI_0_100</th>\n",
       "      <th>efficiency</th>\n",
       "      <th>days_to_close</th>\n",
       "      <th>backlog</th>\n",
       "      <th>Scenario</th>\n",
       "    </tr>\n",
       "  </thead>\n",
       "  <tbody>\n",
       "    <tr>\n",
       "      <th>0</th>\n",
       "      <td>SG-A</td>\n",
       "      <td>72.14</td>\n",
       "      <td>41.00</td>\n",
       "      <td>61.58</td>\n",
       "      <td>0.74</td>\n",
       "      <td>9.41</td>\n",
       "      <td>27.86</td>\n",
       "      <td>Post (pred)</td>\n",
       "    </tr>\n",
       "    <tr>\n",
       "      <th>1</th>\n",
       "      <td>SG-A</td>\n",
       "      <td>69.20</td>\n",
       "      <td>41.00</td>\n",
       "      <td>55.00</td>\n",
       "      <td>0.78</td>\n",
       "      <td>7.22</td>\n",
       "      <td>19.50</td>\n",
       "      <td>Pre</td>\n",
       "    </tr>\n",
       "    <tr>\n",
       "      <th>2</th>\n",
       "      <td>SG-C</td>\n",
       "      <td>58.53</td>\n",
       "      <td>44.50</td>\n",
       "      <td>51.34</td>\n",
       "      <td>0.87</td>\n",
       "      <td>4.77</td>\n",
       "      <td>17.77</td>\n",
       "      <td>Post (pred)</td>\n",
       "    </tr>\n",
       "    <tr>\n",
       "      <th>3</th>\n",
       "      <td>SG-C</td>\n",
       "      <td>64.02</td>\n",
       "      <td>44.50</td>\n",
       "      <td>56.47</td>\n",
       "      <td>0.82</td>\n",
       "      <td>6.89</td>\n",
       "      <td>18.50</td>\n",
       "      <td>Pre</td>\n",
       "    </tr>\n",
       "  </tbody>\n",
       "</table>\n",
       "</div>"
      ],
      "text/plain": [
       "  StaffGroup  Capacity  numCases  WSI_0_100  efficiency  days_to_close  \\\n",
       "0       SG-A     72.14     41.00      61.58        0.74           9.41   \n",
       "1       SG-A     69.20     41.00      55.00        0.78           7.22   \n",
       "2       SG-C     58.53     44.50      51.34        0.87           4.77   \n",
       "3       SG-C     64.02     44.50      56.47        0.82           6.89   \n",
       "\n",
       "   backlog     Scenario  \n",
       "0    27.86  Post (pred)  \n",
       "1    19.50          Pre  \n",
       "2    17.77  Post (pred)  \n",
       "3    18.50          Pre  "
      ]
     },
     "metadata": {},
     "output_type": "display_data"
    },
    {
     "name": "stdout",
     "output_type": "stream",
     "text": [
      "✅ Simulation heatmap saved to: simulation_heatmap.png\n"
     ]
    }
   ],
   "source": [
    "# --- Corrected Cell 7: Consolidated \"What-If\" Scenario ---\n",
    "print(\"This tool simulates moving employees between teams to see the projected impact.\")\n",
    "\n",
    "# 1. Define your hypothetical moves\n",
    "moves = [\n",
    "    {\"from\": \"SG-A\", \"to\": \"SG-C\", \"n\": 5}\n",
    "]\n",
    "\n",
    "# 2. Build the baseline scores dataframe needed for the pipeline\n",
    "scores_baseline = scores[[cols.date, cols.alias, \"Capacity_Score_0_100\"]].dropna().copy()\n",
    "\n",
    "# 3. Define the WSI calculation parameters\n",
    "wsi_kwargs = dict(\n",
    "    date_col=\"_date_\",\n",
    "    alias_col=\"alias\",\n",
    "    sg_col=\"StaffGroup\",\n",
    "    cap_col=\"Capacity_Score_0_100\",\n",
    "    cases_col=\"numCases\",\n",
    "    complexity_col=\"complexity\",\n",
    "    linearity_col=\"LinearityScore\",\n",
    "    sev_cols=(\"currentSev1\", \"currentSevA\", \"currentSevB\"),\n",
    "    weekend_col=\"IsClosedOnWeekend\",\n",
    "    x24_col=\"Is24X7OptedIn\",\n",
    "    baseline_window_months=12,\n",
    "    persist_window_months=8,\n",
    "    high_cap_thresh=75.0,\n",
    "    w_workload=0.30,\n",
    "    w_cap_dev=0.30,\n",
    "    w_persist=0.15,\n",
    "    w_complex=0.15,\n",
    "    w_time=0.10,\n",
    "    q_low=0.05,\n",
    "    q_high=0.95,\n",
    "    team_aggregate=\"median\",\n",
    "    distribution=\"gaussian\",\n",
    "    feature_range=(10, 100)\n",
    ")\n",
    "\n",
    "# --- NEW: Define the outcome metrics to predict ---\n",
    "modeler_targets = (\"WSI_0_100\", \"efficiency\", \"days_to_close\", \"backlog\")\n",
    "\n",
    "\n",
    "# 4. Run the consolidated simulation pipeline\n",
    "grid_pre, grid_post, combined, fig, mse_report, sanity_df = pre_post_tree_pipeline_cap_cases(\n",
    "    df_in=df_full,\n",
    "    scores_baseline=scores_baseline,\n",
    "    month=df_full[\"_date_\"].max().strftime(\"%Y-%m\"),\n",
    "    moves=moves,\n",
    "    compute_wsi_fn=compute_capacity_centric_wsi,\n",
    "    wsi_kwargs=wsi_kwargs,\n",
    "    targets=(\"WSI_0_100\",\"efficiency\",\"days_to_close\",\"backlog\"),\n",
    "    only_impacted=True,\n",
    "    team_level_post=False,     # alias-level by default (median to team)\n",
    "    show_predict_samples=True  # see the exact X used by .predict()\n",
    ")\n",
    "\n",
    "# 6. Display the results\n",
    "print(\"\\n--- Sanity Check: Typical Metric Ranges (based on pre-move data) ---\")\n",
    "display(sanity_df)\n",
    "\n",
    "print(\"\\n--- Simulation Results: Comparing 'Before' vs. 'After' ---\")\n",
    "fig.show()\n",
    "\n",
    "print(\"\\n--- Detailed Dataframes ---\")\n",
    "display(combined)\n",
    "\n",
    "# --- ADD THIS TO SAVE THE PLOT ---\n",
    "# Define a path for the simulation heatmap\n",
    "simulation_heatmap_path = \"simulation_heatmap.png\"\n",
    "\n",
    "# Save the Plotly figure as a static image\n",
    "# You may need to run: pip install -U kaleido\n",
    "fig.write_image(simulation_heatmap_path)\n",
    "\n",
    "print(f\"✅ Simulation heatmap saved to: {simulation_heatmap_path}\")"
   ]
  },
  {
   "cell_type": "code",
   "execution_count": 12,
   "id": "8007d60b-dc48-46d5-a832-f3108fa55789",
   "metadata": {},
   "outputs": [
    {
     "name": "stdout",
     "output_type": "stream",
     "text": [
      "This analysis simulates the impact of improving employee capacity by moving staff between performance buckets.\n",
      "Running with flexible move plan:\n",
      "- Moving 1 employees from bucket '25-50' to '75-100'\n",
      "- Moving 12 employees from bucket '50-75' to '75-100'\n",
      "\n",
      "--- Bucket Uplift Summary ---\n"
     ]
    },
    {
     "data": {
      "text/html": [
       "<div>\n",
       "<style scoped>\n",
       "    .dataframe tbody tr th:only-of-type {\n",
       "        vertical-align: middle;\n",
       "    }\n",
       "\n",
       "    .dataframe tbody tr th {\n",
       "        vertical-align: top;\n",
       "    }\n",
       "\n",
       "    .dataframe thead th {\n",
       "        text-align: right;\n",
       "    }\n",
       "</style>\n",
       "<table border=\"1\" class=\"dataframe\">\n",
       "  <thead>\n",
       "    <tr style=\"text-align: right;\">\n",
       "      <th></th>\n",
       "      <th>bucket</th>\n",
       "      <th>aliases</th>\n",
       "      <th>nc_median</th>\n",
       "      <th>pct</th>\n",
       "      <th>moved_in</th>\n",
       "      <th>new_cases_bucket</th>\n",
       "      <th>original_cases_handled</th>\n",
       "      <th>net_incremental_cases</th>\n",
       "    </tr>\n",
       "  </thead>\n",
       "  <tbody>\n",
       "    <tr>\n",
       "      <th>0</th>\n",
       "      <td>0-25</td>\n",
       "      <td>0</td>\n",
       "      <td>NaN</td>\n",
       "      <td>0.00</td>\n",
       "      <td>0</td>\n",
       "      <td>0.00</td>\n",
       "      <td>0.00</td>\n",
       "      <td>0.00</td>\n",
       "    </tr>\n",
       "    <tr>\n",
       "      <th>1</th>\n",
       "      <td>25-50</td>\n",
       "      <td>16</td>\n",
       "      <td>36.00</td>\n",
       "      <td>13.33</td>\n",
       "      <td>0</td>\n",
       "      <td>0.00</td>\n",
       "      <td>0.00</td>\n",
       "      <td>0.00</td>\n",
       "    </tr>\n",
       "    <tr>\n",
       "      <th>2</th>\n",
       "      <td>50-75</td>\n",
       "      <td>84</td>\n",
       "      <td>41.50</td>\n",
       "      <td>70.00</td>\n",
       "      <td>0</td>\n",
       "      <td>0.00</td>\n",
       "      <td>0.00</td>\n",
       "      <td>0.00</td>\n",
       "    </tr>\n",
       "    <tr>\n",
       "      <th>3</th>\n",
       "      <td>75-100</td>\n",
       "      <td>20</td>\n",
       "      <td>59.50</td>\n",
       "      <td>16.67</td>\n",
       "      <td>13</td>\n",
       "      <td>773.50</td>\n",
       "      <td>534.00</td>\n",
       "      <td>239.50</td>\n",
       "    </tr>\n",
       "    <tr>\n",
       "      <th>4</th>\n",
       "      <td>TOTAL</td>\n",
       "      <td>120</td>\n",
       "      <td>NaN</td>\n",
       "      <td>100.00</td>\n",
       "      <td>13</td>\n",
       "      <td>773.50</td>\n",
       "      <td>534.00</td>\n",
       "      <td>239.50</td>\n",
       "    </tr>\n",
       "  </tbody>\n",
       "</table>\n",
       "</div>"
      ],
      "text/plain": [
       "   bucket  aliases  nc_median    pct  moved_in  new_cases_bucket  \\\n",
       "0    0-25        0        NaN   0.00         0              0.00   \n",
       "1   25-50       16      36.00  13.33         0              0.00   \n",
       "2   50-75       84      41.50  70.00         0              0.00   \n",
       "3  75-100       20      59.50  16.67        13            773.50   \n",
       "4   TOTAL      120        NaN 100.00        13            773.50   \n",
       "\n",
       "   original_cases_handled  net_incremental_cases  \n",
       "0                    0.00                   0.00  \n",
       "1                    0.00                   0.00  \n",
       "2                    0.00                   0.00  \n",
       "3                  534.00                 239.50  \n",
       "4                  534.00                 239.50  "
      ]
     },
     "metadata": {},
     "output_type": "display_data"
    },
    {
     "name": "stdout",
     "output_type": "stream",
     "text": [
      "✅ Volume uplift plot saved to: total_volume_uplift_distribution.png\n"
     ]
    },
    {
     "data": {
      "image/png": "[encoded data removed]",
      "text/plain": [
       "<Figure size 1000x600 with 1 Axes>"
      ]
     },
     "metadata": {},
     "output_type": "display_data"
    },
    {
     "name": "stdout",
     "output_type": "stream",
     "text": [
      "\n",
      "--- Sanity Check Calculation ---\n",
      "Total 'numCases' Before Simulation: 5,282.00\n",
      "Total 'numCases' After Simulation:  5,515.50\n",
      "Total Simulated Uplift:             233.50\n"
     ]
    }
   ],
   "source": [
    "# --- Corrected Cell: 📈 Consolidated & Flexible Bucket Uplift Analysis ---\n",
    "\n",
    "import numpy as np\n",
    "import pandas as pd\n",
    "from typing import List, Dict\n",
    "\n",
    "print(\"This analysis simulates the impact of improving employee capacity by moving staff between performance buckets.\")\n",
    "\n",
    "def run_bucket_uplift_analysis(\n",
    "    alias_metrics_df: pd.DataFrame,\n",
    "    cap_edges: List[float] = [0, 25, 50, 75, 100],\n",
    "    moves: List[Dict] = None\n",
    "):\n",
    "    \"\"\"\n",
    "    Performs a flexible uplift analysis, returning both an aggregate summary\n",
    "    and the detailed 'before' and 'after' dataframes for plotting.\n",
    "    \"\"\"\n",
    "    if moves is None:\n",
    "        moves = []\n",
    "\n",
    "    df = alias_metrics_df.copy()\n",
    "    cap_labels = [f\"{int(cap_edges[i])}-{int(cap_edges[i+1])}\" for i in range(len(cap_edges)-1)]\n",
    "\n",
    "    # 1. Assign employees to initial capacity buckets\n",
    "    df[\"bucket\"] = pd.cut(df['Capacity_Score_0_100'], bins=cap_edges, labels=cap_labels, include_lowest=True)\n",
    "\n",
    "    # 2. Create the 'before' and 'after' dataframes for simulation\n",
    "    pre_volume_df = df.copy()\n",
    "    post_volume_df = df.copy()\n",
    "\n",
    "    # 3. Get initial stats for the summary table\n",
    "    stats = df.groupby(\"bucket\", observed=False).agg(\n",
    "        aliases=(\"alias\", \"nunique\"),\n",
    "        nc_median=(\"numCases\", \"median\")\n",
    "    ).reindex(cap_labels).reset_index()\n",
    "\n",
    "    # 4. Run the simulation\n",
    "    print(\"Running with flexible move plan:\")\n",
    "    for move in moves:\n",
    "        source_idx, dest_idx, pct = move.get('from'), move.get('to'), move.get('pct')\n",
    "        if any(v is None for v in [source_idx, dest_idx, pct]) or not (0 <= source_idx < len(stats) and 0 <= dest_idx < len(stats)):\n",
    "            continue\n",
    "\n",
    "        aliases_to_move_from = df[df['bucket'] == cap_labels[source_idx]]['alias'].unique()\n",
    "        n_to_move = int(np.floor(len(aliases_to_move_from) * pct))\n",
    "\n",
    "        if n_to_move > 0:\n",
    "            print(f\"- Moving {n_to_move} employees from bucket '{cap_labels[source_idx]}' to '{cap_labels[dest_idx]}'\")\n",
    "            moved_aliases = np.random.choice(aliases_to_move_from, size=n_to_move, replace=False)\n",
    "            \n",
    "            # Update the 'numCases' in the post-simulation dataframe\n",
    "            target_median = stats.loc[dest_idx, \"nc_median\"]\n",
    "            if pd.notna(target_median):\n",
    "                post_volume_df.loc[post_volume_df['alias'].isin(moved_aliases), 'numCases'] = target_median\n",
    "\n",
    "    # 5. Generate the summary table based on the simulation plan\n",
    "    summary_stats = stats.copy()\n",
    "    summary_stats[\"moved_in\"], summary_stats[\"new_cases_bucket\"], summary_stats[\"original_cases_handled\"] = 0, 0.0, 0.0\n",
    "\n",
    "    for move in moves:\n",
    "        source_idx, dest_idx, pct = move.get('from'), move.get('to'), move.get('pct')\n",
    "        if any(v is None for v in [source_idx, dest_idx, pct]) or not (0 <= source_idx < len(summary_stats) and 0 <= dest_idx < len(summary_stats)):\n",
    "            continue\n",
    "        \n",
    "        num_moving = int(np.floor(summary_stats.loc[source_idx, \"aliases\"] * pct))\n",
    "        if num_moving > 0:\n",
    "            summary_stats.loc[dest_idx, \"moved_in\"] += num_moving\n",
    "            summary_stats.loc[dest_idx, \"original_cases_handled\"] += num_moving * summary_stats.loc[source_idx, \"nc_median\"]\n",
    "            summary_stats.loc[dest_idx, \"new_cases_bucket\"] += num_moving * summary_stats.loc[dest_idx, \"nc_median\"]\n",
    "\n",
    "    summary_stats[\"net_incremental_cases\"] = summary_stats[\"new_cases_bucket\"] - summary_stats[\"original_cases_handled\"]\n",
    "    summary_stats[\"pct\"] = (summary_stats[\"aliases\"] / max(1, summary_stats[\"aliases\"].sum()) * 100).round(2)\n",
    "    \n",
    "    total_row = pd.DataFrame([{\n",
    "        \"bucket\": \"TOTAL\", \"aliases\": int(summary_stats[\"aliases\"].sum()), \"pct\": 100.0,\n",
    "        \"moved_in\": int(summary_stats[\"moved_in\"].sum()),\n",
    "        \"new_cases_bucket\": float(summary_stats[\"new_cases_bucket\"].sum()),\n",
    "        \"original_cases_handled\": float(summary_stats[\"original_cases_handled\"].sum()),\n",
    "        \"net_incremental_cases\": float(summary_stats[\"net_incremental_cases\"].sum())\n",
    "    }])\n",
    "    \n",
    "    display_cols = [\"bucket\", \"aliases\", \"nc_median\", \"pct\", \"moved_in\", \"new_cases_bucket\", \"original_cases_handled\", \"net_incremental_cases\"]\n",
    "    summary_df = pd.concat([summary_stats, total_row], ignore_index=True)[display_cols]\n",
    "    \n",
    "    return summary_df, pre_volume_df, post_volume_df\n",
    "\n",
    "# --- Run the Analysis ---\n",
    "uplift_input_df = df_scored[df_scored['_date_'] == df_scored['_date_'].max()].merge(\n",
    "    alias_metrics[['_date_', 'alias', 'WSI_0_100']], on=['_date_', 'alias']\n",
    ")\n",
    "\n",
    "# Define your flexible moves\n",
    "flexible_moves = [\n",
    "    {\"from\": 0, \"to\": 2, \"pct\": 0.15},\n",
    "    {\"from\": 1, \"to\": 3, \"pct\": 0.10},\n",
    "    {\"from\": 2, \"to\": 3, \"pct\": 0.15},\n",
    "    {\"from\": 0, \"to\": 3, \"pct\": 0.15}\n",
    "]\n",
    "\n",
    "# A single function call now provides all three results\n",
    "bucket_uplift_summary, pre_volume_df, post_volume_df = run_bucket_uplift_analysis(\n",
    "    uplift_input_df,\n",
    "    moves=flexible_moves\n",
    ")\n",
    "\n",
    "# --- Display the Summary Table ---\n",
    "print(\"\\n--- Bucket Uplift Summary ---\")\n",
    "display(bucket_uplift_summary)\n",
    "\n",
    "# --- Plot the Distribution ---\n",
    "volume_dist_path = \"total_volume_uplift_distribution.png\"\n",
    "plot_volume_uplift_distributions(\n",
    "    pre_df=pre_volume_df,\n",
    "    post_df=post_volume_df,\n",
    "    metric='numCases',\n",
    "    save_path=volume_dist_path\n",
    ")\n",
    "saved_plots[\"[INSERT TOTAL VOLUME UPLIFT DISTRIBUTION PLOT HERE]\"] = volume_dist_path\n",
    "\n",
    "# --- Run the Sanity Check ---\n",
    "sum_before = pre_volume_df['numCases'].sum()\n",
    "sum_after = post_volume_df['numCases'].sum()\n",
    "simulated_uplift = sum_after - post_volume_df['numCases'][post_volume_df['alias'].isin(pre_volume_df['alias']) == False].sum()\n",
    "\n",
    "\n",
    "print(f\"\\n--- Sanity Check Calculation ---\")\n",
    "print(f\"Total 'numCases' Before Simulation: {sum_before:,.2f}\")\n",
    "print(f\"Total 'numCases' After Simulation:  {sum_after:,.2f}\")\n",
    "print(f\"Total Simulated Uplift:             {sum_after - sum_before:,.2f}\")\n",
    "\n"
   ]
  },
  {
   "cell_type": "code",
   "execution_count": 13,
   "id": "d6b43835-b418-44cc-9c3c-7e77625eb21e",
   "metadata": {},
   "outputs": [
    {
     "name": "stdout",
     "output_type": "stream",
     "text": [
      "This analysis segments employees into four performance categories based on their Capacity and WSI scores.\n",
      "\n",
      "--- Quadrant Analysis for ALL Groups ---\n",
      "✅ Plot saved to: quadrant_all_groups.png\n"
     ]
    },
    {
     "data": {
      "image/png": "[encoded data removed]",
      "text/plain": [
       "<Figure size 800x500 with 1 Axes>"
      ]
     },
     "metadata": {},
     "output_type": "display_data"
    },
    {
     "data": {
      "text/html": [
       "<div>\n",
       "<style scoped>\n",
       "    .dataframe tbody tr th:only-of-type {\n",
       "        vertical-align: middle;\n",
       "    }\n",
       "\n",
       "    .dataframe tbody tr th {\n",
       "        vertical-align: top;\n",
       "    }\n",
       "\n",
       "    .dataframe thead th {\n",
       "        text-align: right;\n",
       "    }\n",
       "</style>\n",
       "<table border=\"1\" class=\"dataframe\">\n",
       "  <thead>\n",
       "    <tr style=\"text-align: right;\">\n",
       "      <th>WSI Level</th>\n",
       "      <th>Low WSI</th>\n",
       "      <th>High WSI</th>\n",
       "    </tr>\n",
       "    <tr>\n",
       "      <th>Capacity Level</th>\n",
       "      <th></th>\n",
       "      <th></th>\n",
       "    </tr>\n",
       "  </thead>\n",
       "  <tbody>\n",
       "    <tr>\n",
       "      <th>High Capacity</th>\n",
       "      <td>11\\n(9.2%)</td>\n",
       "      <td>49\\n(40.8%)</td>\n",
       "    </tr>\n",
       "    <tr>\n",
       "      <th>Low Capacity</th>\n",
       "      <td>49\\n(40.8%)</td>\n",
       "      <td>11\\n(9.2%)</td>\n",
       "    </tr>\n",
       "  </tbody>\n",
       "</table>\n",
       "</div>"
      ],
      "text/plain": [
       "WSI Level           Low WSI     High WSI\n",
       "Capacity Level                          \n",
       "High Capacity    11\\n(9.2%)  49\\n(40.8%)\n",
       "Low Capacity    49\\n(40.8%)   11\\n(9.2%)"
      ]
     },
     "metadata": {},
     "output_type": "display_data"
    },
    {
     "name": "stdout",
     "output_type": "stream",
     "text": [
      "\n",
      "--- Quadrant Analysis for SG-A and SG-C Only ---\n",
      "✅ Plot saved to: quadrant_filtered_groups.png\n"
     ]
    },
    {
     "data": {
      "image/png": "[encoded data removed]",
      "text/plain": [
       "<Figure size 800x500 with 1 Axes>"
      ]
     },
     "metadata": {},
     "output_type": "display_data"
    },
    {
     "data": {
      "text/html": [
       "<div>\n",
       "<style scoped>\n",
       "    .dataframe tbody tr th:only-of-type {\n",
       "        vertical-align: middle;\n",
       "    }\n",
       "\n",
       "    .dataframe tbody tr th {\n",
       "        vertical-align: top;\n",
       "    }\n",
       "\n",
       "    .dataframe thead th {\n",
       "        text-align: right;\n",
       "    }\n",
       "</style>\n",
       "<table border=\"1\" class=\"dataframe\">\n",
       "  <thead>\n",
       "    <tr style=\"text-align: right;\">\n",
       "      <th>WSI Level</th>\n",
       "      <th>Low WSI</th>\n",
       "      <th>High WSI</th>\n",
       "    </tr>\n",
       "    <tr>\n",
       "      <th>Capacity Level</th>\n",
       "      <th></th>\n",
       "      <th></th>\n",
       "    </tr>\n",
       "  </thead>\n",
       "  <tbody>\n",
       "    <tr>\n",
       "      <th>High Capacity</th>\n",
       "      <td>7\\n(11.7%)</td>\n",
       "      <td>23\\n(38.3%)</td>\n",
       "    </tr>\n",
       "    <tr>\n",
       "      <th>Low Capacity</th>\n",
       "      <td>23\\n(38.3%)</td>\n",
       "      <td>7\\n(11.7%)</td>\n",
       "    </tr>\n",
       "  </tbody>\n",
       "</table>\n",
       "</div>"
      ],
      "text/plain": [
       "WSI Level           Low WSI     High WSI\n",
       "Capacity Level                          \n",
       "High Capacity    7\\n(11.7%)  23\\n(38.3%)\n",
       "Low Capacity    23\\n(38.3%)   7\\n(11.7%)"
      ]
     },
     "metadata": {},
     "output_type": "display_data"
    }
   ],
   "source": [
    "# --- 📊 2x2 Performance Quadrant Analysis (Now saves the plots) ---\n",
    "print(\"This analysis segments employees into four performance categories based on their Capacity and WSI scores.\")\n",
    "\n",
    "def create_performance_quadrant(alias_metrics_df, group_filter=None, save_path: Optional[str] = None):\n",
    "    df = alias_metrics_df.copy()\n",
    "    if group_filter:\n",
    "        df = df[df['StaffGroup'].isin(group_filter)]\n",
    "\n",
    "    if df.empty:\n",
    "        print(\"No data for the selected filter.\")\n",
    "        return pd.DataFrame(), None # Return None for the path\n",
    "\n",
    "    cap_median = df['Capacity_Score_0_100'].median()\n",
    "    wsi_median = df['WSI_0_100'].median()\n",
    "\n",
    "    # Create separate columns for the 2x2 grid\n",
    "    df['Capacity Level'] = np.where(df['Capacity_Score_0_100'] >= cap_median, 'High Capacity', 'Low Capacity')\n",
    "    df['WSI Level'] = np.where(df['WSI_0_100'] >= wsi_median, 'High WSI', 'Low WSI')\n",
    "\n",
    "    # Create the 2x2 grid of counts and percentages\n",
    "    count_table = pd.crosstab(df['Capacity Level'], df['WSI Level'])\n",
    "    if 'Low WSI' in count_table.columns:\n",
    "        count_table = count_table[['Low WSI', 'High WSI']]\n",
    "    percent_table = (count_table / len(df) * 100).round(1)\n",
    "    annot_table = count_table.astype(str) + \"\\n(\" + percent_table.astype(str) + \"%)\"\n",
    "\n",
    "    # Visualization: Heatmap of the 2x2 Grid\n",
    "    plt.figure(figsize=(8, 5))\n",
    "    sns.heatmap(\n",
    "        count_table,\n",
    "        annot=annot_table,\n",
    "        fmt='s',\n",
    "        cmap=\"viridis\",\n",
    "        cbar=False,\n",
    "        linewidths=2,\n",
    "        linecolor='white'\n",
    "    )\n",
    "    title = 'Employee Performance Quadrant (Count & Percent)'\n",
    "    if group_filter:\n",
    "        title += f\" - {', '.join(group_filter)}\"\n",
    "    plt.title(title, fontsize=16, weight='bold')\n",
    "    plt.ylabel('Capacity Score Level', fontsize=12)\n",
    "    plt.xlabel('Workload Stress Index (WSI) Level', fontsize=12)\n",
    "    \n",
    "    # --- ADDED SAVE LOGIC ---\n",
    "    if save_path:\n",
    "        plt.savefig(save_path, bbox_inches='tight', dpi=150)\n",
    "        print(f\"✅ Plot saved to: {save_path}\")\n",
    "\n",
    "    plt.show()\n",
    "\n",
    "    # Return the formatted table and the path to the saved image\n",
    "    return annot_table, save_path\n",
    "\n",
    "# --- Run the Analysis for ALL Groups ---\n",
    "print(\"\\n--- Quadrant Analysis for ALL Groups ---\")\n",
    "quadrant_all_path = \"quadrant_all_groups.png\"\n",
    "wsi_capacity_quadrant_all, path1 = create_performance_quadrant(latest_month_df, save_path=quadrant_all_path)\n",
    "if path1:\n",
    "    saved_plots[\"[INSERT QUADRANT PLOT ALL GROUPS HERE]\"] = path1\n",
    "display(wsi_capacity_quadrant_all)\n",
    "\n",
    "\n",
    "# --- Run for a specific subset of groups ---\n",
    "print(\"\\n--- Quadrant Analysis for SG-A and SG-C Only ---\")\n",
    "quadrant_filtered_path = \"quadrant_filtered_groups.png\"\n",
    "wsi_capacity_quadrant_filtered, path2 = create_performance_quadrant(latest_month_df, group_filter=['SG-A', 'SG-C'], save_path=quadrant_filtered_path)\n",
    "if path2:\n",
    "    saved_plots[\"[INSERT QUADRANT PLOT FILTERED HERE]\"] = path2\n",
    "display(wsi_capacity_quadrant_filtered)\n",
    "\n",
    "\n"
   ]
  },
  {
   "cell_type": "code",
   "execution_count": 14,
   "id": "34d62f5c-2f79-446c-8f5a-f8091cc343ea",
   "metadata": {},
   "outputs": [
    {
     "name": "stdout",
     "output_type": "stream",
     "text": [
      "This tool runs an optimization algorithm to find a set of employee moves\n",
      "that best achieves our defined business goals (e.g., reducing WSI and backlog).\n",
      "\n",
      "[DEBUG] Alias-level predict() sample (first 8 rows):\n",
      " Capacity StaffGroup\n",
      "    66.00       SG-A\n",
      "    57.03       SG-B\n",
      "    59.97       SG-C\n",
      "    62.49       SG-D\n",
      "Rows to predict (alias-level): 4\n",
      "\n",
      "[DEBUG] Alias-level predict() sample (first 8 rows):\n",
      " Capacity StaffGroup\n",
      "    66.00       SG-A\n",
      "    57.03       SG-B\n",
      "    59.97       SG-C\n",
      "    62.49       SG-D\n",
      "Rows to predict (alias-level): 4\n",
      "\n",
      "[DEBUG] Alias-level predict() sample (first 8 rows):\n",
      " Capacity StaffGroup\n",
      "    66.00       SG-A\n",
      "    57.03       SG-B\n",
      "    67.89       SG-C\n",
      "    62.49       SG-D\n",
      "Rows to predict (alias-level): 4\n",
      "\n",
      "[DEBUG] Alias-level predict() sample (first 8 rows):\n",
      " Capacity StaffGroup\n",
      "    66.00       SG-A\n",
      "    57.03       SG-B\n",
      "    67.89       SG-C\n",
      "    62.49       SG-D\n",
      "Rows to predict (alias-level): 4\n",
      "\n",
      "[DEBUG] Alias-level predict() sample (first 8 rows):\n",
      " Capacity StaffGroup\n",
      "    66.00       SG-A\n",
      "    57.03       SG-B\n",
      "    67.89       SG-C\n",
      "    62.49       SG-D\n",
      "Rows to predict (alias-level): 4\n",
      "\n",
      "[DEBUG] Alias-level predict() sample (first 8 rows):\n",
      " Capacity StaffGroup\n",
      "    68.10       SG-A\n",
      "    57.03       SG-B\n",
      "    59.97       SG-C\n",
      "    62.49       SG-D\n",
      "Rows to predict (alias-level): 4\n",
      "\n",
      "[DEBUG] Alias-level predict() sample (first 8 rows):\n",
      " Capacity StaffGroup\n",
      "    68.10       SG-A\n",
      "    57.03       SG-B\n",
      "    59.97       SG-C\n",
      "    62.49       SG-D\n",
      "Rows to predict (alias-level): 4\n",
      "\n",
      "[DEBUG] Alias-level predict() sample (first 8 rows):\n",
      " Capacity StaffGroup\n",
      "    66.00       SG-A\n",
      "    62.08       SG-B\n",
      "    59.97       SG-C\n",
      "    62.49       SG-D\n",
      "Rows to predict (alias-level): 4\n",
      "\n",
      "[DEBUG] Alias-level predict() sample (first 8 rows):\n",
      " Capacity StaffGroup\n",
      "    66.00       SG-A\n",
      "    62.08       SG-B\n",
      "    59.97       SG-C\n",
      "    62.49       SG-D\n",
      "Rows to predict (alias-level): 4\n",
      "\n",
      "[DEBUG] Alias-level predict() sample (first 8 rows):\n",
      " Capacity StaffGroup\n",
      "    66.00       SG-A\n",
      "    57.03       SG-B\n",
      "    59.97       SG-C\n",
      "    62.49       SG-D\n",
      "Rows to predict (alias-level): 4\n",
      "\n",
      "--- Recommended Reassignment Plan (Net Moves) ---\n",
      "No improving moves found within the budget and objective; the optimizer returned an empty plan.\n",
      "\n",
      "--- Projected Metrics: Initial vs. Optimized State ---\n"
     ]
    },
    {
     "data": {
      "text/html": [
       "<div>\n",
       "<style scoped>\n",
       "    .dataframe tbody tr th:only-of-type {\n",
       "        vertical-align: middle;\n",
       "    }\n",
       "\n",
       "    .dataframe tbody tr th {\n",
       "        vertical-align: top;\n",
       "    }\n",
       "\n",
       "    .dataframe thead th {\n",
       "        text-align: right;\n",
       "    }\n",
       "</style>\n",
       "<table border=\"1\" class=\"dataframe\">\n",
       "  <thead>\n",
       "    <tr style=\"text-align: right;\">\n",
       "      <th></th>\n",
       "      <th>StaffGroup</th>\n",
       "      <th>Capacity_Initial</th>\n",
       "      <th>WSI_0_100_Initial</th>\n",
       "      <th>efficiency_Initial</th>\n",
       "      <th>days_to_close_Initial</th>\n",
       "      <th>backlog_Initial</th>\n",
       "      <th>Capacity_Optimized</th>\n",
       "      <th>WSI_0_100_Optimized</th>\n",
       "      <th>efficiency_Optimized</th>\n",
       "      <th>days_to_close_Optimized</th>\n",
       "      <th>backlog_Optimized</th>\n",
       "    </tr>\n",
       "  </thead>\n",
       "  <tbody>\n",
       "    <tr>\n",
       "      <th>0</th>\n",
       "      <td>SG-A</td>\n",
       "      <td>69.20</td>\n",
       "      <td>55.00</td>\n",
       "      <td>0.78</td>\n",
       "      <td>7.22</td>\n",
       "      <td>19.50</td>\n",
       "      <td>66.00</td>\n",
       "      <td>55.19</td>\n",
       "      <td>0.80</td>\n",
       "      <td>7.40</td>\n",
       "      <td>24.04</td>\n",
       "    </tr>\n",
       "    <tr>\n",
       "      <th>1</th>\n",
       "      <td>SG-B</td>\n",
       "      <td>65.08</td>\n",
       "      <td>53.53</td>\n",
       "      <td>0.83</td>\n",
       "      <td>7.28</td>\n",
       "      <td>18.00</td>\n",
       "      <td>57.03</td>\n",
       "      <td>55.24</td>\n",
       "      <td>0.81</td>\n",
       "      <td>6.98</td>\n",
       "      <td>21.96</td>\n",
       "    </tr>\n",
       "    <tr>\n",
       "      <th>2</th>\n",
       "      <td>SG-C</td>\n",
       "      <td>64.02</td>\n",
       "      <td>56.47</td>\n",
       "      <td>0.82</td>\n",
       "      <td>6.89</td>\n",
       "      <td>18.50</td>\n",
       "      <td>59.97</td>\n",
       "      <td>57.60</td>\n",
       "      <td>0.81</td>\n",
       "      <td>6.99</td>\n",
       "      <td>23.71</td>\n",
       "    </tr>\n",
       "    <tr>\n",
       "      <th>3</th>\n",
       "      <td>SG-D</td>\n",
       "      <td>62.34</td>\n",
       "      <td>51.77</td>\n",
       "      <td>0.77</td>\n",
       "      <td>7.87</td>\n",
       "      <td>20.00</td>\n",
       "      <td>62.49</td>\n",
       "      <td>52.47</td>\n",
       "      <td>0.78</td>\n",
       "      <td>8.12</td>\n",
       "      <td>23.43</td>\n",
       "    </tr>\n",
       "  </tbody>\n",
       "</table>\n",
       "</div>"
      ],
      "text/plain": [
       "  StaffGroup  Capacity_Initial  WSI_0_100_Initial  efficiency_Initial  \\\n",
       "0       SG-A             69.20              55.00                0.78   \n",
       "1       SG-B             65.08              53.53                0.83   \n",
       "2       SG-C             64.02              56.47                0.82   \n",
       "3       SG-D             62.34              51.77                0.77   \n",
       "\n",
       "   days_to_close_Initial  backlog_Initial  Capacity_Optimized  \\\n",
       "0                   7.22            19.50               66.00   \n",
       "1                   7.28            18.00               57.03   \n",
       "2                   6.89            18.50               59.97   \n",
       "3                   7.87            20.00               62.49   \n",
       "\n",
       "   WSI_0_100_Optimized  efficiency_Optimized  days_to_close_Optimized  \\\n",
       "0                55.19                  0.80                     7.40   \n",
       "1                55.24                  0.81                     6.98   \n",
       "2                57.60                  0.81                     6.99   \n",
       "3                52.47                  0.78                     8.12   \n",
       "\n",
       "   backlog_Optimized  \n",
       "0              24.04  \n",
       "1              21.96  \n",
       "2              23.71  \n",
       "3              23.43  "
      ]
     },
     "metadata": {},
     "output_type": "display_data"
    }
   ],
   "source": [
    "# --- ❓ Question 4: What is the optimal headcount distribution? ---\n",
    "\n",
    "print(\"This tool runs an optimization algorithm to find a set of employee moves\")\n",
    "print(\"that best achieves our defined business goals (e.g., reducing WSI and backlog).\")\n",
    "\n",
    "# --- 1) Define Business Goals for Optimization ---\n",
    "opt_cfg = OptimizeConfig(\n",
    "    budget_moves=15,\n",
    "    objective_weights={\n",
    "        WSI_COL: -1.0,\n",
    "        EFFICIENCY_COL: +0.6,\n",
    "        DTC_COL: -0.6,\n",
    "        \"backlog\": -0.8,   # canonical name expected by the grids\n",
    "        \"numCases\": +0.25  # canonical name expected by the grids\n",
    "    },\n",
    "    random_state=42\n",
    ")\n",
    "\n",
    "# --- 2) Run the Full Optimizer Pipeline ---\n",
    "plan_output = run_optimizer_pipeline(\n",
    "    df_full=df_full,\n",
    "    scores_baseline=scores,\n",
    "    opt_cfg=opt_cfg,\n",
    "    cols=cols,\n",
    "    compute_wsi_fn=compute_capacity_centric_wsi,\n",
    "    wsi_kwargs=wsi_kwargs,\n",
    "    targets=modeler_targets,\n",
    "    only_impacted=False  # important so the first step evaluates all teams\n",
    ")\n",
    "\n",
    "# --- 3) Display the Results ---\n",
    "print(\"\\n--- Recommended Reassignment Plan (Net Moves) ---\")\n",
    "\n",
    "plan_list = plan_output.get(\"plan\", [])\n",
    "if not plan_list:\n",
    "    print(\"No improving moves found within the budget and objective; the optimizer returned an empty plan.\")\n",
    "else:\n",
    "    plan_df = pd.DataFrame(plan_list)\n",
    "\n",
    "    # Normalize column names for the plotting helper\n",
    "    if {\"from\", \"to\"}.issubset(plan_df.columns):\n",
    "        plan_for_plot = plan_df.rename(columns={\"from\": \"from_group\", \"to\": \"to_group\"})\n",
    "    elif {\"from_group\", \"to_group\"}.issubset(plan_df.columns):\n",
    "        plan_for_plot = plan_df.copy()\n",
    "    else:\n",
    "        display(plan_df.head())\n",
    "        raise ValueError(\"Expected ['from','to','n'] or ['from_group','to_group','n'].\")\n",
    "\n",
    "    # Summary table\n",
    "    plan_summary = (\n",
    "        plan_for_plot\n",
    "        .groupby([\"from_group\", \"to_group\"])\n",
    "        .size()\n",
    "        .reset_index(name=\"count\")\n",
    "        .sort_values(\"count\", ascending=False)\n",
    "    )\n",
    "    display(plan_summary)\n",
    "\n",
    "    # Plot and stash\n",
    "    optimizer_plan_path = \"optimizer_plan.png\"\n",
    "    plot_optimization_plan(plan_for_plot.to_dict(\"records\"), save_path=optimizer_plan_path)\n",
    "    if \"saved_plots\" not in globals():\n",
    "        saved_plots = {}\n",
    "    saved_plots[\"[INSERT OPTIMIZER PLAN PLOT HERE]\"] = optimizer_plan_path\n",
    "\n",
    "print(\"\\n--- Projected Metrics: Initial vs. Optimized State ---\")\n",
    "comparison = plan_output[\"initial_metrics\"].merge(\n",
    "    plan_output[\"expected_metrics\"],\n",
    "    on=\"StaffGroup\",\n",
    "    suffixes=(\"_Initial\", \"_Optimized\")\n",
    ")\n",
    "display(comparison)"
   ]
  },
  {
   "cell_type": "code",
   "execution_count": 19,
   "id": "0d475276-14d7-4185-acf2-c1e4f24c66af",
   "metadata": {},
   "outputs": [
    {
     "name": "stdout",
     "output_type": "stream",
     "text": [
      "\n",
      "You are an expert business analyst and communicator. Your task is to generate a detailed business analysis report for executive stakeholders who are not data scientists. For each section, you must first **explain the methodology** in simple, non-technical terms, and then **summarize the key findings** from the data provided for that section.\n",
      "\n",
      "--- DATA AND INSTRUCTIONS ---\n",
      "\n",
      "### 1. The Capacity Score & WSI\n",
      "**Your Task:** First, explain how the Capacity Score and WSI are calculated. Then, explain the key drivers (both global and for a specific employee example) and summarize team performance.\n",
      "**Data:**\n",
      "*Global Feature Importance:*\n",
      "| feature           |   importance |\n",
      "|:------------------|-------------:|\n",
      "| TimeSpent         |     3.90451  |\n",
      "| backlog           |     3.13316  |\n",
      "| numOpenCases      |     2.60475  |\n",
      "| numCases          |     2.55987  |\n",
      "| avgDaysToClose    |     0.433278 |\n",
      "| currentSevA       |     0.287731 |\n",
      "| Is24X7OptedIn     |     0.192067 |\n",
      "| IsClosedOnWeekend |     0        |\n",
      "| tenure            |     0        |\n",
      "| som               |     0        |\n",
      "*Local Contributions for One Employee:*\n",
      "| feature           |   contribution |\n",
      "|:------------------|---------------:|\n",
      "| numOpenCases      |     -3.12734   |\n",
      "| backlog           |      1.41761   |\n",
      "| TimeSpent         |     -0.844646  |\n",
      "| numCases          |     -0.582856  |\n",
      "| currentSevA       |     -0.155797  |\n",
      "| avgDaysToClose    |      0.125228  |\n",
      "| Is24X7OptedIn     |      0.0735136 |\n",
      "| IsClosedOnWeekend |     -0 ...\n",
      "\n",
      "[TRUNCATED]\n",
      "--- 🚀 LLM Placeholder Prompt ---\n",
      "\n",
      "✅ All functions are now updated to pass the correct outputs.\n"
     ]
    }
   ],
   "source": [
    "import pandas as pd\n",
    "\n",
    "def _md(obj, *, index=False, default=\"(no data)\"):\n",
    "    \"\"\"\n",
    "    Robustly convert obj to markdown text.\n",
    "    Handles DataFrame, Series, dict, list of dicts/tuples, strings, None.\n",
    "    \"\"\"\n",
    "    try:\n",
    "        if obj is None:\n",
    "            return default\n",
    "        if isinstance(obj, pd.DataFrame):\n",
    "            if obj.empty:\n",
    "                return default\n",
    "            return obj.to_markdown(index=index)\n",
    "        if isinstance(obj, pd.Series):\n",
    "            if obj.empty:\n",
    "                return default\n",
    "            return obj.to_frame(name=obj.name or \"value\").to_markdown(index=index)\n",
    "        if isinstance(obj, dict):\n",
    "            if not obj:\n",
    "                return default\n",
    "            df = pd.DataFrame(list(obj.items()), columns=[\"key\", \"value\"])\n",
    "            return df.to_markdown(index=False)\n",
    "        if isinstance(obj, (list, tuple)):\n",
    "            if not obj:\n",
    "                return default\n",
    "            # list of dicts → DataFrame\n",
    "            if all(isinstance(x, dict) for x in obj):\n",
    "                df = pd.DataFrame(obj)\n",
    "                if df.empty:\n",
    "                    return default\n",
    "                return df.to_markdown(index=index)\n",
    "            # list/tuple of tuples → DataFrame\n",
    "            if all(isinstance(x, (list, tuple)) for x in obj):\n",
    "                df = pd.DataFrame(obj)\n",
    "                if df.empty:\n",
    "                    return default\n",
    "                return df.to_markdown(index=index)\n",
    "            # otherwise dump as Series\n",
    "            return pd.Series(obj).to_frame(\"value\").to_markdown(index=index)\n",
    "        # string / other\n",
    "        s = str(obj).strip()\n",
    "        return s if s else default\n",
    "    except Exception as e:\n",
    "        return f\"(render error: {e})\"\n",
    "\n",
    "def _feature_importances_md(scorer_obj):\n",
    "    \"\"\"\n",
    "    Try to render feature importances; return a friendly note if unavailable.\n",
    "    \"\"\"\n",
    "    try:\n",
    "        fi = scorer_obj.feature_importances()\n",
    "        if isinstance(fi, pd.DataFrame) and not fi.empty:\n",
    "            return fi.to_markdown(index=False)\n",
    "        return \"(feature importances not available)\"\n",
    "    except Exception:\n",
    "        return \"(feature importances not available for this scoring method)\"\n",
    "\n",
    "def _weights_md(weights_like, first=\"Component\", second=\"Weight\"):\n",
    "    if hasattr(weights_like, \"items\"):\n",
    "        df = pd.DataFrame(list(weights_like.items()), columns=[first, second])\n",
    "        return _md(df, index=False)\n",
    "    return _md(weights_like)\n",
    "\n",
    "def generate_llm_text_prompt(\n",
    "    team_metrics_df,\n",
    "    scorer_obj,\n",
    "    simulation_df,         # 'combined' dataframe (pre/post stacked)\n",
    "    sanity_df,\n",
    "    mse_report_df,\n",
    "    contributions_df,\n",
    "    opt_plan_obj,\n",
    "    bucket_uplift_df,\n",
    "    quadrant_df,\n",
    "    filtered_quadrant_df,\n",
    "    wsi_config,\n",
    "    opt_config,\n",
    "    post_volume_df\n",
    "):\n",
    "    \"\"\"\n",
    "    Compiles a comprehensive, text-only prompt using robust markdown conversion.\n",
    "    \"\"\"\n",
    "\n",
    "    # --- Robust markdown conversions ---\n",
    "    team_metrics_md      = _md(team_metrics_df, index=False)\n",
    "    feature_importance_md= _feature_importances_md(scorer_obj)\n",
    "    simulation_md        = _md(simulation_df, index=False)\n",
    "    # opt plan bits may be dicts or DFs\n",
    "    opt_plan_md          = _md(getattr(pd, \"DataFrame\")(opt_plan_obj.get(\"plan\", [])), index=False)\n",
    "    opt_expected_md      = _md(opt_plan_obj.get(\"expected_metrics\"), index=False)\n",
    "    bucket_uplift_md     = _md(bucket_uplift_df, index=False)\n",
    "    quadrant_md          = _md(quadrant_df)\n",
    "    filtered_quadrant_md = _md(filtered_quadrant_df)\n",
    "    wsi_weights_md       = _weights_md(getattr(wsi_config, \"weights\", {}), first=\"Component\", second=\"Weight\")\n",
    "    opt_weights_md       = _weights_md(getattr(opt_config, \"objective_weights\", {}), first=\"Metric\", second=\"Weight\")\n",
    "    # post volume stats\n",
    "    try:\n",
    "        post_volume_md = _md(post_volume_df[[\"numCases\"]].describe())\n",
    "    except Exception:\n",
    "        post_volume_md = _md(post_volume_df)\n",
    "\n",
    "    # Extra frames\n",
    "    sanity_md            = _md(sanity_df)\n",
    "    # Handle mse_report_df both as dict and as DataFrame\n",
    "    if isinstance(mse_report_df, pd.DataFrame):\n",
    "        mse_md = _md(mse_report_df, index=False)\n",
    "    else:\n",
    "        mse_md = _md(mse_report_df, index=False)\n",
    "    contributions_md     = _md(contributions_df, index=False)\n",
    "\n",
    "    prompt = f\"\"\"\n",
    "You are an expert business analyst and communicator. Your task is to generate a detailed business analysis report for executive stakeholders who are not data scientists. For each section, you must first **explain the methodology** in simple, non-technical terms, and then **summarize the key findings** from the data provided for that section.\n",
    "\n",
    "--- DATA AND INSTRUCTIONS ---\n",
    "\n",
    "### 1. The Capacity Score & WSI\n",
    "**Your Task:** First, explain how the Capacity Score and WSI are calculated. Then, explain the key drivers (both global and for a specific employee example) and summarize team performance.\n",
    "**Data:**\n",
    "*Global Feature Importance:*\n",
    "{feature_importance_md}\n",
    "*Local Contributions for One Employee:*\n",
    "{contributions_md}\n",
    "*Team Performance Metrics:*\n",
    "{team_metrics_md}\n",
    "*WSI Component Weights:*\n",
    "{wsi_weights_md}\n",
    "\n",
    "### 2. \"What-If\" Headcount Simulation\n",
    "**Your Task:** Explain that the simulation uses predictive models to estimate outcomes. Summarize the projected impact of the specific moves. Also, comment on the model's accuracy using the MSE report and provide context using the sanity check data.\n",
    "**Data:**\n",
    "*Simulation Results (Pre vs. Post):*\n",
    "{simulation_md}\n",
    "*Model Performance (Mean Squared Error - lower is better):*\n",
    "{mse_md}\n",
    "*Sanity Check (Typical Metric Ranges):*\n",
    "{sanity_md}\n",
    "\n",
    "### 3. Bucket Uplift & Overall Volume Impact\n",
    "**Your Task:** Explain the \"Bucket Uplift\" analysis and state the total estimated incremental cases. Then, explain the \"Overall Volume Impact\" simulation, summarizing the change in the mean `numCases`.\n",
    "**Data:**\n",
    "*Bucket Uplift Summary:*\n",
    "{bucket_uplift_md}\n",
    "*Overall Volume Impact (Post-Simulation 'numCases' stats):*\n",
    "{post_volume_md}\n",
    "\n",
    "### 4. Optimal Headcount Reassignment\n",
    "**Your Task:** Explain how the Optimizer works, present the recommended plan, and summarize expected improvements.\n",
    "**Data:**\n",
    "*Optimizer Business Goals (Objective Weights):*\n",
    "{opt_weights_md}\n",
    "*Recommended Moves:*\n",
    "{opt_plan_md}\n",
    "*Expected State Metrics:*\n",
    "{opt_expected_md}\n",
    "\n",
    "### 5. Performance Quadrant Analysis\n",
    "**Your Task:** Explain the four quadrants and summarize the employee distribution for both the overall organization and the specific filtered groups (SG-A and SG-C).\n",
    "**Data:**\n",
    "*Overall 2x2 Performance Quadrant Grid:*\n",
    "{quadrat_md if False else quadrant_md}\n",
    "*Filtered (SG-A & SG-C) 2x2 Performance Quadrant Grid:*\n",
    "{filtered_quadrant_md}\n",
    "\n",
    "--- END OF DATA ---\n",
    "\n",
    "Now, generate the full, detailed business analysis report based on these instructions and data.\n",
    "\"\"\"\n",
    "    return prompt\n",
    "\n",
    "\n",
    "def generate_llm_placeholder_prompt(\n",
    "    team_metrics_df,\n",
    "    scorer_obj,\n",
    "    simulation_df,         # 'combined' dataframe\n",
    "    sanity_df,\n",
    "    mse_report_df,\n",
    "    contributions_df,\n",
    "    opt_plan_obj,\n",
    "    bucket_uplift_df,\n",
    "    quadrant_df,\n",
    "    filtered_quadrant_df,\n",
    "    wsi_config,\n",
    "    opt_config,\n",
    "    post_volume_df\n",
    "):\n",
    "    \"\"\"\n",
    "    Same as text prompt but with explicit placeholder tags for plots.\n",
    "    \"\"\"\n",
    "    # Robust markdown conversions\n",
    "    team_metrics_md      = _md(team_metrics_df, index=False)\n",
    "    feature_importance_md= _feature_importances_md(scorer_obj)\n",
    "    simulation_md        = _md(simulation_df, index=False)\n",
    "    opt_plan_md          = _md(getattr(pd, \"DataFrame\")(opt_plan_obj.get(\"plan\", [])), index=False)\n",
    "    opt_expected_md      = _md(opt_plan_obj.get(\"expected_metrics\"), index=False)\n",
    "    bucket_uplift_md     = _md(bucket_uplift_df, index=False)\n",
    "    quadrant_md          = _md(quadrant_df)\n",
    "    filtered_quadrant_md = _md(filtered_quadrant_df)\n",
    "    wsi_weights_md       = _weights_md(getattr(wsi_config, \"weights\", {}), first=\"Component\", second=\"Weight\")\n",
    "    opt_weights_md       = _weights_md(getattr(opt_config, \"objective_weights\", {}), first=\"Metric\", second=\"Weight\")\n",
    "    try:\n",
    "        post_volume_md = _md(post_volume_df[[\"numCases\"]].describe())\n",
    "    except Exception:\n",
    "        post_volume_md = _md(post_volume_df)\n",
    "\n",
    "    sanity_md            = _md(sanity_df)\n",
    "    if isinstance(mse_report_df, pd.DataFrame):\n",
    "        mse_md = _md(mse_report_df, index=False)\n",
    "    else:\n",
    "        mse_md = _md(mse_report_df, index=False)\n",
    "    contributions_md     = _md(contributions_df, index=False)\n",
    "\n",
    "    prompt = f\"\"\"\n",
    "You are an expert business analyst creating a detailed executive summary report. Your task is to analyze the provided data, explain the methodologies, summarize the key findings, and write a clear narrative.\n",
    "\n",
    "Your response MUST include the following placeholder tags exactly as written where each chart should appear:\n",
    "- [INSERT SCORE DISTRIBUTION PLOT HERE]\n",
    "- [INSERT TEAM METRICS PLOT HERE]\n",
    "- [INSERT FEATURE IMPORTANCE PLOT HERE]\n",
    "- [INSERT CONTRIBUTION WATERFALL PLOT HERE]\n",
    "- [INSERT SIMULATION HEATMAP HERE]\n",
    "- [INSERT TOTAL VOLUME UPLIFT DISTRIBUTION PLOT HERE]\n",
    "- [INSERT OPTIMIZER PLAN PLOT HERE]\n",
    "- [INSERT QUADRANT PLOT ALL GROUPS HERE]\n",
    "- [INSERT QUADRANT PLOT FILTERED HERE]\n",
    "\n",
    "**Task:**\n",
    "Write a summary that flows logically through the analysis. For each section, first explain the methodology in simple terms, then summarize the key findings from the data provided, and finally insert the corresponding placeholder tag for the visualization.\n",
    "\n",
    "--- DATA AND INSTRUCTIONS ---\n",
    "\n",
    "### 1. The Capacity Score & WSI\n",
    "**Analysis:** Explain the scores, their drivers (global and local), and summarize team performance.\n",
    "- Insert [INSERT SCORE DISTRIBUTION PLOT HERE], [INSERT TEAM METRICS PLOT HERE], \n",
    "  [INSERT FEATURE IMPORTANCE PLOT HERE], and [INSERT CONTRIBUTION WATERFALL PLOT HERE].\n",
    "**Data:**\n",
    "*Global Feature Importance:*\n",
    "{feature_importance_md}\n",
    "*Local Contributions for One Employee:*\n",
    "{contributions_md}\n",
    "*Team Performance Metrics:*\n",
    "{team_metrics_md}\n",
    "*WSI Component Weights:*\n",
    "{wsi_weights_md}\n",
    "\n",
    "### 2. \"What-If\" Headcount Simulation\n",
    "**Analysis:** Explain the simulation, summarize the team-level impact, and comment on model accuracy and typical value ranges.\n",
    "- Insert [INSERT SIMULATION HEATMAP HERE] for the team summary.\n",
    "**Data:**\n",
    "*Simulation Results (Pre vs. Post):*\n",
    "{simulation_md}\n",
    "*Model Performance (Mean Squared Error - lower is better):*\n",
    "{mse_md}\n",
    "*Sanity Check (Typical Metric Ranges):*\n",
    "{sanity_md}\n",
    "\n",
    "### 3. Bucket Uplift & Overall Volume Impact\n",
    "**Analysis:** Explain the \"Bucket Uplift\" estimation and state the total incremental cases. Explain the \"Overall Volume Impact\" simulation and summarize the change in the 'numCases' distribution.\n",
    "- Insert [INSERT TOTAL VOLUME UPLIFT DISTRIBUTION PLOT HERE] to visualize the volume shift.\n",
    "**Data:**\n",
    "*Bucket Uplift Summary:*\n",
    "{bucket_uplift_md}\n",
    "*Overall Volume Impact (Post-Simulation 'numCases' stats):*\n",
    "{post_volume_md}\n",
    "\n",
    "### 4. Optimal Headcount Reassignment\n",
    "**Analysis:** Explain the Optimizer, present the recommended plan, and summarize expected improvements.\n",
    "- Insert [INSERT OPTIMIZER PLAN PLOT HERE] for the net moves visual.\n",
    "**Data:**\n",
    "*Optimizer Business Goals:*\n",
    "{opt_weights_md}\n",
    "*Recommended Moves:*\n",
    "{opt_plan_md}\n",
    "*Expected Metrics After Moves:*\n",
    "{opt_expected_md}\n",
    "\n",
    "### 5. Performance Quadrant Analysis\n",
    "**Analysis:** Explain the four quadrants and summarize the employee distribution for all groups and for the filtered groups.\n",
    "- Insert [INSERT QUADRANT PLOT ALL GROUPS HERE] for the overall grid.\n",
    "- Insert [INSERT QUADRANT PLOT FILTERED HERE] for the filtered grid.\n",
    "**Data:**\n",
    "*Overall 2x2 Performance Quadrant Grid:*\n",
    "{quadrat_md if False else quadrant_md}\n",
    "*Filtered (SG-A & SG-C) 2x2 Performance Quadrant Grid:*\n",
    "{filtered_quadrant_md}\n",
    "\n",
    "--- END OF DATA ---\n",
    "\"\"\"\n",
    "    return prompt\n",
    "\n",
    "# Make sure all these variables exist from prior cells:\n",
    "# team_metrics, scorer, combined, sanity_df, mse_report, contributions,\n",
    "# plan_output, bucket_uplift_summary, wsi_capacity_quadrant_all,\n",
    "# wsi_capacity_quadrant_filtered, wsi_cfg, opt_cfg, post_volume_df\n",
    "\n",
    "final_prompt_explained = generate_llm_text_prompt(\n",
    "    team_metrics_df=team_metrics,\n",
    "    scorer_obj=scorer,\n",
    "    simulation_df=combined,                # your pre/post table\n",
    "    sanity_df=sanity_df,\n",
    "    mse_report_df=mse_report,              # DataFrame or dict — both OK\n",
    "    contributions_df=contributions,\n",
    "    opt_plan_obj=plan_output,              # {'plan': [...], 'expected_metrics': df}\n",
    "    bucket_uplift_df=bucket_uplift_summary,\n",
    "    quadrant_df=wsi_capacity_quadrant_all,\n",
    "    filtered_quadrant_df=wsi_capacity_quadrant_filtered,\n",
    "    wsi_config=wsi_cfg,\n",
    "    opt_config=opt_cfg,\n",
    "    post_volume_df=post_volume_df\n",
    ")\n",
    "\n",
    "# (Optional) inspect what will be sent:\n",
    "print(final_prompt_explained[:1500], \"...\\n\\n[TRUNCATED]\")\n",
    "\n",
    "final_placeholder_prompt = generate_llm_placeholder_prompt(\n",
    "    team_metrics_df=team_metrics,\n",
    "    scorer_obj=scorer,\n",
    "    simulation_df=combined,\n",
    "    sanity_df=sanity_df,\n",
    "    mse_report_df=mse_report,\n",
    "    contributions_df=contributions,\n",
    "    opt_plan_obj=plan_output,\n",
    "    bucket_uplift_df=bucket_uplift_summary,\n",
    "    quadrant_df=wsi_capacity_quadrant_all,\n",
    "    filtered_quadrant_df=wsi_capacity_quadrant_filtered,\n",
    "    wsi_config=wsi_cfg,\n",
    "    opt_config=opt_cfg,\n",
    "    post_volume_df=post_volume_df\n",
    ")\n",
    "\n",
    "# Your saved plots dictionary MUST use keys that exactly match the placeholders in the prompt:\n",
    "saved_plots = {\n",
    "    \"[INSERT SCORE DISTRIBUTION PLOT HERE]\":   score_dist_path,\n",
    "    \"[INSERT TEAM METRICS PLOT HERE]\":         team_metrics_path,\n",
    "    \"[INSERT FEATURE IMPORTANCE PLOT HERE]\":   feature_importance_path,\n",
    "    \"[INSERT CONTRIBUTION WATERFALL PLOT HERE]\": contributions_path,\n",
    "    \"[INSERT SIMULATION HEATMAP HERE]\":        simulation_heatmap_path,\n",
    "    \"[INSERT TOTAL VOLUME UPLIFT DISTRIBUTION PLOT HERE]\": volume_dist_path,\n",
    "    # \"[INSERT OPTIMIZER PLAN PLOT HERE]\":       optimizer_plan_path,  # include if you saved it\n",
    "    \"[INSERT QUADRANT PLOT ALL GROUPS HERE]\":  quadrant_all_path,\n",
    "    \"[INSERT QUADRANT PLOT FILTERED HERE]\":    quadrant_filtered_path,\n",
    "}\n",
    "\n",
    "\n",
    "print(\"--- 🚀 LLM Placeholder Prompt ---\")\n",
    "# You can uncomment the line below to see the full text being sent to the LLM\n",
    "# print(final_placeholder_prompt)\n",
    "\n",
    "# --- (Optional) Call your LLM and generate the final HTML report ---\n",
    "# llm_text_with_placeholders = YOUR_LLM_API_CALL(final_placeholder_prompt)\n",
    "# create_html_report_final(...)\n",
    "\n",
    "print(\"\\n✅ All functions are now updated to pass the correct outputs.\")\n"
   ]
  },
  {
   "cell_type": "code",
   "execution_count": 21,
   "id": "0751e356-ee66-4934-83a2-a4b9122293bf",
   "metadata": {},
   "outputs": [
    {
     "ename": "AuthenticationError",
     "evalue": "Error code: 401 - {'error': {'message': 'Incorrect API key provided: ENTER AP******HERE. You can find your API key at https://platform.openai.com/account/api-keys.', 'type': 'invalid_request_error', 'param': None, 'code': 'invalid_api_key'}}",
     "output_type": "error",
     "traceback": [
      "\u001b[0;31m---------------------------------------------------------------------------\u001b[0m",
      "\u001b[0;31mAuthenticationError\u001b[0m                       Traceback (most recent call last)",
      "Cell \u001b[0;32mIn[21], line 15\u001b[0m\n\u001b[1;32m     12\u001b[0m os\u001b[38;5;241m.\u001b[39menviron[\u001b[38;5;124m\"\u001b[39m\u001b[38;5;124mOPENAI_API_KEY\u001b[39m\u001b[38;5;124m\"\u001b[39m] \u001b[38;5;241m=\u001b[39m \u001b[38;5;124m\"\u001b[39m\u001b[38;5;124msk-proj-_AhxaYmnd6-f6qY1GmNNFKf6-FZD9ZJFxCH0AK84Y0Xyuukpes-pXjqaznU0yB0W3Fx_eNRRNnT3BlbkFJUzKdaEL45NGi83uioHmkiOu3SJkaj_tnzLA_sJputJ302ncT6tbQMesbMs40Xj988LBeyVeDIA\u001b[39m\u001b[38;5;124m\"\u001b[39m\n\u001b[1;32m     14\u001b[0m \u001b[38;5;66;03m# 3. Send the prompt to the model\u001b[39;00m\n\u001b[0;32m---> 15\u001b[0m response \u001b[38;5;241m=\u001b[39m \u001b[43mopenai\u001b[49m\u001b[38;5;241;43m.\u001b[39;49m\u001b[43mchat\u001b[49m\u001b[38;5;241;43m.\u001b[39;49m\u001b[43mcompletions\u001b[49m\u001b[38;5;241;43m.\u001b[39;49m\u001b[43mcreate\u001b[49m\u001b[43m(\u001b[49m\n\u001b[1;32m     16\u001b[0m \u001b[43m  \u001b[49m\u001b[43mmodel\u001b[49m\u001b[38;5;241;43m=\u001b[39;49m\u001b[38;5;124;43m\"\u001b[39;49m\u001b[38;5;124;43mgpt-5\u001b[39;49m\u001b[38;5;124;43m\"\u001b[39;49m\u001b[43m,\u001b[49m\u001b[43m \u001b[49m\u001b[38;5;66;43;03m# Or \"gpt-3.5-turbo\"\u001b[39;49;00m\n\u001b[1;32m     17\u001b[0m \u001b[43m  \u001b[49m\u001b[43mmessages\u001b[49m\u001b[38;5;241;43m=\u001b[39;49m\u001b[43m[\u001b[49m\n\u001b[1;32m     18\u001b[0m \u001b[43m    \u001b[49m\u001b[43m{\u001b[49m\u001b[38;5;124;43m\"\u001b[39;49m\u001b[38;5;124;43mrole\u001b[39;49m\u001b[38;5;124;43m\"\u001b[39;49m\u001b[43m:\u001b[49m\u001b[43m \u001b[49m\u001b[38;5;124;43m\"\u001b[39;49m\u001b[38;5;124;43msystem\u001b[39;49m\u001b[38;5;124;43m\"\u001b[39;49m\u001b[43m,\u001b[49m\u001b[43m \u001b[49m\u001b[38;5;124;43m\"\u001b[39;49m\u001b[38;5;124;43mcontent\u001b[39;49m\u001b[38;5;124;43m\"\u001b[39;49m\u001b[43m:\u001b[49m\u001b[43m \u001b[49m\u001b[38;5;124;43m\"\u001b[39;49m\u001b[38;5;124;43mYou are a expert business analyst for Microsoft Azure customer support.\u001b[39;49m\u001b[38;5;124;43m\"\u001b[39;49m\u001b[43m}\u001b[49m\u001b[43m,\u001b[49m\n\u001b[1;32m     19\u001b[0m \u001b[43m    \u001b[49m\u001b[43m{\u001b[49m\u001b[38;5;124;43m\"\u001b[39;49m\u001b[38;5;124;43mrole\u001b[39;49m\u001b[38;5;124;43m\"\u001b[39;49m\u001b[43m:\u001b[49m\u001b[43m \u001b[49m\u001b[38;5;124;43m\"\u001b[39;49m\u001b[38;5;124;43muser\u001b[39;49m\u001b[38;5;124;43m\"\u001b[39;49m\u001b[43m,\u001b[49m\u001b[43m \u001b[49m\u001b[38;5;124;43m\"\u001b[39;49m\u001b[38;5;124;43mcontent\u001b[39;49m\u001b[38;5;124;43m\"\u001b[39;49m\u001b[43m:\u001b[49m\u001b[43m \u001b[49m\u001b[43mfinal_prompt_explained\u001b[49m\u001b[43m}\u001b[49m\n\u001b[1;32m     20\u001b[0m \u001b[43m  \u001b[49m\u001b[43m]\u001b[49m\n\u001b[1;32m     21\u001b[0m \u001b[43m)\u001b[49m\n\u001b[1;32m     23\u001b[0m \u001b[38;5;66;03m# 4. Print the executive summary\u001b[39;00m\n\u001b[1;32m     24\u001b[0m \u001b[38;5;28mprint\u001b[39m(\u001b[38;5;124m\"\u001b[39m\u001b[38;5;124m--- 🚀 Executive Summary ---\u001b[39m\u001b[38;5;124m\"\u001b[39m)\n",
      "File \u001b[0;32m~/.pyenv/versions/3.11.6/lib/python3.11/site-packages/openai/_utils/_utils.py:279\u001b[0m, in \u001b[0;36mrequired_args.<locals>.inner.<locals>.wrapper\u001b[0;34m(*args, **kwargs)\u001b[0m\n\u001b[1;32m    277\u001b[0m             msg \u001b[38;5;241m=\u001b[39m \u001b[38;5;124mf\u001b[39m\u001b[38;5;124m\"\u001b[39m\u001b[38;5;124mMissing required argument: \u001b[39m\u001b[38;5;132;01m{\u001b[39;00mquote(missing[\u001b[38;5;241m0\u001b[39m])\u001b[38;5;132;01m}\u001b[39;00m\u001b[38;5;124m\"\u001b[39m\n\u001b[1;32m    278\u001b[0m     \u001b[38;5;28;01mraise\u001b[39;00m \u001b[38;5;167;01mTypeError\u001b[39;00m(msg)\n\u001b[0;32m--> 279\u001b[0m \u001b[38;5;28;01mreturn\u001b[39;00m \u001b[43mfunc\u001b[49m\u001b[43m(\u001b[49m\u001b[38;5;241;43m*\u001b[39;49m\u001b[43margs\u001b[49m\u001b[43m,\u001b[49m\u001b[43m \u001b[49m\u001b[38;5;241;43m*\u001b[39;49m\u001b[38;5;241;43m*\u001b[39;49m\u001b[43mkwargs\u001b[49m\u001b[43m)\u001b[49m\n",
      "File \u001b[0;32m~/.pyenv/versions/3.11.6/lib/python3.11/site-packages/openai/resources/chat/completions/completions.py:929\u001b[0m, in \u001b[0;36mCompletions.create\u001b[0;34m(self, messages, model, audio, frequency_penalty, function_call, functions, logit_bias, logprobs, max_completion_tokens, max_tokens, metadata, modalities, n, parallel_tool_calls, prediction, presence_penalty, reasoning_effort, response_format, seed, service_tier, stop, store, stream, stream_options, temperature, tool_choice, tools, top_logprobs, top_p, user, web_search_options, extra_headers, extra_query, extra_body, timeout)\u001b[0m\n\u001b[1;32m    886\u001b[0m \u001b[38;5;129m@required_args\u001b[39m([\u001b[38;5;124m\"\u001b[39m\u001b[38;5;124mmessages\u001b[39m\u001b[38;5;124m\"\u001b[39m, \u001b[38;5;124m\"\u001b[39m\u001b[38;5;124mmodel\u001b[39m\u001b[38;5;124m\"\u001b[39m], [\u001b[38;5;124m\"\u001b[39m\u001b[38;5;124mmessages\u001b[39m\u001b[38;5;124m\"\u001b[39m, \u001b[38;5;124m\"\u001b[39m\u001b[38;5;124mmodel\u001b[39m\u001b[38;5;124m\"\u001b[39m, \u001b[38;5;124m\"\u001b[39m\u001b[38;5;124mstream\u001b[39m\u001b[38;5;124m\"\u001b[39m])\n\u001b[1;32m    887\u001b[0m \u001b[38;5;28;01mdef\u001b[39;00m \u001b[38;5;21mcreate\u001b[39m(\n\u001b[1;32m    888\u001b[0m     \u001b[38;5;28mself\u001b[39m,\n\u001b[0;32m   (...)\u001b[0m\n\u001b[1;32m    926\u001b[0m     timeout: \u001b[38;5;28mfloat\u001b[39m \u001b[38;5;241m|\u001b[39m httpx\u001b[38;5;241m.\u001b[39mTimeout \u001b[38;5;241m|\u001b[39m \u001b[38;5;28;01mNone\u001b[39;00m \u001b[38;5;241m|\u001b[39m NotGiven \u001b[38;5;241m=\u001b[39m NOT_GIVEN,\n\u001b[1;32m    927\u001b[0m ) \u001b[38;5;241m-\u001b[39m\u001b[38;5;241m>\u001b[39m ChatCompletion \u001b[38;5;241m|\u001b[39m Stream[ChatCompletionChunk]:\n\u001b[1;32m    928\u001b[0m     validate_response_format(response_format)\n\u001b[0;32m--> 929\u001b[0m     \u001b[38;5;28;01mreturn\u001b[39;00m \u001b[38;5;28;43mself\u001b[39;49m\u001b[38;5;241;43m.\u001b[39;49m\u001b[43m_post\u001b[49m\u001b[43m(\u001b[49m\n\u001b[1;32m    930\u001b[0m \u001b[43m        \u001b[49m\u001b[38;5;124;43m\"\u001b[39;49m\u001b[38;5;124;43m/chat/completions\u001b[39;49m\u001b[38;5;124;43m\"\u001b[39;49m\u001b[43m,\u001b[49m\n\u001b[1;32m    931\u001b[0m \u001b[43m        \u001b[49m\u001b[43mbody\u001b[49m\u001b[38;5;241;43m=\u001b[39;49m\u001b[43mmaybe_transform\u001b[49m\u001b[43m(\u001b[49m\n\u001b[1;32m    932\u001b[0m \u001b[43m            \u001b[49m\u001b[43m{\u001b[49m\n\u001b[1;32m    933\u001b[0m \u001b[43m                \u001b[49m\u001b[38;5;124;43m\"\u001b[39;49m\u001b[38;5;124;43mmessages\u001b[39;49m\u001b[38;5;124;43m\"\u001b[39;49m\u001b[43m:\u001b[49m\u001b[43m \u001b[49m\u001b[43mmessages\u001b[49m\u001b[43m,\u001b[49m\n\u001b[1;32m    934\u001b[0m \u001b[43m                \u001b[49m\u001b[38;5;124;43m\"\u001b[39;49m\u001b[38;5;124;43mmodel\u001b[39;49m\u001b[38;5;124;43m\"\u001b[39;49m\u001b[43m:\u001b[49m\u001b[43m \u001b[49m\u001b[43mmodel\u001b[49m\u001b[43m,\u001b[49m\n\u001b[1;32m    935\u001b[0m \u001b[43m                \u001b[49m\u001b[38;5;124;43m\"\u001b[39;49m\u001b[38;5;124;43maudio\u001b[39;49m\u001b[38;5;124;43m\"\u001b[39;49m\u001b[43m:\u001b[49m\u001b[43m \u001b[49m\u001b[43maudio\u001b[49m\u001b[43m,\u001b[49m\n\u001b[1;32m    936\u001b[0m \u001b[43m                \u001b[49m\u001b[38;5;124;43m\"\u001b[39;49m\u001b[38;5;124;43mfrequency_penalty\u001b[39;49m\u001b[38;5;124;43m\"\u001b[39;49m\u001b[43m:\u001b[49m\u001b[43m \u001b[49m\u001b[43mfrequency_penalty\u001b[49m\u001b[43m,\u001b[49m\n\u001b[1;32m    937\u001b[0m \u001b[43m                \u001b[49m\u001b[38;5;124;43m\"\u001b[39;49m\u001b[38;5;124;43mfunction_call\u001b[39;49m\u001b[38;5;124;43m\"\u001b[39;49m\u001b[43m:\u001b[49m\u001b[43m \u001b[49m\u001b[43mfunction_call\u001b[49m\u001b[43m,\u001b[49m\n\u001b[1;32m    938\u001b[0m \u001b[43m                \u001b[49m\u001b[38;5;124;43m\"\u001b[39;49m\u001b[38;5;124;43mfunctions\u001b[39;49m\u001b[38;5;124;43m\"\u001b[39;49m\u001b[43m:\u001b[49m\u001b[43m \u001b[49m\u001b[43mfunctions\u001b[49m\u001b[43m,\u001b[49m\n\u001b[1;32m    939\u001b[0m \u001b[43m                \u001b[49m\u001b[38;5;124;43m\"\u001b[39;49m\u001b[38;5;124;43mlogit_bias\u001b[39;49m\u001b[38;5;124;43m\"\u001b[39;49m\u001b[43m:\u001b[49m\u001b[43m \u001b[49m\u001b[43mlogit_bias\u001b[49m\u001b[43m,\u001b[49m\n\u001b[1;32m    940\u001b[0m \u001b[43m                \u001b[49m\u001b[38;5;124;43m\"\u001b[39;49m\u001b[38;5;124;43mlogprobs\u001b[39;49m\u001b[38;5;124;43m\"\u001b[39;49m\u001b[43m:\u001b[49m\u001b[43m \u001b[49m\u001b[43mlogprobs\u001b[49m\u001b[43m,\u001b[49m\n\u001b[1;32m    941\u001b[0m \u001b[43m                \u001b[49m\u001b[38;5;124;43m\"\u001b[39;49m\u001b[38;5;124;43mmax_completion_tokens\u001b[39;49m\u001b[38;5;124;43m\"\u001b[39;49m\u001b[43m:\u001b[49m\u001b[43m \u001b[49m\u001b[43mmax_completion_tokens\u001b[49m\u001b[43m,\u001b[49m\n\u001b[1;32m    942\u001b[0m \u001b[43m                \u001b[49m\u001b[38;5;124;43m\"\u001b[39;49m\u001b[38;5;124;43mmax_tokens\u001b[39;49m\u001b[38;5;124;43m\"\u001b[39;49m\u001b[43m:\u001b[49m\u001b[43m \u001b[49m\u001b[43mmax_tokens\u001b[49m\u001b[43m,\u001b[49m\n\u001b[1;32m    943\u001b[0m \u001b[43m                \u001b[49m\u001b[38;5;124;43m\"\u001b[39;49m\u001b[38;5;124;43mmetadata\u001b[39;49m\u001b[38;5;124;43m\"\u001b[39;49m\u001b[43m:\u001b[49m\u001b[43m \u001b[49m\u001b[43mmetadata\u001b[49m\u001b[43m,\u001b[49m\n\u001b[1;32m    944\u001b[0m \u001b[43m                \u001b[49m\u001b[38;5;124;43m\"\u001b[39;49m\u001b[38;5;124;43mmodalities\u001b[39;49m\u001b[38;5;124;43m\"\u001b[39;49m\u001b[43m:\u001b[49m\u001b[43m \u001b[49m\u001b[43mmodalities\u001b[49m\u001b[43m,\u001b[49m\n\u001b[1;32m    945\u001b[0m \u001b[43m                \u001b[49m\u001b[38;5;124;43m\"\u001b[39;49m\u001b[38;5;124;43mn\u001b[39;49m\u001b[38;5;124;43m\"\u001b[39;49m\u001b[43m:\u001b[49m\u001b[43m \u001b[49m\u001b[43mn\u001b[49m\u001b[43m,\u001b[49m\n\u001b[1;32m    946\u001b[0m \u001b[43m                \u001b[49m\u001b[38;5;124;43m\"\u001b[39;49m\u001b[38;5;124;43mparallel_tool_calls\u001b[39;49m\u001b[38;5;124;43m\"\u001b[39;49m\u001b[43m:\u001b[49m\u001b[43m \u001b[49m\u001b[43mparallel_tool_calls\u001b[49m\u001b[43m,\u001b[49m\n\u001b[1;32m    947\u001b[0m \u001b[43m                \u001b[49m\u001b[38;5;124;43m\"\u001b[39;49m\u001b[38;5;124;43mprediction\u001b[39;49m\u001b[38;5;124;43m\"\u001b[39;49m\u001b[43m:\u001b[49m\u001b[43m \u001b[49m\u001b[43mprediction\u001b[49m\u001b[43m,\u001b[49m\n\u001b[1;32m    948\u001b[0m \u001b[43m                \u001b[49m\u001b[38;5;124;43m\"\u001b[39;49m\u001b[38;5;124;43mpresence_penalty\u001b[39;49m\u001b[38;5;124;43m\"\u001b[39;49m\u001b[43m:\u001b[49m\u001b[43m \u001b[49m\u001b[43mpresence_penalty\u001b[49m\u001b[43m,\u001b[49m\n\u001b[1;32m    949\u001b[0m \u001b[43m                \u001b[49m\u001b[38;5;124;43m\"\u001b[39;49m\u001b[38;5;124;43mreasoning_effort\u001b[39;49m\u001b[38;5;124;43m\"\u001b[39;49m\u001b[43m:\u001b[49m\u001b[43m \u001b[49m\u001b[43mreasoning_effort\u001b[49m\u001b[43m,\u001b[49m\n\u001b[1;32m    950\u001b[0m \u001b[43m                \u001b[49m\u001b[38;5;124;43m\"\u001b[39;49m\u001b[38;5;124;43mresponse_format\u001b[39;49m\u001b[38;5;124;43m\"\u001b[39;49m\u001b[43m:\u001b[49m\u001b[43m \u001b[49m\u001b[43mresponse_format\u001b[49m\u001b[43m,\u001b[49m\n\u001b[1;32m    951\u001b[0m \u001b[43m                \u001b[49m\u001b[38;5;124;43m\"\u001b[39;49m\u001b[38;5;124;43mseed\u001b[39;49m\u001b[38;5;124;43m\"\u001b[39;49m\u001b[43m:\u001b[49m\u001b[43m \u001b[49m\u001b[43mseed\u001b[49m\u001b[43m,\u001b[49m\n\u001b[1;32m    952\u001b[0m \u001b[43m                \u001b[49m\u001b[38;5;124;43m\"\u001b[39;49m\u001b[38;5;124;43mservice_tier\u001b[39;49m\u001b[38;5;124;43m\"\u001b[39;49m\u001b[43m:\u001b[49m\u001b[43m \u001b[49m\u001b[43mservice_tier\u001b[49m\u001b[43m,\u001b[49m\n\u001b[1;32m    953\u001b[0m \u001b[43m                \u001b[49m\u001b[38;5;124;43m\"\u001b[39;49m\u001b[38;5;124;43mstop\u001b[39;49m\u001b[38;5;124;43m\"\u001b[39;49m\u001b[43m:\u001b[49m\u001b[43m \u001b[49m\u001b[43mstop\u001b[49m\u001b[43m,\u001b[49m\n\u001b[1;32m    954\u001b[0m \u001b[43m                \u001b[49m\u001b[38;5;124;43m\"\u001b[39;49m\u001b[38;5;124;43mstore\u001b[39;49m\u001b[38;5;124;43m\"\u001b[39;49m\u001b[43m:\u001b[49m\u001b[43m \u001b[49m\u001b[43mstore\u001b[49m\u001b[43m,\u001b[49m\n\u001b[1;32m    955\u001b[0m \u001b[43m                \u001b[49m\u001b[38;5;124;43m\"\u001b[39;49m\u001b[38;5;124;43mstream\u001b[39;49m\u001b[38;5;124;43m\"\u001b[39;49m\u001b[43m:\u001b[49m\u001b[43m \u001b[49m\u001b[43mstream\u001b[49m\u001b[43m,\u001b[49m\n\u001b[1;32m    956\u001b[0m \u001b[43m                \u001b[49m\u001b[38;5;124;43m\"\u001b[39;49m\u001b[38;5;124;43mstream_options\u001b[39;49m\u001b[38;5;124;43m\"\u001b[39;49m\u001b[43m:\u001b[49m\u001b[43m \u001b[49m\u001b[43mstream_options\u001b[49m\u001b[43m,\u001b[49m\n\u001b[1;32m    957\u001b[0m \u001b[43m                \u001b[49m\u001b[38;5;124;43m\"\u001b[39;49m\u001b[38;5;124;43mtemperature\u001b[39;49m\u001b[38;5;124;43m\"\u001b[39;49m\u001b[43m:\u001b[49m\u001b[43m \u001b[49m\u001b[43mtemperature\u001b[49m\u001b[43m,\u001b[49m\n\u001b[1;32m    958\u001b[0m \u001b[43m                \u001b[49m\u001b[38;5;124;43m\"\u001b[39;49m\u001b[38;5;124;43mtool_choice\u001b[39;49m\u001b[38;5;124;43m\"\u001b[39;49m\u001b[43m:\u001b[49m\u001b[43m \u001b[49m\u001b[43mtool_choice\u001b[49m\u001b[43m,\u001b[49m\n\u001b[1;32m    959\u001b[0m \u001b[43m                \u001b[49m\u001b[38;5;124;43m\"\u001b[39;49m\u001b[38;5;124;43mtools\u001b[39;49m\u001b[38;5;124;43m\"\u001b[39;49m\u001b[43m:\u001b[49m\u001b[43m \u001b[49m\u001b[43mtools\u001b[49m\u001b[43m,\u001b[49m\n\u001b[1;32m    960\u001b[0m \u001b[43m                \u001b[49m\u001b[38;5;124;43m\"\u001b[39;49m\u001b[38;5;124;43mtop_logprobs\u001b[39;49m\u001b[38;5;124;43m\"\u001b[39;49m\u001b[43m:\u001b[49m\u001b[43m \u001b[49m\u001b[43mtop_logprobs\u001b[49m\u001b[43m,\u001b[49m\n\u001b[1;32m    961\u001b[0m \u001b[43m                \u001b[49m\u001b[38;5;124;43m\"\u001b[39;49m\u001b[38;5;124;43mtop_p\u001b[39;49m\u001b[38;5;124;43m\"\u001b[39;49m\u001b[43m:\u001b[49m\u001b[43m \u001b[49m\u001b[43mtop_p\u001b[49m\u001b[43m,\u001b[49m\n\u001b[1;32m    962\u001b[0m \u001b[43m                \u001b[49m\u001b[38;5;124;43m\"\u001b[39;49m\u001b[38;5;124;43muser\u001b[39;49m\u001b[38;5;124;43m\"\u001b[39;49m\u001b[43m:\u001b[49m\u001b[43m \u001b[49m\u001b[43muser\u001b[49m\u001b[43m,\u001b[49m\n\u001b[1;32m    963\u001b[0m \u001b[43m                \u001b[49m\u001b[38;5;124;43m\"\u001b[39;49m\u001b[38;5;124;43mweb_search_options\u001b[39;49m\u001b[38;5;124;43m\"\u001b[39;49m\u001b[43m:\u001b[49m\u001b[43m \u001b[49m\u001b[43mweb_search_options\u001b[49m\u001b[43m,\u001b[49m\n\u001b[1;32m    964\u001b[0m \u001b[43m            \u001b[49m\u001b[43m}\u001b[49m\u001b[43m,\u001b[49m\n\u001b[1;32m    965\u001b[0m \u001b[43m            \u001b[49m\u001b[43mcompletion_create_params\u001b[49m\u001b[38;5;241;43m.\u001b[39;49m\u001b[43mCompletionCreateParamsStreaming\u001b[49m\n\u001b[1;32m    966\u001b[0m \u001b[43m            \u001b[49m\u001b[38;5;28;43;01mif\u001b[39;49;00m\u001b[43m \u001b[49m\u001b[43mstream\u001b[49m\n\u001b[1;32m    967\u001b[0m \u001b[43m            \u001b[49m\u001b[38;5;28;43;01melse\u001b[39;49;00m\u001b[43m \u001b[49m\u001b[43mcompletion_create_params\u001b[49m\u001b[38;5;241;43m.\u001b[39;49m\u001b[43mCompletionCreateParamsNonStreaming\u001b[49m\u001b[43m,\u001b[49m\n\u001b[1;32m    968\u001b[0m \u001b[43m        \u001b[49m\u001b[43m)\u001b[49m\u001b[43m,\u001b[49m\n\u001b[1;32m    969\u001b[0m \u001b[43m        \u001b[49m\u001b[43moptions\u001b[49m\u001b[38;5;241;43m=\u001b[39;49m\u001b[43mmake_request_options\u001b[49m\u001b[43m(\u001b[49m\n\u001b[1;32m    970\u001b[0m \u001b[43m            \u001b[49m\u001b[43mextra_headers\u001b[49m\u001b[38;5;241;43m=\u001b[39;49m\u001b[43mextra_headers\u001b[49m\u001b[43m,\u001b[49m\u001b[43m \u001b[49m\u001b[43mextra_query\u001b[49m\u001b[38;5;241;43m=\u001b[39;49m\u001b[43mextra_query\u001b[49m\u001b[43m,\u001b[49m\u001b[43m \u001b[49m\u001b[43mextra_body\u001b[49m\u001b[38;5;241;43m=\u001b[39;49m\u001b[43mextra_body\u001b[49m\u001b[43m,\u001b[49m\u001b[43m \u001b[49m\u001b[43mtimeout\u001b[49m\u001b[38;5;241;43m=\u001b[39;49m\u001b[43mtimeout\u001b[49m\n\u001b[1;32m    971\u001b[0m \u001b[43m        \u001b[49m\u001b[43m)\u001b[49m\u001b[43m,\u001b[49m\n\u001b[1;32m    972\u001b[0m \u001b[43m        \u001b[49m\u001b[43mcast_to\u001b[49m\u001b[38;5;241;43m=\u001b[39;49m\u001b[43mChatCompletion\u001b[49m\u001b[43m,\u001b[49m\n\u001b[1;32m    973\u001b[0m \u001b[43m        \u001b[49m\u001b[43mstream\u001b[49m\u001b[38;5;241;43m=\u001b[39;49m\u001b[43mstream\u001b[49m\u001b[43m \u001b[49m\u001b[38;5;129;43;01mor\u001b[39;49;00m\u001b[43m \u001b[49m\u001b[38;5;28;43;01mFalse\u001b[39;49;00m\u001b[43m,\u001b[49m\n\u001b[1;32m    974\u001b[0m \u001b[43m        \u001b[49m\u001b[43mstream_cls\u001b[49m\u001b[38;5;241;43m=\u001b[39;49m\u001b[43mStream\u001b[49m\u001b[43m[\u001b[49m\u001b[43mChatCompletionChunk\u001b[49m\u001b[43m]\u001b[49m\u001b[43m,\u001b[49m\n\u001b[1;32m    975\u001b[0m \u001b[43m    \u001b[49m\u001b[43m)\u001b[49m\n",
      "File \u001b[0;32m~/.pyenv/versions/3.11.6/lib/python3.11/site-packages/openai/_base_client.py:1276\u001b[0m, in \u001b[0;36mSyncAPIClient.post\u001b[0;34m(self, path, cast_to, body, options, files, stream, stream_cls)\u001b[0m\n\u001b[1;32m   1262\u001b[0m \u001b[38;5;28;01mdef\u001b[39;00m \u001b[38;5;21mpost\u001b[39m(\n\u001b[1;32m   1263\u001b[0m     \u001b[38;5;28mself\u001b[39m,\n\u001b[1;32m   1264\u001b[0m     path: \u001b[38;5;28mstr\u001b[39m,\n\u001b[0;32m   (...)\u001b[0m\n\u001b[1;32m   1271\u001b[0m     stream_cls: \u001b[38;5;28mtype\u001b[39m[_StreamT] \u001b[38;5;241m|\u001b[39m \u001b[38;5;28;01mNone\u001b[39;00m \u001b[38;5;241m=\u001b[39m \u001b[38;5;28;01mNone\u001b[39;00m,\n\u001b[1;32m   1272\u001b[0m ) \u001b[38;5;241m-\u001b[39m\u001b[38;5;241m>\u001b[39m ResponseT \u001b[38;5;241m|\u001b[39m _StreamT:\n\u001b[1;32m   1273\u001b[0m     opts \u001b[38;5;241m=\u001b[39m FinalRequestOptions\u001b[38;5;241m.\u001b[39mconstruct(\n\u001b[1;32m   1274\u001b[0m         method\u001b[38;5;241m=\u001b[39m\u001b[38;5;124m\"\u001b[39m\u001b[38;5;124mpost\u001b[39m\u001b[38;5;124m\"\u001b[39m, url\u001b[38;5;241m=\u001b[39mpath, json_data\u001b[38;5;241m=\u001b[39mbody, files\u001b[38;5;241m=\u001b[39mto_httpx_files(files), \u001b[38;5;241m*\u001b[39m\u001b[38;5;241m*\u001b[39moptions\n\u001b[1;32m   1275\u001b[0m     )\n\u001b[0;32m-> 1276\u001b[0m     \u001b[38;5;28;01mreturn\u001b[39;00m cast(ResponseT, \u001b[38;5;28;43mself\u001b[39;49m\u001b[38;5;241;43m.\u001b[39;49m\u001b[43mrequest\u001b[49m\u001b[43m(\u001b[49m\u001b[43mcast_to\u001b[49m\u001b[43m,\u001b[49m\u001b[43m \u001b[49m\u001b[43mopts\u001b[49m\u001b[43m,\u001b[49m\u001b[43m \u001b[49m\u001b[43mstream\u001b[49m\u001b[38;5;241;43m=\u001b[39;49m\u001b[43mstream\u001b[49m\u001b[43m,\u001b[49m\u001b[43m \u001b[49m\u001b[43mstream_cls\u001b[49m\u001b[38;5;241;43m=\u001b[39;49m\u001b[43mstream_cls\u001b[49m\u001b[43m)\u001b[49m)\n",
      "File \u001b[0;32m~/.pyenv/versions/3.11.6/lib/python3.11/site-packages/openai/_base_client.py:949\u001b[0m, in \u001b[0;36mSyncAPIClient.request\u001b[0;34m(self, cast_to, options, remaining_retries, stream, stream_cls)\u001b[0m\n\u001b[1;32m    946\u001b[0m \u001b[38;5;28;01melse\u001b[39;00m:\n\u001b[1;32m    947\u001b[0m     retries_taken \u001b[38;5;241m=\u001b[39m \u001b[38;5;241m0\u001b[39m\n\u001b[0;32m--> 949\u001b[0m \u001b[38;5;28;01mreturn\u001b[39;00m \u001b[38;5;28;43mself\u001b[39;49m\u001b[38;5;241;43m.\u001b[39;49m\u001b[43m_request\u001b[49m\u001b[43m(\u001b[49m\n\u001b[1;32m    950\u001b[0m \u001b[43m    \u001b[49m\u001b[43mcast_to\u001b[49m\u001b[38;5;241;43m=\u001b[39;49m\u001b[43mcast_to\u001b[49m\u001b[43m,\u001b[49m\n\u001b[1;32m    951\u001b[0m \u001b[43m    \u001b[49m\u001b[43moptions\u001b[49m\u001b[38;5;241;43m=\u001b[39;49m\u001b[43moptions\u001b[49m\u001b[43m,\u001b[49m\n\u001b[1;32m    952\u001b[0m \u001b[43m    \u001b[49m\u001b[43mstream\u001b[49m\u001b[38;5;241;43m=\u001b[39;49m\u001b[43mstream\u001b[49m\u001b[43m,\u001b[49m\n\u001b[1;32m    953\u001b[0m \u001b[43m    \u001b[49m\u001b[43mstream_cls\u001b[49m\u001b[38;5;241;43m=\u001b[39;49m\u001b[43mstream_cls\u001b[49m\u001b[43m,\u001b[49m\n\u001b[1;32m    954\u001b[0m \u001b[43m    \u001b[49m\u001b[43mretries_taken\u001b[49m\u001b[38;5;241;43m=\u001b[39;49m\u001b[43mretries_taken\u001b[49m\u001b[43m,\u001b[49m\n\u001b[1;32m    955\u001b[0m \u001b[43m\u001b[49m\u001b[43m)\u001b[49m\n",
      "File \u001b[0;32m~/.pyenv/versions/3.11.6/lib/python3.11/site-packages/openai/_base_client.py:1057\u001b[0m, in \u001b[0;36mSyncAPIClient._request\u001b[0;34m(self, cast_to, options, retries_taken, stream, stream_cls)\u001b[0m\n\u001b[1;32m   1054\u001b[0m         err\u001b[38;5;241m.\u001b[39mresponse\u001b[38;5;241m.\u001b[39mread()\n\u001b[1;32m   1056\u001b[0m     log\u001b[38;5;241m.\u001b[39mdebug(\u001b[38;5;124m\"\u001b[39m\u001b[38;5;124mRe-raising status error\u001b[39m\u001b[38;5;124m\"\u001b[39m)\n\u001b[0;32m-> 1057\u001b[0m     \u001b[38;5;28;01mraise\u001b[39;00m \u001b[38;5;28mself\u001b[39m\u001b[38;5;241m.\u001b[39m_make_status_error_from_response(err\u001b[38;5;241m.\u001b[39mresponse) \u001b[38;5;28;01mfrom\u001b[39;00m \u001b[38;5;28;01mNone\u001b[39;00m\n\u001b[1;32m   1059\u001b[0m \u001b[38;5;28;01mreturn\u001b[39;00m \u001b[38;5;28mself\u001b[39m\u001b[38;5;241m.\u001b[39m_process_response(\n\u001b[1;32m   1060\u001b[0m     cast_to\u001b[38;5;241m=\u001b[39mcast_to,\n\u001b[1;32m   1061\u001b[0m     options\u001b[38;5;241m=\u001b[39moptions,\n\u001b[0;32m   (...)\u001b[0m\n\u001b[1;32m   1065\u001b[0m     retries_taken\u001b[38;5;241m=\u001b[39mretries_taken,\n\u001b[1;32m   1066\u001b[0m )\n",
      "\u001b[0;31mAuthenticationError\u001b[0m: Error code: 401 - {'error': {'message': 'Incorrect API key provided: ENTER AP******HERE. You can find your API key at https://platform.openai.com/account/api-keys.', 'type': 'invalid_request_error', 'param': None, 'code': 'invalid_api_key'}}"
     ]
    }
   ],
   "source": [
    "# 1. Install the library (run this once)\n",
    "# !pip install openai\n",
    "\n",
    "import openai\n",
    "import os\n",
    "\n",
    "# 2. Set up your API key\n",
    "# (Best practice is to set this as an environment variable)\n",
    "# openai.api_key = os.getenv(\"OPENAI_API_KEY\")\n",
    "os.environ[\"OPENAI_API_KEY\"] = \"ENTER API KEY HERE\"\n",
    "\n",
    "\n",
    "# 3. Send the prompt to the model\n",
    "response = openai.chat.completions.create(\n",
    "  model=\"gpt-5\", # Or \"gpt-3.5-turbo\"\n",
    "  messages=[\n",
    "    {\"role\": \"system\", \"content\": \"You are a expert business analyst for Microsoft Azure customer support.\"},\n",
    "    {\"role\": \"user\", \"content\": final_prompt_explained}\n",
    "  ]\n",
    ")\n",
    "\n",
    "# 4. Print the executive summary\n",
    "print(\"--- 🚀 Executive Summary ---\")\n",
    "print(response.choices[0].message.content)"
   ]
  },
  {
   "cell_type": "code",
   "execution_count": null,
   "id": "97a1d2fe-7221-42cb-95ac-b135606d5163",
   "metadata": {},
   "outputs": [],
   "source": [
    "# --- 🚀 Final Step (HTML Report): Generate LLM Narrative and Infuse Plots ---\n",
    "import base64\n",
    "import markdown\n",
    "\n",
    "# This function is correct as you provided it.\n",
    "def create_html_report_final(\n",
    "    executive_summary,\n",
    "    llm_placeholder_text,\n",
    "    plot_paths,\n",
    "    output_filename=\"Executive_Summary_Final.html\"\n",
    "):\n",
    "    \"\"\"\n",
    "    Takes the executive summary, the placeholder narrative, and plot paths\n",
    "    to generate a self-contained HTML report.\n",
    "    \"\"\"\n",
    "    summary_html = markdown.markdown(executive_summary)\n",
    "    plots_narrative_html = markdown.markdown(llm_placeholder_text)\n",
    "\n",
    "    for placeholder, path in plot_paths.items():\n",
    "        try:\n",
    "            with open(path, \"rb\") as image_file:\n",
    "                encoded_string = base64.b64encode(image_file.read()).decode('utf-8')\n",
    "            plot_title = placeholder.strip('[]').replace('INSERT', '').replace('PLOT HERE', '').replace('_', ' ').strip().title()\n",
    "            img_tag = f'<h3>{plot_title}</h3><img src=\"data:image/png;base64,{encoded_string}\">'\n",
    "            plots_narrative_html = plots_narrative_html.replace(placeholder, img_tag)\n",
    "        except (FileNotFoundError, TypeError):\n",
    "            plots_narrative_html = plots_narrative_html.replace(placeholder, f\"<p><i><b>Warning:</b> Image file not found at {path}.</i></p>\")\n",
    "\n",
    "    html_content = f\"\"\"\n",
    "    <html>\n",
    "    <head>\n",
    "        <title>Executive Summary</title>\n",
    "        <style>\n",
    "            body {{ font-family: -apple-system, BlinkMacSystemFont, \"Segoe UI\", Roboto, Helvetica, Arial, sans-serif; line-height: 1.6; padding: 25px; max-width: 960px; margin: auto; color: #333; }}\n",
    "            h1, h2, h3 {{ color: #2a2a2a; border-bottom: 1px solid #eee; padding-bottom: 5px; margin-top: 30px;}}\n",
    "            h1 {{ text-align: center; border-bottom: 2px solid #333; }}\n",
    "            hr {{ border: 0; border-top: 1px solid #eee; margin: 40px 0; }}\n",
    "            img {{ max-width: 100%; height: auto; border: 1px solid #ddd; border-radius: 4px; margin: 20px 0; box-shadow: 0 2px 4px rgba(0,0,0,0.1); }}\n",
    "            p, li {{ font-size: 16px; }}\n",
    "            ul {{ padding-left: 20px; }}\n",
    "            table {{ border-collapse: collapse; width: 100%; margin: 20px 0; }}\n",
    "            th, td {{ border: 1px solid #ddd; padding: 8px; text-align: left; }}\n",
    "            th {{ background-color: #f4f4f4; }}\n",
    "        </style>\n",
    "    </head>\n",
    "    <body>\n",
    "        <h1>Executive Summary: Capacity & Workload Analysis</h1>\n",
    "        {summary_html}\n",
    "        <hr>\n",
    "        <h2>Detailed Analysis & Visualizations</h2>\n",
    "        {plots_narrative_html}\n",
    "    </body>\n",
    "    </html>\n",
    "    \"\"\"\n",
    "    \n",
    "    with open(output_filename, \"w\", encoding='utf-8') as f:\n",
    "        f.write(html_content)\n",
    "        \n",
    "    print(f\"✅ Report successfully generated: {output_filename}\")\n",
    "\n",
    "\n",
    "# --- 1. Get the Executive Summary from the LLM ---\n",
    "# This uses the detailed prompt created in the previous cell.\n",
    "# NOTE: Replace the line below with your actual API call.\n",
    "# response = openai.chat.completions.create(model=\"gpt-4\", messages=[{\"role\": \"user\", \"content\": final_prompt_explained}])\n",
    "# executive_summary_text = response.choices[0].message.content\n",
    "executive_summary_text = response.choices[0].message.content\n",
    "\n",
    "\n",
    "# --- 2. Get the Plot Narrative from the LLM ---\n",
    "# This generates the prompt that asks the LLM to include placeholders.\n",
    "final_placeholder_prompt = generate_llm_placeholder_prompt(\n",
    "    team_metrics_df=team_metrics,\n",
    "    scorer_obj=scorer,\n",
    "    simulation_df=combined,\n",
    "    sanity_df=sanity_df,\n",
    "    mse_report_df=mse_report,\n",
    "    contributions_df=contributions,\n",
    "    opt_plan_obj=plan_output,\n",
    "    bucket_uplift_df=bucket_uplift_summary,\n",
    "    quadrant_df=wsi_capacity_quadrant_all,\n",
    "    filtered_quadrant_df=wsi_capacity_quadrant_filtered,\n",
    "    wsi_config=wsi_cfg,\n",
    "    opt_config=opt_cfg,\n",
    "    post_volume_df=post_volume_df\n",
    ")\n",
    "\n",
    "# NOTE: Replace the line below with your actual API call.\n",
    "# response_for_html = openai.chat.completions.create(model=\"gpt-4\", messages=[{\"role\": \"user\", \"content\": final_placeholder_prompt}])\n",
    "# llm_text_with_placeholders = response_for_html.choices[0].message.content\n",
    "llm_text_with_placeholders = \"\"\"\n",
    "### Placeholder narrative for plots. The LLM will generate detailed text here.\n",
    "\n",
    "This section provides the visual charts that support the executive summary above.\n",
    "[INSERT SCORE DISTRIBUTION PLOT HERE]\n",
    "[INSERT TEAM METRICS PLOT HERE]\n",
    "[INSERT FEATURE IMPORTANCE PLOT HERE]\n",
    "[INSERT CONTRIBUTION WATERFALL PLOT HERE]\n",
    "[INSERT SIMULATION HEATMAP HERE]\n",
    "[INSERT TOTAL VOLUME UPLIFT DISTRIBUTION PLOT HERE]\n",
    "# [INSERT OPTIMIZER PLAN PLOT HERE]\n",
    "[INSERT QUADRANT PLOT ALL GROUPS HERE]\n",
    "[INSERT QUADRANT PLOT FILTERED HERE]\n",
    "\"\"\" # Using a sample text for demonstration\n",
    "\n",
    "# --- 3. Define the complete and correct dictionary of plot paths ---\n",
    "saved_plots = {\n",
    "    \"[INSERT SCORE DISTRIBUTION PLOT HERE]\": score_dist_path,\n",
    "    \"[INSERT TEAM METRICS PLOT HERE]\": team_metrics_path,\n",
    "    \"[INSERT FEATURE IMPORTANCE PLOT HERE]\": feature_importance_path,\n",
    "    \"[INSERT CONTRIBUTION WATERFALL PLOT HERE]\": contributions_path,\n",
    "    \"[INSERT SIMULATION HEATMAP HERE]\": simulation_heatmap_path,\n",
    "    \"[INSERT TOTAL VOLUME UPLIFT DISTRIBUTION PLOT HERE]\": volume_dist_path,\n",
    "    # \"[INSERT OPTIMIZER PLAN PLOT HERE]\": optimizer_plan_path,\n",
    "    \"[INSERT QUADRANT PLOT ALL GROUPS HERE]\": quadrant_all_path,\n",
    "    \"[INSERT QUADRANT PLOT FILTERED HERE]\": quadrant_filtered_path # Now includes the filtered plot\n",
    "    # Note: \"[INSERT SIMULATION DISTRIBUTIONS PLOT HERE]\" is omitted as its generating function is inactive.\n",
    "}\n",
    "\n",
    "# --- 4. Generate the final HTML report ---\n",
    "create_html_report_final(\n",
    "    executive_summary=executive_summary_text,\n",
    "    llm_placeholder_text=llm_text_with_placeholders,\n",
    "    plot_paths=saved_plots\n",
    ")"
   ]
  },
  {
   "cell_type": "code",
   "execution_count": null,
   "id": "9d7ec198-f405-4f7f-aabc-772fc1d7cddd",
   "metadata": {},
   "outputs": [],
   "source": []
  },
  {
   "cell_type": "code",
   "execution_count": null,
   "id": "5d426709-8097-43c2-a81d-6786709ef113",
   "metadata": {},
   "outputs": [],
   "source": []
  },
  {
   "cell_type": "code",
   "execution_count": null,
   "id": "d0841920-6751-4b4d-b0e1-aed525357525",
   "metadata": {},
   "outputs": [],
   "source": []
  },
  {
   "cell_type": "code",
   "execution_count": null,
   "id": "6134fe89-40c2-4c04-be99-4cde780671bb",
   "metadata": {},
   "outputs": [],
   "source": []
  }
 ],
 "metadata": {
  "kernelspec": {
   "display_name": "Python 3 (pyenv 3.11.6)",
   "language": "python",
   "name": "pyenv-3.11.6"
  },
  "language_info": {
   "codemirror_mode": {
    "name": "ipython",
    "version": 3
   },
   "file_extension": ".py",
   "mimetype": "text/x-python",
   "name": "python",
   "nbconvert_exporter": "python",
   "pygments_lexer": "ipython3",
   "version": "3.11.6"
  }
 },
 "nbformat": 4,
 "nbformat_minor": 5
}
