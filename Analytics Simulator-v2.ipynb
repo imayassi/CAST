{
 "cells": [
  {
   "cell_type": "code",
   "execution_count": 1,
   "id": "e4a22d41-0896-473a-8664-3814be9d5c2b",
   "metadata": {},
   "outputs": [],
   "source": [
    "# !pip install markdown\n",
    "# !pip install --upgrade kaleido"
   ]
  },
  {
   "cell_type": "code",
   "execution_count": 1,
   "id": "7ccd3662-006f-4055-9d2f-98b5483bbc41",
   "metadata": {},
   "outputs": [
    {
     "name": "stdout",
     "output_type": "stream",
     "text": [
      "✅ Setup complete.\n"
     ]
    }
   ],
   "source": [
    "# --- Technical Setup ---\n",
    "import pandas as pd\n",
    "import numpy as np\n",
    "import seaborn as sns\n",
    "import matplotlib.pyplot as plt\n",
    "import warnings\n",
    "from typing import Dict, List, Optional, Tuple\n",
    "\n",
    "# Ignore warnings for a cleaner executive report\n",
    "warnings.filterwarnings('ignore')\n",
    "\n",
    "# Set plotting style and display options\n",
    "sns.set_style(\"whitegrid\")\n",
    "pd.set_option('display.float_format', '{:,.2f}'.format)\n",
    "print(\"✅ Setup complete.\")"
   ]
  },
  {
   "cell_type": "code",
   "execution_count": 2,
   "id": "b5390353-7810-4220-95a0-ab42fd7ea263",
   "metadata": {},
   "outputs": [
    {
     "name": "stdout",
     "output_type": "stream",
     "text": [
      "✅ Setup complete with all consolidated components imported.\n"
     ]
    }
   ],
   "source": [
    "# --- Corrected Cell 1: Updated Imports ---\n",
    "\n",
    "# Explicitly import all the necessary components from your consolidated .py file\n",
    "from capacity_pipeline import (\n",
    "    ColumnMap, ScoreConfig, WSIConfig, ScenarioConfig, OptimizeConfig,\n",
    "    DataPrep, CapacityScorer, WSIComputer, OptimizeConfig, run_optimizer_pipeline, \n",
    "    pre_post_tree_pipeline, # NEW: The consolidated simulation function\n",
    "    compute_capacity_centric_wsi, # NEW: The standalone WSI function\n",
    "    make_sample_data,\n",
    "    plot_score_distributions, plot_team_metrics, plot_feature_importances,\n",
    "    plot_contributions_waterfall, plot_optimization_plan,\n",
    "    plot_simulation_distributions, plot_bucket_uplift_distributions,\n",
    "    plot_volume_uplift_distributions\n",
    ")\n",
    "\n",
    "import pandas as pd\n",
    "import numpy as np\n",
    "import seaborn as sns\n",
    "import matplotlib.pyplot as plt\n",
    "import warnings\n",
    "from typing import Dict, List, Optional, Tuple\n",
    "\n",
    "# Ignore warnings for a cleaner executive report\n",
    "warnings.filterwarnings('ignore')\n",
    "\n",
    "# Set plotting style and display options\n",
    "sns.set_style(\"whitegrid\")\n",
    "pd.set_option('display.float_format', '{:,.2f}'.format)\n",
    "print(\"✅ Setup complete with all consolidated components imported.\")"
   ]
  },
  {
   "cell_type": "code",
   "execution_count": 3,
   "id": "1642f7a7-3e10-4947-8685-bcbb29ee6dfe",
   "metadata": {},
   "outputs": [
    {
     "name": "stdout",
     "output_type": "stream",
     "text": [
      "✅ Hybrid analysis setup with guardrails is ready.\n"
     ]
    }
   ],
   "source": [
    "# ============================\n",
    "# REAL DATA: Fully Configurable Analysis Setup\n",
    "# ============================\n",
    "\n",
    "import pandas as pd\n",
    "\n",
    "# 0) Align canonical metric names used downstream\n",
    "#    - The simulator/modeling expect: \"efficiency\" and \"days_to_close\"\n",
    "#    - Your data has: som (efficiency proxy) and avgDaysToClose\n",
    "df_full = df_full.rename(columns={\n",
    "    \"som\": \"efficiency\",\n",
    "    \"avgDaysToClose\": \"days_to_close\"\n",
    "})\n",
    "\n",
    "# (Optional sanity) ensure required ID & metric columns exist\n",
    "_required = [\"_date_\", \"alias\", \"StaffGroup\", \"numCases\", \"backlog\", \"efficiency\", \"days_to_close\"]\n",
    "missing = [c for c in _required if c not in df_full.columns]\n",
    "assert not missing, f\"Missing required columns in df_full: {missing}\"\n",
    "\n",
    "# 1) IDENTIFIER COLUMNS (map to your real names)\n",
    "cols = ColumnMap(\n",
    "    date=\"_date_\",\n",
    "    alias=\"alias\",\n",
    "    group=\"StaffGroup\",\n",
    "    num_cases=\"numCases\",\n",
    "    backlog=\"backlog\",\n",
    "    avg_dtc=\"days_to_close\",      # after rename above\n",
    "    efficiency_raw=\"efficiency\"   # after rename above\n",
    ")\n",
    "\n",
    "# 2) FEATURE COLUMNS for Capacity Score (your real features)\n",
    "my_feature_columns = [\n",
    "    \"numCases\", \"numOpenCases\", \"backlog\", \"TimeSpent\", \"ScheduleBlocks\", \"numCritsit\", \"sumIsCritsit\",\n",
    "    \"currentSev1\", \"currentSevA\", \"currentSevB\", \"currentSevC\", \"initialSev1\", \"initialSevA\",\n",
    "    \"initialSevB\", \"initialSevC\", \"maxSev1\", \"maxSevA\", \"maxSevB\", \"maxSevC\", \"WasEverSev1A\",\n",
    "    \"avgServiceRequestOwnershipCount\", \"OwnershipCount\", \"TaskCount\", \"TotalEvent\", \"days_to_close\",\n",
    "    \"avgHoursToInitialResponse\", \"Is24X7OptedIn\", \"num24X7OptedIn\", \"IsClosedOnWeekend\", \"LinearityScore\",\n",
    "    \"AICS\", \"tenure\", \"efficiency\", \"activeTimeRatio\", \"hoursToSLAExpires\", \"IsIRMet\",\n",
    "    \"incidentServiceRequestType\", \"nonIncidentServiceRequestType\", \"unknownServiceRequestType\",\n",
    "    \"IsARR\", \"IsEnterpriseSupport\", \"SAPs\", \"CrossSAPTasks\", \"hasICM\", \"ICM_flag\",\n",
    "]\n",
    "\n",
    "# Direction: True = higher is worse; False = higher is better\n",
    "my_feature_direction = {\n",
    "    \"numCases\": True, \"numOpenCases\": True, \"backlog\": True, \"TimeSpent\": True, \"ScheduleBlocks\": True,\n",
    "    \"numCritsit\": True, \"sumIsCritsit\": True, \"currentSev1\": True, \"currentSevA\": True, \"currentSevB\": True, \"currentSevC\": True,\n",
    "    \"initialSev1\": True, \"initialSevA\": True, \"initialSevB\": True, \"initialSevC\": True,\n",
    "    \"maxSev1\": True, \"maxSevA\": True, \"maxSevB\": True, \"maxSevC\": True, \"WasEverSev1A\": True,\n",
    "    \"avgServiceRequestOwnershipCount\": True, \"OwnershipCount\": True, \"TaskCount\": True, \"TotalEvent\": True,\n",
    "    \"days_to_close\": True, \"avgHoursToInitialResponse\": True,\n",
    "    \"Is24X7OptedIn\": True, \"num24X7OptedIn\": True, \"IsClosedOnWeekend\": True,\n",
    "    \"LinearityScore\": False, \"AICS\": False, \"tenure\": False, \"efficiency\": False,\n",
    "    \"activeTimeRatio\": True, \"hoursToSLAExpires\": False, \"IsIRMet\": False,\n",
    "    \"incidentServiceRequestType\": True, \"nonIncidentServiceRequestType\": True, \"unknownServiceRequestType\": True,\n",
    "    \"IsARR\": True, \"IsEnterpriseSupport\": True, \"SAPs\": True, \"CrossSAPTasks\": True, \"hasICM\": True, \"ICM_flag\": True,\n",
    "}\n",
    "\n",
    "# 3) DERIVED METRIC NAMES (canonical names used across the pipeline)\n",
    "CAPACITY_SCORE_COL = \"Capacity_Score_0_100\"\n",
    "WSI_COL          = \"WSI_0_100\"\n",
    "EFFICIENCY_COL   = \"efficiency\"\n",
    "DTC_COL          = \"days_to_close\"\n",
    "\n",
    "# 4) CONFIG OBJECTS\n",
    "\n",
    "# If you want simple equal weighting across many features, omit percentile_weights.\n",
    "# If you prefer a small weighted subset, supply weights only for those subset keys.\n",
    "score_cfg = ScoreConfig(\n",
    "    method=\"percentile\",                 # percentile method for final score\n",
    "    direction_map=my_feature_direction,  # used by DataPrep\n",
    "    random_state=42,\n",
    "    score_range=(20, 100),               # guardrail floor at 20\n",
    "    percentile_weights=None              # equal weights across features by default\n",
    "    # Example: percentile_weights={\"numCases\":0.25,\"backlog\":0.25,\"days_to_close\":0.25,\"efficiency\":0.25}\n",
    ")\n",
    "\n",
    "wsi_cfg = WSIConfig(team_aggregate=\"mean\")\n",
    "scn_cfg = ScenarioConfig(capacity_col_out=CAPACITY_SCORE_COL, random_state=42)\n",
    "\n",
    "# IMPORTANT: Use canonical metric strings (not column-map attributes) in the objective\n",
    "opt_cfg = OptimizeConfig(\n",
    "    budget_moves=15,\n",
    "    objective_weights={\n",
    "        WSI_COL: -1.0,\n",
    "        EFFICIENCY_COL: +0.6,\n",
    "        DTC_COL: -0.6,\n",
    "        \"backlog\": -0.8,\n",
    "        \"numCases\": +0.25\n",
    "    },\n",
    "    random_state=42\n",
    ")\n",
    "\n",
    "# Targets for the outcome modeler (columns must exist in the training grid)\n",
    "modeler_targets = (WSI_COL, EFFICIENCY_COL, DTC_COL, \"backlog\")\n",
    "\n",
    "print(\"✅ Real-data analysis setup is ready.\")\n",
    "print(f\"Features in play: {len(my_feature_columns)}\")"
   ]
  },
  {
   "cell_type": "code",
   "execution_count": 4,
   "id": "d4945c9e-2380-414b-9528-b66c4806a1a1",
   "metadata": {},
   "outputs": [
    {
     "name": "stdout",
     "output_type": "stream",
     "text": [
      "✅ Configuration loaded.\n"
     ]
    }
   ],
   "source": [
    "# --- Configuration Settings ---\n",
    "\n",
    "# Defines the column names in your data\n",
    "cols = ColumnMap()\n",
    "\n",
    "# List of features to use when calculating the Capacity Score\n",
    "capacity_features = [\n",
    "    \"numCases\", \"numOpenCases\", \"backlog\", \"TimeSpent\", \"currentSevA\",\n",
    "    \"Is24X7OptedIn\", \"IsClosedOnWeekend\", \"tenure\", \"som\", \"avgDaysToClose\"\n",
    "]\n",
    "\n",
    "# Config for the Capacity Score\n",
    "# In your notebook configuration cell\n",
    "\n",
    "score_cfg = ScoreConfig(\n",
    "    method=\"percentile\",\n",
    "    bench_percentile=0.70,\n",
    "    scale_scope=\"by_group\",\n",
    "    percentile_clip=(5, 95),\n",
    "    random_state=42,\n",
    "    distribution=\"gaussian\", # Use the new normalization method,\n",
    "    score_range=(30, 100)\n",
    "\n",
    ")\n",
    "\n",
    "# Config for the Workload Stress Index (WSI)\n",
    "# In your notebook configuration cell\n",
    "\n",
    "wsi_cfg = WSIConfig(\n",
    "    team_aggregate=\"mean\",\n",
    "    distribution=\"gaussian\", # Use the new normalization method,\n",
    "    feature_range=(20, 100),\n",
    "    weights=dict(\n",
    "        w_workload=0.30,\n",
    "        cap_dev=0.30,\n",
    "        persist=0.15,\n",
    "        complexity=0.15,\n",
    "        time=0.10\n",
    "    )\n",
    ")\n",
    "\n",
    "# Config for \"What-If\" Scenarios\n",
    "scn_cfg = ScenarioConfig(random_state=42)\n",
    "\n",
    "# Config for the Optimizer\n",
    "opt_cfg = OptimizeConfig(\n",
    "    budget_moves=15,\n",
    "    objective_weights=dict(\n",
    "        WSI_0_100=-1.0,\n",
    "        efficiency=+0.6,\n",
    "        days_to_close=-0.6,\n",
    "        backlog=-0.8,\n",
    "        numCases=+0.25\n",
    "    ),\n",
    "    random_state=42\n",
    ")\n",
    "\n",
    "print(\"✅ Configuration loaded.\")"
   ]
  },
  {
   "cell_type": "code",
   "execution_count": 5,
   "id": "0f537015-1fc9-4bfa-a6c6-e96fb52eb364",
   "metadata": {},
   "outputs": [
    {
     "name": "stdout",
     "output_type": "stream",
     "text": [
      "✅ All scores calculated successfully.\n"
     ]
    },
    {
     "data": {
      "text/html": [
       "<div>\n",
       "<style scoped>\n",
       "    .dataframe tbody tr th:only-of-type {\n",
       "        vertical-align: middle;\n",
       "    }\n",
       "\n",
       "    .dataframe tbody tr th {\n",
       "        vertical-align: top;\n",
       "    }\n",
       "\n",
       "    .dataframe thead th {\n",
       "        text-align: right;\n",
       "    }\n",
       "</style>\n",
       "<table border=\"1\" class=\"dataframe\">\n",
       "  <thead>\n",
       "    <tr style=\"text-align: right;\">\n",
       "      <th></th>\n",
       "      <th>alias</th>\n",
       "      <th>StaffGroup</th>\n",
       "      <th>_date_</th>\n",
       "      <th>Capacity_Score_0_100</th>\n",
       "      <th>WSI_0_100</th>\n",
       "      <th>cap_dev</th>\n",
       "      <th>complexity</th>\n",
       "    </tr>\n",
       "  </thead>\n",
       "  <tbody>\n",
       "    <tr>\n",
       "      <th>0</th>\n",
       "      <td>SG-A-E01</td>\n",
       "      <td>SG-A</td>\n",
       "      <td>2025-06-01</td>\n",
       "      <td>62.04</td>\n",
       "      <td>49.55</td>\n",
       "      <td>0.00</td>\n",
       "      <td>0.06</td>\n",
       "    </tr>\n",
       "    <tr>\n",
       "      <th>1</th>\n",
       "      <td>SG-A-E01</td>\n",
       "      <td>SG-A</td>\n",
       "      <td>2025-07-01</td>\n",
       "      <td>58.98</td>\n",
       "      <td>47.10</td>\n",
       "      <td>0.00</td>\n",
       "      <td>0.07</td>\n",
       "    </tr>\n",
       "    <tr>\n",
       "      <th>2</th>\n",
       "      <td>SG-A-E01</td>\n",
       "      <td>SG-A</td>\n",
       "      <td>2025-08-01</td>\n",
       "      <td>53.05</td>\n",
       "      <td>40.94</td>\n",
       "      <td>0.00</td>\n",
       "      <td>0.06</td>\n",
       "    </tr>\n",
       "    <tr>\n",
       "      <th>3</th>\n",
       "      <td>SG-A-E02</td>\n",
       "      <td>SG-A</td>\n",
       "      <td>2025-06-01</td>\n",
       "      <td>56.40</td>\n",
       "      <td>61.96</td>\n",
       "      <td>0.00</td>\n",
       "      <td>0.09</td>\n",
       "    </tr>\n",
       "    <tr>\n",
       "      <th>4</th>\n",
       "      <td>SG-A-E02</td>\n",
       "      <td>SG-A</td>\n",
       "      <td>2025-07-01</td>\n",
       "      <td>47.97</td>\n",
       "      <td>49.80</td>\n",
       "      <td>0.00</td>\n",
       "      <td>0.04</td>\n",
       "    </tr>\n",
       "  </tbody>\n",
       "</table>\n",
       "</div>"
      ],
      "text/plain": [
       "      alias StaffGroup     _date_  Capacity_Score_0_100  WSI_0_100  cap_dev  \\\n",
       "0  SG-A-E01       SG-A 2025-06-01                 62.04      49.55     0.00   \n",
       "1  SG-A-E01       SG-A 2025-07-01                 58.98      47.10     0.00   \n",
       "2  SG-A-E01       SG-A 2025-08-01                 53.05      40.94     0.00   \n",
       "3  SG-A-E02       SG-A 2025-06-01                 56.40      61.96     0.00   \n",
       "4  SG-A-E02       SG-A 2025-07-01                 47.97      49.80     0.00   \n",
       "\n",
       "   complexity  \n",
       "0        0.06  \n",
       "1        0.07  \n",
       "2        0.06  \n",
       "3        0.09  \n",
       "4        0.04  "
      ]
     },
     "metadata": {},
     "output_type": "display_data"
    }
   ],
   "source": [
    "# --- Corrected Cell 4: Load Data and Calculate Scores ---\n",
    "#\n",
    "# Here, we generate our sample monthly data and run the core pipeline to calculate the\n",
    "# Capacity Score and Workload Stress Index (WSI) for every employee and team.\n",
    "\n",
    "# 1. Generate sample data for three months\n",
    "df_full = make_sample_data(n_groups=4, aliases_per_group=30, months=[\"2025-06\", \"2025-07\", \"2025-08\"])\n",
    "df_full['efficiency'] = df_full['som'] # Use coalesce_names logic\n",
    "df_full['days_to_close'] = df_full['avgDaysToClose']\n",
    "\n",
    "# 2. Prepare the data (calculate deviations from benchmark)\n",
    "prep = DataPrep(columns=cols, features=capacity_features, config=score_cfg).fit(df_full)\n",
    "df_prepped = prep.transform(df_full)\n",
    "\n",
    "# 3. Calculate the 0-100 Capacity Score for each employee-month\n",
    "scorer = CapacityScorer(config=score_cfg).fit(df_prepped, group_col=cols.group, id_cols=(cols.alias, cols.date))\n",
    "scores = scorer.transform(df_prepped, group_col=cols.group, id_cols=(cols.alias, cols.date))\n",
    "\n",
    "# FIX: Merge only the new score column to avoid creating duplicate 'StaffGroup_x/y' columns.\n",
    "df_scored = df_full.merge(\n",
    "    scores[[cols.alias, cols.date, 'Capacity_Score_0_100']],\n",
    "    on=[cols.alias, cols.date],\n",
    "    how=\"left\"\n",
    ")\n",
    "\n",
    "# 4. Calculate the 0-100 WSI for each employee-month and aggregate for teams\n",
    "wsi_computer = WSIComputer(columns=cols, config=wsi_cfg)\n",
    "wsi_results = wsi_computer.compute(df_scored)\n",
    "alias_metrics = wsi_results[\"alias_metrics\"]\n",
    "team_metrics = wsi_results[\"team_metrics\"]\n",
    "\n",
    "print(\"✅ All scores calculated successfully.\")\n",
    "display(alias_metrics.head())"
   ]
  },
  {
   "cell_type": "code",
   "execution_count": 6,
   "id": "07ff0820-aaaa-4985-8d85-534bd7558fc2",
   "metadata": {},
   "outputs": [
    {
     "name": "stdout",
     "output_type": "stream",
     "text": [
      "--- How are our employees distributed across these scores? (Latest Month) ---\n",
      "✅ Plot saved to: score_distributions.png\n"
     ]
    },
    {
     "data": {
      "image/png": "[encoded data removed]",
      "text/plain": [
       "<Figure size 1400x500 with 2 Axes>"
      ]
     },
     "metadata": {},
     "output_type": "display_data"
    },
    {
     "name": "stdout",
     "output_type": "stream",
     "text": [
      "\n",
      "--- How do the teams compare on key WSI components over time? ---\n",
      "Note: 'Capacity Deviation' now shows positive (above baseline) and negative (below baseline) performance.\n",
      "✅ Plot saved to: team_metrics_over_time.png\n"
     ]
    },
    {
     "data": {
      "image/png": "[encoded data removed]",
      "text/plain": [
       "<Figure size 1284.75x800 with 3 Axes>"
      ]
     },
     "metadata": {},
     "output_type": "display_data"
    }
   ],
   "source": [
    "# --- Corrected Cell 5: ❓ Question 1: What are the Capacity Score & WSI? ---\n",
    "\n",
    "# The Capacity Score (0-100) measures an employee's overall operational performance. A higher score is better.\n",
    "# The Workload Stress Index (WSI) (0-100) measures workload pressure. A higher score indicates more stress.\n",
    "\n",
    "# This dictionary will store the paths to all our saved plots.\n",
    "saved_plots = {}\n",
    "\n",
    "print(\"--- How are our employees distributed across these scores? (Latest Month) ---\")\n",
    "latest_month_df = alias_metrics[alias_metrics['_date_'] == alias_metrics['_date_'].max()]\n",
    "\n",
    "# Define a path and save the plot\n",
    "score_dist_path = \"score_distributions.png\"\n",
    "plot_score_distributions(latest_month_df, ['Capacity_Score_0_100', 'WSI_0_100'], save_path=score_dist_path)\n",
    "saved_plots[\"[INSERT SCORE DISTRIBUTION PLOT HERE]\"] = score_dist_path\n",
    "\n",
    "\n",
    "print(\"\\n--- How do the teams compare on key WSI components over time? ---\")\n",
    "print(\"Note: 'Capacity Deviation' now shows positive (above baseline) and negative (below baseline) performance.\")\n",
    "\n",
    "# Define a path and save the plot\n",
    "team_metrics_path = \"team_metrics_over_time.png\"\n",
    "plot_team_metrics(team_metrics, ['WSI_0_100', 'cap_dev', 'complexity'], save_path=team_metrics_path)\n",
    "saved_plots[\"[INSERT TEAM METRICS PLOT HERE]\"] = team_metrics_path"
   ]
  },
  {
   "cell_type": "code",
   "execution_count": 7,
   "id": "5ad5c97d-7327-4dc7-978e-7fcbeb024fd3",
   "metadata": {},
   "outputs": [
    {
     "name": "stdout",
     "output_type": "stream",
     "text": [
      "--- Global Drivers: What factors matter most across the organization? ---\n",
      "✅ Plot saved to: feature_importance.png\n"
     ]
    },
    {
     "data": {
      "image/png": "[encoded data removed]",
      "text/plain": [
       "<Figure size 1000x600 with 1 Axes>"
      ]
     },
     "metadata": {},
     "output_type": "display_data"
    },
    {
     "name": "stdout",
     "output_type": "stream",
     "text": [
      "\n",
      "--- Local Drivers: Why did a specific employee get their score? ---\n",
      "✅ Plot saved to: contributions_waterfall.png\n"
     ]
    },
    {
     "data": {
      "image/png": "[encoded data removed]",
      "text/plain": [
       "<Figure size 1000x600 with 1 Axes>"
      ]
     },
     "metadata": {},
     "output_type": "display_data"
    }
   ],
   "source": [
    "# print(\"--- Global Drivers: What factors matter most across the organization? ---\")\n",
    "# # This chart shows the factors with the highest overall impact on the Capacity Score.\n",
    "# # A higher bar means the feature is more influential in determining the score.\n",
    "# plot_feature_importances(scorer)\n",
    "\n",
    "# print(\"\\n--- Local Drivers: Why did a specific employee get their score? ---\")\n",
    "# # This waterfall chart breaks down the score for a single employee.\n",
    "# # Green bars are factors that helped their score; red bars are factors that hurt it.\n",
    "# example_employee = df_prepped.iloc[0]\n",
    "# contributions = scorer.contributions(df_prepped, alias=example_employee[cols.alias], date=example_employee[cols.date])\n",
    "# plot_contributions_waterfall(contributions, alias=example_employee[cols.alias])\n",
    "\n",
    "\n",
    "# In Cell [7]\n",
    "print(\"--- Global Drivers: What factors matter most across the organization? ---\")\n",
    "feature_importance_path = \"feature_importance.png\" # Define path\n",
    "plot_feature_importances(scorer, save_path=feature_importance_path) # Add save_path\n",
    "\n",
    "print(\"\\n--- Local Drivers: Why did a specific employee get their score? ---\")\n",
    "example_employee = df_prepped.iloc[0]\n",
    "contributions = scorer.contributions(df_prepped, alias=example_employee[cols.alias], date=example_employee[cols.date])\n",
    "contributions_path = \"contributions_waterfall.png\" # Define path\n",
    "plot_contributions_waterfall(contributions, alias=example_employee[cols.alias], save_path=contributions_path) # Add save_path"
   ]
  },
  {
   "cell_type": "code",
   "execution_count": 8,
   "id": "083149a2-721a-4ccc-9997-3bd2f901148b",
   "metadata": {
    "scrolled": true
   },
   "outputs": [],
   "source": [
    "# # --- Corrected Cell 7: ❓ Question 3: What-If Scenario - Simulating Headcount Moves ---\n",
    "# print(\"This tool simulates moving employees between teams to see the projected impact.\")\n",
    "\n",
    "# # Define your hypothetical moves\n",
    "# moves = [\n",
    "#     {\"from\": \"SG-A\", \"to\": \"SG-C\", \"n\": 30}\n",
    "# ]\n",
    "\n",
    "# # Run the simulation\n",
    "# df_month = df_full[df_full['_date_'] == df_full['_date_'].max()]\n",
    "# modeler = OutcomeModeler().fit(alias_metrics.dropna())\n",
    "# engine = ScenarioEngine(columns=cols, prep=prep, scorer=scorer, wsi=wsi_computer, modeler=modeler, config=scn_cfg)\n",
    "# sim_results = engine.simulate_moves(df_month, moves=moves)\n",
    "\n",
    "# print(\"\\n--- Simulation Results: Comparing 'Before' vs. 'After' ---\")\n",
    "# # This heatmap visualizes the projected state of each team before and after the move.\n",
    "# # The color is based on the WSI score (Green = Low Stress, Red = High Stress).\n",
    "# simulation_heatmap_path = \"simulation_heatmap.png\"\n",
    "\n",
    "# # FIX: Use the correct keys \"pre_agg\" and \"post_agg\" to access the dataframes\n",
    "# stacked_sim_data = plot_simulation_heatmap(\n",
    "#     sim_results[\"pre_agg\"], \n",
    "#     sim_results[\"post_agg\"], \n",
    "#     only_impacted=False,  # This is the default, but we're being explicit\n",
    "#     save_path=\"simulation_heatmap_impacted.png\"\n",
    "# )\n",
    "# saved_plots[\"[INSERT SIMULATION HEATMAP HERE]\"] = simulation_heatmap_path\n",
    "\n",
    "# # NEW: Overlapping distribution plots for key metrics at the employee level\n",
    "# simulation_dist_path = \"simulation_distributions.png\"\n",
    "# plot_simulation_distributions(\n",
    "#     pre_df_employee=sim_results[\"pre_employee\"],\n",
    "#     post_df_employee=sim_results[\"post_employee\"],\n",
    "#     metrics=['Capacity_Score_0_100', 'WSI_0_100', 'efficiency'],\n",
    "#     save_path=simulation_dist_path\n",
    "# )\n",
    "# saved_plots[\"[INSERT SIMULATION DISTRIBUTIONS PLOT HERE]\"] = simulation_dist_path\n",
    "\n",
    "\n",
    "# print(\"\\n✅ Simulation plots saved successfully.\")"
   ]
  },
  {
   "cell_type": "code",
   "execution_count": 9,
   "id": "b33d6056-7453-493b-8a73-38020ea441fb",
   "metadata": {},
   "outputs": [
    {
     "name": "stdout",
     "output_type": "stream",
     "text": [
      "This tool simulates moving employees between teams to see the projected impact.\n",
      "\n",
      "--- Sanity Check: Typical Metric Ranges (based on pre-move data) ---\n"
     ]
    },
    {
     "data": {
      "text/html": [
       "<div>\n",
       "<style scoped>\n",
       "    .dataframe tbody tr th:only-of-type {\n",
       "        vertical-align: middle;\n",
       "    }\n",
       "\n",
       "    .dataframe tbody tr th {\n",
       "        vertical-align: top;\n",
       "    }\n",
       "\n",
       "    .dataframe thead th {\n",
       "        text-align: right;\n",
       "    }\n",
       "</style>\n",
       "<table border=\"1\" class=\"dataframe\">\n",
       "  <thead>\n",
       "    <tr style=\"text-align: right;\">\n",
       "      <th></th>\n",
       "      <th>Typical Range (25th-75th percentile)</th>\n",
       "    </tr>\n",
       "    <tr>\n",
       "      <th>Metric</th>\n",
       "      <th></th>\n",
       "    </tr>\n",
       "  </thead>\n",
       "  <tbody>\n",
       "    <tr>\n",
       "      <th>Capacity</th>\n",
       "      <td>55.05 to 72.75</td>\n",
       "    </tr>\n",
       "    <tr>\n",
       "      <th>WSI_0_100</th>\n",
       "      <td>44.72 to 61.61</td>\n",
       "    </tr>\n",
       "    <tr>\n",
       "      <th>efficiency</th>\n",
       "      <td>0.76 to 0.86</td>\n",
       "    </tr>\n",
       "    <tr>\n",
       "      <th>days_to_close</th>\n",
       "      <td>5.38 to 8.71</td>\n",
       "    </tr>\n",
       "    <tr>\n",
       "      <th>backlog</th>\n",
       "      <td>15.75 to 24.00</td>\n",
       "    </tr>\n",
       "  </tbody>\n",
       "</table>\n",
       "</div>"
      ],
      "text/plain": [
       "              Typical Range (25th-75th percentile)\n",
       "Metric                                            \n",
       "Capacity                            55.05 to 72.75\n",
       "WSI_0_100                           44.72 to 61.61\n",
       "efficiency                            0.76 to 0.86\n",
       "days_to_close                         5.38 to 8.71\n",
       "backlog                             15.75 to 24.00"
      ]
     },
     "metadata": {},
     "output_type": "display_data"
    },
    {
     "name": "stdout",
     "output_type": "stream",
     "text": [
      "\n",
      "--- Simulation Results: Comparing 'Before' vs. 'After' ---\n"
     ]
    },
    {
     "data": {
      "application/vnd.plotly.v1+json": {
       "config": {
        "plotlyServerURL": "https://plot.ly"
       },
       "data": [
        {
         "colorscale": [
          [
           0,
           "rgb(0,104,55)"
          ],
          [
           0.1,
           "rgb(26,152,80)"
          ],
          [
           0.2,
           "rgb(102,189,99)"
          ],
          [
           0.3,
           "rgb(166,217,106)"
          ],
          [
           0.4,
           "rgb(217,239,139)"
          ],
          [
           0.5,
           "rgb(255,255,191)"
          ],
          [
           0.6,
           "rgb(254,224,139)"
          ],
          [
           0.7,
           "rgb(253,174,97)"
          ],
          [
           0.8,
           "rgb(244,109,67)"
          ],
          [
           0.9,
           "rgb(215,48,39)"
          ],
          [
           1,
           "rgb(165,0,38)"
          ]
         ],
         "reversescale": true,
         "text": [
          [
           "72.14",
           "55.19",
           "0.8",
           "7.4",
           "24.04"
          ],
          [
           "69.2",
           "55.0",
           "0.78",
           "7.22",
           "19.5"
          ],
          [
           "58.53",
           "57.6",
           "0.81",
           "6.99",
           "23.71"
          ],
          [
           "64.02",
           "56.46",
           "0.82",
           "6.89",
           "18.5"
          ]
         ],
         "texttemplate": "%{text}",
         "type": "heatmap",
         "x": [
          "Capacity",
          "WSI_0_100",
          "efficiency",
          "days_to_close",
          "backlog"
         ],
         "y": [
          "SG-A — Post (pred)",
          "SG-A — Pre",
          "SG-C — Post (pred)",
          "SG-C — Pre"
         ],
         "z": {
          "bdata": "KVyPws2o4T8pXI/CzajhPylcj8LNqOE/KVyPws2o4T8pXI/CzajhP5qZmZmZmeE/mpmZmZmZ4T+amZmZmZnhP5qZmZmZmeE/mpmZmZmZ4T8AAAAAsm7iPwAAAACybuI/AAAAALJu4j8AAAAAsm7iPwAAAACybuI//fZ14JwR4j/99nXgnBHiP/32deCcEeI//fZ14JwR4j/99nXgnBHiPw==",
          "dtype": "f8",
          "shape": "4, 5"
         }
        }
       ],
       "layout": {
        "margin": {
         "l": 140,
         "t": 80
        },
        "template": {
         "data": {
          "bar": [
           {
            "error_x": {
             "color": "#2a3f5f"
            },
            "error_y": {
             "color": "#2a3f5f"
            },
            "marker": {
             "line": {
              "color": "#E5ECF6",
              "width": 0.5
             },
             "pattern": {
              "fillmode": "overlay",
              "size": 10,
              "solidity": 0.2
             }
            },
            "type": "bar"
           }
          ],
          "barpolar": [
           {
            "marker": {
             "line": {
              "color": "#E5ECF6",
              "width": 0.5
             },
             "pattern": {
              "fillmode": "overlay",
              "size": 10,
              "solidity": 0.2
             }
            },
            "type": "barpolar"
           }
          ],
          "carpet": [
           {
            "aaxis": {
             "endlinecolor": "#2a3f5f",
             "gridcolor": "white",
             "linecolor": "white",
             "minorgridcolor": "white",
             "startlinecolor": "#2a3f5f"
            },
            "baxis": {
             "endlinecolor": "#2a3f5f",
             "gridcolor": "white",
             "linecolor": "white",
             "minorgridcolor": "white",
             "startlinecolor": "#2a3f5f"
            },
            "type": "carpet"
           }
          ],
          "choropleth": [
           {
            "colorbar": {
             "outlinewidth": 0,
             "ticks": ""
            },
            "type": "choropleth"
           }
          ],
          "contour": [
           {
            "colorbar": {
             "outlinewidth": 0,
             "ticks": ""
            },
            "colorscale": [
             [
              0,
              "#0d0887"
             ],
             [
              0.1111111111111111,
              "#46039f"
             ],
             [
              0.2222222222222222,
              "#7201a8"
             ],
             [
              0.3333333333333333,
              "#9c179e"
             ],
             [
              0.4444444444444444,
              "#bd3786"
             ],
             [
              0.5555555555555556,
              "#d8576b"
             ],
             [
              0.6666666666666666,
              "#ed7953"
             ],
             [
              0.7777777777777778,
              "#fb9f3a"
             ],
             [
              0.8888888888888888,
              "#fdca26"
             ],
             [
              1,
              "#f0f921"
             ]
            ],
            "type": "contour"
           }
          ],
          "contourcarpet": [
           {
            "colorbar": {
             "outlinewidth": 0,
             "ticks": ""
            },
            "type": "contourcarpet"
           }
          ],
          "heatmap": [
           {
            "colorbar": {
             "outlinewidth": 0,
             "ticks": ""
            },
            "colorscale": [
             [
              0,
              "#0d0887"
             ],
             [
              0.1111111111111111,
              "#46039f"
             ],
             [
              0.2222222222222222,
              "#7201a8"
             ],
             [
              0.3333333333333333,
              "#9c179e"
             ],
             [
              0.4444444444444444,
              "#bd3786"
             ],
             [
              0.5555555555555556,
              "#d8576b"
             ],
             [
              0.6666666666666666,
              "#ed7953"
             ],
             [
              0.7777777777777778,
              "#fb9f3a"
             ],
             [
              0.8888888888888888,
              "#fdca26"
             ],
             [
              1,
              "#f0f921"
             ]
            ],
            "type": "heatmap"
           }
          ],
          "histogram": [
           {
            "marker": {
             "pattern": {
              "fillmode": "overlay",
              "size": 10,
              "solidity": 0.2
             }
            },
            "type": "histogram"
           }
          ],
          "histogram2d": [
           {
            "colorbar": {
             "outlinewidth": 0,
             "ticks": ""
            },
            "colorscale": [
             [
              0,
              "#0d0887"
             ],
             [
              0.1111111111111111,
              "#46039f"
             ],
             [
              0.2222222222222222,
              "#7201a8"
             ],
             [
              0.3333333333333333,
              "#9c179e"
             ],
             [
              0.4444444444444444,
              "#bd3786"
             ],
             [
              0.5555555555555556,
              "#d8576b"
             ],
             [
              0.6666666666666666,
              "#ed7953"
             ],
             [
              0.7777777777777778,
              "#fb9f3a"
             ],
             [
              0.8888888888888888,
              "#fdca26"
             ],
             [
              1,
              "#f0f921"
             ]
            ],
            "type": "histogram2d"
           }
          ],
          "histogram2dcontour": [
           {
            "colorbar": {
             "outlinewidth": 0,
             "ticks": ""
            },
            "colorscale": [
             [
              0,
              "#0d0887"
             ],
             [
              0.1111111111111111,
              "#46039f"
             ],
             [
              0.2222222222222222,
              "#7201a8"
             ],
             [
              0.3333333333333333,
              "#9c179e"
             ],
             [
              0.4444444444444444,
              "#bd3786"
             ],
             [
              0.5555555555555556,
              "#d8576b"
             ],
             [
              0.6666666666666666,
              "#ed7953"
             ],
             [
              0.7777777777777778,
              "#fb9f3a"
             ],
             [
              0.8888888888888888,
              "#fdca26"
             ],
             [
              1,
              "#f0f921"
             ]
            ],
            "type": "histogram2dcontour"
           }
          ],
          "mesh3d": [
           {
            "colorbar": {
             "outlinewidth": 0,
             "ticks": ""
            },
            "type": "mesh3d"
           }
          ],
          "parcoords": [
           {
            "line": {
             "colorbar": {
              "outlinewidth": 0,
              "ticks": ""
             }
            },
            "type": "parcoords"
           }
          ],
          "pie": [
           {
            "automargin": true,
            "type": "pie"
           }
          ],
          "scatter": [
           {
            "fillpattern": {
             "fillmode": "overlay",
             "size": 10,
             "solidity": 0.2
            },
            "type": "scatter"
           }
          ],
          "scatter3d": [
           {
            "line": {
             "colorbar": {
              "outlinewidth": 0,
              "ticks": ""
             }
            },
            "marker": {
             "colorbar": {
              "outlinewidth": 0,
              "ticks": ""
             }
            },
            "type": "scatter3d"
           }
          ],
          "scattercarpet": [
           {
            "marker": {
             "colorbar": {
              "outlinewidth": 0,
              "ticks": ""
             }
            },
            "type": "scattercarpet"
           }
          ],
          "scattergeo": [
           {
            "marker": {
             "colorbar": {
              "outlinewidth": 0,
              "ticks": ""
             }
            },
            "type": "scattergeo"
           }
          ],
          "scattergl": [
           {
            "marker": {
             "colorbar": {
              "outlinewidth": 0,
              "ticks": ""
             }
            },
            "type": "scattergl"
           }
          ],
          "scattermap": [
           {
            "marker": {
             "colorbar": {
              "outlinewidth": 0,
              "ticks": ""
             }
            },
            "type": "scattermap"
           }
          ],
          "scattermapbox": [
           {
            "marker": {
             "colorbar": {
              "outlinewidth": 0,
              "ticks": ""
             }
            },
            "type": "scattermapbox"
           }
          ],
          "scatterpolar": [
           {
            "marker": {
             "colorbar": {
              "outlinewidth": 0,
              "ticks": ""
             }
            },
            "type": "scatterpolar"
           }
          ],
          "scatterpolargl": [
           {
            "marker": {
             "colorbar": {
              "outlinewidth": 0,
              "ticks": ""
             }
            },
            "type": "scatterpolargl"
           }
          ],
          "scatterternary": [
           {
            "marker": {
             "colorbar": {
              "outlinewidth": 0,
              "ticks": ""
             }
            },
            "type": "scatterternary"
           }
          ],
          "surface": [
           {
            "colorbar": {
             "outlinewidth": 0,
             "ticks": ""
            },
            "colorscale": [
             [
              0,
              "#0d0887"
             ],
             [
              0.1111111111111111,
              "#46039f"
             ],
             [
              0.2222222222222222,
              "#7201a8"
             ],
             [
              0.3333333333333333,
              "#9c179e"
             ],
             [
              0.4444444444444444,
              "#bd3786"
             ],
             [
              0.5555555555555556,
              "#d8576b"
             ],
             [
              0.6666666666666666,
              "#ed7953"
             ],
             [
              0.7777777777777778,
              "#fb9f3a"
             ],
             [
              0.8888888888888888,
              "#fdca26"
             ],
             [
              1,
              "#f0f921"
             ]
            ],
            "type": "surface"
           }
          ],
          "table": [
           {
            "cells": {
             "fill": {
              "color": "#EBF0F8"
             },
             "line": {
              "color": "white"
             }
            },
            "header": {
             "fill": {
              "color": "#C8D4E3"
             },
             "line": {
              "color": "white"
             }
            },
            "type": "table"
           }
          ]
         },
         "layout": {
          "annotationdefaults": {
           "arrowcolor": "#2a3f5f",
           "arrowhead": 0,
           "arrowwidth": 1
          },
          "autotypenumbers": "strict",
          "coloraxis": {
           "colorbar": {
            "outlinewidth": 0,
            "ticks": ""
           }
          },
          "colorscale": {
           "diverging": [
            [
             0,
             "#8e0152"
            ],
            [
             0.1,
             "#c51b7d"
            ],
            [
             0.2,
             "#de77ae"
            ],
            [
             0.3,
             "#f1b6da"
            ],
            [
             0.4,
             "#fde0ef"
            ],
            [
             0.5,
             "#f7f7f7"
            ],
            [
             0.6,
             "#e6f5d0"
            ],
            [
             0.7,
             "#b8e186"
            ],
            [
             0.8,
             "#7fbc41"
            ],
            [
             0.9,
             "#4d9221"
            ],
            [
             1,
             "#276419"
            ]
           ],
           "sequential": [
            [
             0,
             "#0d0887"
            ],
            [
             0.1111111111111111,
             "#46039f"
            ],
            [
             0.2222222222222222,
             "#7201a8"
            ],
            [
             0.3333333333333333,
             "#9c179e"
            ],
            [
             0.4444444444444444,
             "#bd3786"
            ],
            [
             0.5555555555555556,
             "#d8576b"
            ],
            [
             0.6666666666666666,
             "#ed7953"
            ],
            [
             0.7777777777777778,
             "#fb9f3a"
            ],
            [
             0.8888888888888888,
             "#fdca26"
            ],
            [
             1,
             "#f0f921"
            ]
           ],
           "sequentialminus": [
            [
             0,
             "#0d0887"
            ],
            [
             0.1111111111111111,
             "#46039f"
            ],
            [
             0.2222222222222222,
             "#7201a8"
            ],
            [
             0.3333333333333333,
             "#9c179e"
            ],
            [
             0.4444444444444444,
             "#bd3786"
            ],
            [
             0.5555555555555556,
             "#d8576b"
            ],
            [
             0.6666666666666666,
             "#ed7953"
            ],
            [
             0.7777777777777778,
             "#fb9f3a"
            ],
            [
             0.8888888888888888,
             "#fdca26"
            ],
            [
             1,
             "#f0f921"
            ]
           ]
          },
          "colorway": [
           "#636efa",
           "#EF553B",
           "#00cc96",
           "#ab63fa",
           "#FFA15A",
           "#19d3f3",
           "#FF6692",
           "#B6E880",
           "#FF97FF",
           "#FECB52"
          ],
          "font": {
           "color": "#2a3f5f"
          },
          "geo": {
           "bgcolor": "white",
           "lakecolor": "white",
           "landcolor": "#E5ECF6",
           "showlakes": true,
           "showland": true,
           "subunitcolor": "white"
          },
          "hoverlabel": {
           "align": "left"
          },
          "hovermode": "closest",
          "mapbox": {
           "style": "light"
          },
          "paper_bgcolor": "white",
          "plot_bgcolor": "#E5ECF6",
          "polar": {
           "angularaxis": {
            "gridcolor": "white",
            "linecolor": "white",
            "ticks": ""
           },
           "bgcolor": "#E5ECF6",
           "radialaxis": {
            "gridcolor": "white",
            "linecolor": "white",
            "ticks": ""
           }
          },
          "scene": {
           "xaxis": {
            "backgroundcolor": "#E5ECF6",
            "gridcolor": "white",
            "gridwidth": 2,
            "linecolor": "white",
            "showbackground": true,
            "ticks": "",
            "zerolinecolor": "white"
           },
           "yaxis": {
            "backgroundcolor": "#E5ECF6",
            "gridcolor": "white",
            "gridwidth": 2,
            "linecolor": "white",
            "showbackground": true,
            "ticks": "",
            "zerolinecolor": "white"
           },
           "zaxis": {
            "backgroundcolor": "#E5ECF6",
            "gridcolor": "white",
            "gridwidth": 2,
            "linecolor": "white",
            "showbackground": true,
            "ticks": "",
            "zerolinecolor": "white"
           }
          },
          "shapedefaults": {
           "line": {
            "color": "#2a3f5f"
           }
          },
          "ternary": {
           "aaxis": {
            "gridcolor": "white",
            "linecolor": "white",
            "ticks": ""
           },
           "baxis": {
            "gridcolor": "white",
            "linecolor": "white",
            "ticks": ""
           },
           "bgcolor": "#E5ECF6",
           "caxis": {
            "gridcolor": "white",
            "linecolor": "white",
            "ticks": ""
           }
          },
          "title": {
           "x": 0.05
          },
          "xaxis": {
           "automargin": true,
           "gridcolor": "white",
           "linecolor": "white",
           "ticks": "",
           "title": {
            "standoff": 15
           },
           "zerolinecolor": "white",
           "zerolinewidth": 2
          },
          "yaxis": {
           "automargin": true,
           "gridcolor": "white",
           "linecolor": "white",
           "ticks": "",
           "title": {
            "standoff": 15
           },
           "zerolinecolor": "white",
           "zerolinewidth": 2
          }
         }
        },
        "title": {
         "text": "Pre vs. Post Simulation"
        }
       }
      }
     },
     "metadata": {},
     "output_type": "display_data"
    },
    {
     "name": "stdout",
     "output_type": "stream",
     "text": [
      "\n",
      "--- Detailed Dataframes ---\n"
     ]
    },
    {
     "data": {
      "text/html": [
       "<div>\n",
       "<style scoped>\n",
       "    .dataframe tbody tr th:only-of-type {\n",
       "        vertical-align: middle;\n",
       "    }\n",
       "\n",
       "    .dataframe tbody tr th {\n",
       "        vertical-align: top;\n",
       "    }\n",
       "\n",
       "    .dataframe thead th {\n",
       "        text-align: right;\n",
       "    }\n",
       "</style>\n",
       "<table border=\"1\" class=\"dataframe\">\n",
       "  <thead>\n",
       "    <tr style=\"text-align: right;\">\n",
       "      <th></th>\n",
       "      <th>StaffGroup</th>\n",
       "      <th>Capacity</th>\n",
       "      <th>WSI_0_100</th>\n",
       "      <th>efficiency</th>\n",
       "      <th>days_to_close</th>\n",
       "      <th>backlog</th>\n",
       "      <th>Scenario</th>\n",
       "    </tr>\n",
       "  </thead>\n",
       "  <tbody>\n",
       "    <tr>\n",
       "      <th>0</th>\n",
       "      <td>SG-A</td>\n",
       "      <td>72.14</td>\n",
       "      <td>55.19</td>\n",
       "      <td>0.80</td>\n",
       "      <td>7.40</td>\n",
       "      <td>24.04</td>\n",
       "      <td>Post (pred)</td>\n",
       "    </tr>\n",
       "    <tr>\n",
       "      <th>1</th>\n",
       "      <td>SG-A</td>\n",
       "      <td>69.20</td>\n",
       "      <td>55.00</td>\n",
       "      <td>0.78</td>\n",
       "      <td>7.22</td>\n",
       "      <td>19.50</td>\n",
       "      <td>Pre</td>\n",
       "    </tr>\n",
       "    <tr>\n",
       "      <th>2</th>\n",
       "      <td>SG-C</td>\n",
       "      <td>58.53</td>\n",
       "      <td>57.60</td>\n",
       "      <td>0.81</td>\n",
       "      <td>6.99</td>\n",
       "      <td>23.71</td>\n",
       "      <td>Post (pred)</td>\n",
       "    </tr>\n",
       "    <tr>\n",
       "      <th>3</th>\n",
       "      <td>SG-C</td>\n",
       "      <td>64.02</td>\n",
       "      <td>56.47</td>\n",
       "      <td>0.82</td>\n",
       "      <td>6.89</td>\n",
       "      <td>18.50</td>\n",
       "      <td>Pre</td>\n",
       "    </tr>\n",
       "  </tbody>\n",
       "</table>\n",
       "</div>"
      ],
      "text/plain": [
       "  StaffGroup  Capacity  WSI_0_100  efficiency  days_to_close  backlog  \\\n",
       "0       SG-A     72.14      55.19        0.80           7.40    24.04   \n",
       "1       SG-A     69.20      55.00        0.78           7.22    19.50   \n",
       "2       SG-C     58.53      57.60        0.81           6.99    23.71   \n",
       "3       SG-C     64.02      56.47        0.82           6.89    18.50   \n",
       "\n",
       "      Scenario  \n",
       "0  Post (pred)  \n",
       "1          Pre  \n",
       "2  Post (pred)  \n",
       "3          Pre  "
      ]
     },
     "metadata": {},
     "output_type": "display_data"
    },
    {
     "name": "stdout",
     "output_type": "stream",
     "text": [
      "✅ Simulation heatmap saved to: simulation_heatmap.png\n"
     ]
    }
   ],
   "source": [
    "# --- Corrected Cell 7: Consolidated \"What-If\" Scenario ---\n",
    "print(\"This tool simulates moving employees between teams to see the projected impact.\")\n",
    "\n",
    "# 1. Define your hypothetical moves\n",
    "moves = [\n",
    "    {\"from\": \"SG-A\", \"to\": \"SG-C\", \"n\": 5}\n",
    "]\n",
    "\n",
    "# 2. Build the baseline scores dataframe needed for the pipeline\n",
    "scores_baseline = scores[[cols.date, cols.alias, \"Capacity_Score_0_100\"]].dropna().copy()\n",
    "\n",
    "# 3. Define the WSI calculation parameters\n",
    "wsi_kwargs = dict(\n",
    "    date_col=\"_date_\",\n",
    "    alias_col=\"alias\",\n",
    "    sg_col=\"StaffGroup\",\n",
    "    cap_col=\"Capacity_Score_0_100\",\n",
    "    cases_col=\"numCases\",\n",
    "    complexity_col=\"complexity\",\n",
    "    linearity_col=\"LinearityScore\",\n",
    "    sev_cols=(\"currentSev1\", \"currentSevA\", \"currentSevB\"),\n",
    "    weekend_col=\"IsClosedOnWeekend\",\n",
    "    x24_col=\"Is24X7OptedIn\",\n",
    "    baseline_window_months=12,\n",
    "    persist_window_months=8,\n",
    "    high_cap_thresh=75.0,\n",
    "    w_workload=0.30,\n",
    "    w_cap_dev=0.30,\n",
    "    w_persist=0.15,\n",
    "    w_complex=0.15,\n",
    "    w_time=0.10,\n",
    "    q_low=0.05,\n",
    "    q_high=0.95,\n",
    "    team_aggregate=\"median\",\n",
    "    distribution=\"gaussian\",\n",
    "    feature_range=(10, 100)\n",
    ")\n",
    "\n",
    "# --- NEW: Define the outcome metrics to predict ---\n",
    "modeler_targets = (\"WSI_0_100\", \"efficiency\", \"days_to_close\", \"backlog\")\n",
    "\n",
    "\n",
    "# 4. Run the consolidated simulation pipeline\n",
    "grid_pre, grid_post, combined, fig, mse_report, sanity_df = pre_post_tree_pipeline(\n",
    "    df_in=df_full,\n",
    "    scores_baseline=scores_baseline,\n",
    "    month=df_full['_date_'].max().strftime('%Y-%m'),\n",
    "    moves=moves,\n",
    "    # The 'cols=cols' argument has been removed as it is not an expected parameter.\n",
    "    compute_wsi_fn=compute_capacity_centric_wsi,\n",
    "    wsi_kwargs=wsi_kwargs,\n",
    "    targets=modeler_targets,\n",
    "    only_impacted=True\n",
    ")\n",
    "\n",
    "# 6. Display the results\n",
    "print(\"\\n--- Sanity Check: Typical Metric Ranges (based on pre-move data) ---\")\n",
    "display(sanity_df)\n",
    "\n",
    "print(\"\\n--- Simulation Results: Comparing 'Before' vs. 'After' ---\")\n",
    "fig.show()\n",
    "\n",
    "print(\"\\n--- Detailed Dataframes ---\")\n",
    "display(combined)\n",
    "\n",
    "# --- ADD THIS TO SAVE THE PLOT ---\n",
    "# Define a path for the simulation heatmap\n",
    "simulation_heatmap_path = \"simulation_heatmap.png\"\n",
    "\n",
    "# Save the Plotly figure as a static image\n",
    "# You may need to run: pip install -U kaleido\n",
    "fig.write_image(simulation_heatmap_path)\n",
    "\n",
    "print(f\"✅ Simulation heatmap saved to: {simulation_heatmap_path}\")"
   ]
  },
  {
   "cell_type": "code",
   "execution_count": 10,
   "id": "8007d60b-dc48-46d5-a832-f3108fa55789",
   "metadata": {},
   "outputs": [
    {
     "name": "stdout",
     "output_type": "stream",
     "text": [
      "This analysis simulates the impact of improving employee capacity by moving staff between performance buckets.\n",
      "Running with flexible move plan:\n",
      "- Moving 1 employees from bucket '25-50' to '75-100'\n",
      "- Moving 12 employees from bucket '50-75' to '75-100'\n",
      "\n",
      "--- Bucket Uplift Summary ---\n"
     ]
    },
    {
     "data": {
      "text/html": [
       "<div>\n",
       "<style scoped>\n",
       "    .dataframe tbody tr th:only-of-type {\n",
       "        vertical-align: middle;\n",
       "    }\n",
       "\n",
       "    .dataframe tbody tr th {\n",
       "        vertical-align: top;\n",
       "    }\n",
       "\n",
       "    .dataframe thead th {\n",
       "        text-align: right;\n",
       "    }\n",
       "</style>\n",
       "<table border=\"1\" class=\"dataframe\">\n",
       "  <thead>\n",
       "    <tr style=\"text-align: right;\">\n",
       "      <th></th>\n",
       "      <th>bucket</th>\n",
       "      <th>aliases</th>\n",
       "      <th>nc_median</th>\n",
       "      <th>pct</th>\n",
       "      <th>moved_in</th>\n",
       "      <th>new_cases_bucket</th>\n",
       "      <th>original_cases_handled</th>\n",
       "      <th>net_incremental_cases</th>\n",
       "    </tr>\n",
       "  </thead>\n",
       "  <tbody>\n",
       "    <tr>\n",
       "      <th>0</th>\n",
       "      <td>0-25</td>\n",
       "      <td>0</td>\n",
       "      <td>NaN</td>\n",
       "      <td>0.00</td>\n",
       "      <td>0</td>\n",
       "      <td>0.00</td>\n",
       "      <td>0.00</td>\n",
       "      <td>0.00</td>\n",
       "    </tr>\n",
       "    <tr>\n",
       "      <th>1</th>\n",
       "      <td>25-50</td>\n",
       "      <td>16</td>\n",
       "      <td>36.00</td>\n",
       "      <td>13.33</td>\n",
       "      <td>0</td>\n",
       "      <td>0.00</td>\n",
       "      <td>0.00</td>\n",
       "      <td>0.00</td>\n",
       "    </tr>\n",
       "    <tr>\n",
       "      <th>2</th>\n",
       "      <td>50-75</td>\n",
       "      <td>84</td>\n",
       "      <td>41.50</td>\n",
       "      <td>70.00</td>\n",
       "      <td>0</td>\n",
       "      <td>0.00</td>\n",
       "      <td>0.00</td>\n",
       "      <td>0.00</td>\n",
       "    </tr>\n",
       "    <tr>\n",
       "      <th>3</th>\n",
       "      <td>75-100</td>\n",
       "      <td>20</td>\n",
       "      <td>59.50</td>\n",
       "      <td>16.67</td>\n",
       "      <td>13</td>\n",
       "      <td>773.50</td>\n",
       "      <td>534.00</td>\n",
       "      <td>239.50</td>\n",
       "    </tr>\n",
       "    <tr>\n",
       "      <th>4</th>\n",
       "      <td>TOTAL</td>\n",
       "      <td>120</td>\n",
       "      <td>NaN</td>\n",
       "      <td>100.00</td>\n",
       "      <td>13</td>\n",
       "      <td>773.50</td>\n",
       "      <td>534.00</td>\n",
       "      <td>239.50</td>\n",
       "    </tr>\n",
       "  </tbody>\n",
       "</table>\n",
       "</div>"
      ],
      "text/plain": [
       "   bucket  aliases  nc_median    pct  moved_in  new_cases_bucket  \\\n",
       "0    0-25        0        NaN   0.00         0              0.00   \n",
       "1   25-50       16      36.00  13.33         0              0.00   \n",
       "2   50-75       84      41.50  70.00         0              0.00   \n",
       "3  75-100       20      59.50  16.67        13            773.50   \n",
       "4   TOTAL      120        NaN 100.00        13            773.50   \n",
       "\n",
       "   original_cases_handled  net_incremental_cases  \n",
       "0                    0.00                   0.00  \n",
       "1                    0.00                   0.00  \n",
       "2                    0.00                   0.00  \n",
       "3                  534.00                 239.50  \n",
       "4                  534.00                 239.50  "
      ]
     },
     "metadata": {},
     "output_type": "display_data"
    },
    {
     "name": "stdout",
     "output_type": "stream",
     "text": [
      "✅ Volume uplift plot saved to: total_volume_uplift_distribution.png\n"
     ]
    },
    {
     "data": {
      "image/png": "[encoded data removed]",
      "text/plain": [
       "<Figure size 1000x600 with 1 Axes>"
      ]
     },
     "metadata": {},
     "output_type": "display_data"
    },
    {
     "name": "stdout",
     "output_type": "stream",
     "text": [
      "\n",
      "--- Sanity Check Calculation ---\n",
      "Total 'numCases' Before Simulation: 5,282.00\n",
      "Total 'numCases' After Simulation:  5,516.50\n",
      "Total Simulated Uplift:             234.50\n"
     ]
    }
   ],
   "source": [
    "# --- Corrected Cell: 📈 Consolidated & Flexible Bucket Uplift Analysis ---\n",
    "\n",
    "import numpy as np\n",
    "import pandas as pd\n",
    "from typing import List, Dict\n",
    "\n",
    "print(\"This analysis simulates the impact of improving employee capacity by moving staff between performance buckets.\")\n",
    "\n",
    "def run_bucket_uplift_analysis(\n",
    "    alias_metrics_df: pd.DataFrame,\n",
    "    cap_edges: List[float] = [0, 25, 50, 75, 100],\n",
    "    moves: List[Dict] = None\n",
    "):\n",
    "    \"\"\"\n",
    "    Performs a flexible uplift analysis, returning both an aggregate summary\n",
    "    and the detailed 'before' and 'after' dataframes for plotting.\n",
    "    \"\"\"\n",
    "    if moves is None:\n",
    "        moves = []\n",
    "\n",
    "    df = alias_metrics_df.copy()\n",
    "    cap_labels = [f\"{int(cap_edges[i])}-{int(cap_edges[i+1])}\" for i in range(len(cap_edges)-1)]\n",
    "\n",
    "    # 1. Assign employees to initial capacity buckets\n",
    "    df[\"bucket\"] = pd.cut(df['Capacity_Score_0_100'], bins=cap_edges, labels=cap_labels, include_lowest=True)\n",
    "\n",
    "    # 2. Create the 'before' and 'after' dataframes for simulation\n",
    "    pre_volume_df = df.copy()\n",
    "    post_volume_df = df.copy()\n",
    "\n",
    "    # 3. Get initial stats for the summary table\n",
    "    stats = df.groupby(\"bucket\", observed=False).agg(\n",
    "        aliases=(\"alias\", \"nunique\"),\n",
    "        nc_median=(\"numCases\", \"median\")\n",
    "    ).reindex(cap_labels).reset_index()\n",
    "\n",
    "    # 4. Run the simulation\n",
    "    print(\"Running with flexible move plan:\")\n",
    "    for move in moves:\n",
    "        source_idx, dest_idx, pct = move.get('from'), move.get('to'), move.get('pct')\n",
    "        if any(v is None for v in [source_idx, dest_idx, pct]) or not (0 <= source_idx < len(stats) and 0 <= dest_idx < len(stats)):\n",
    "            continue\n",
    "\n",
    "        aliases_to_move_from = df[df['bucket'] == cap_labels[source_idx]]['alias'].unique()\n",
    "        n_to_move = int(np.floor(len(aliases_to_move_from) * pct))\n",
    "\n",
    "        if n_to_move > 0:\n",
    "            print(f\"- Moving {n_to_move} employees from bucket '{cap_labels[source_idx]}' to '{cap_labels[dest_idx]}'\")\n",
    "            moved_aliases = np.random.choice(aliases_to_move_from, size=n_to_move, replace=False)\n",
    "            \n",
    "            # Update the 'numCases' in the post-simulation dataframe\n",
    "            target_median = stats.loc[dest_idx, \"nc_median\"]\n",
    "            if pd.notna(target_median):\n",
    "                post_volume_df.loc[post_volume_df['alias'].isin(moved_aliases), 'numCases'] = target_median\n",
    "\n",
    "    # 5. Generate the summary table based on the simulation plan\n",
    "    summary_stats = stats.copy()\n",
    "    summary_stats[\"moved_in\"], summary_stats[\"new_cases_bucket\"], summary_stats[\"original_cases_handled\"] = 0, 0.0, 0.0\n",
    "\n",
    "    for move in moves:\n",
    "        source_idx, dest_idx, pct = move.get('from'), move.get('to'), move.get('pct')\n",
    "        if any(v is None for v in [source_idx, dest_idx, pct]) or not (0 <= source_idx < len(summary_stats) and 0 <= dest_idx < len(summary_stats)):\n",
    "            continue\n",
    "        \n",
    "        num_moving = int(np.floor(summary_stats.loc[source_idx, \"aliases\"] * pct))\n",
    "        if num_moving > 0:\n",
    "            summary_stats.loc[dest_idx, \"moved_in\"] += num_moving\n",
    "            summary_stats.loc[dest_idx, \"original_cases_handled\"] += num_moving * summary_stats.loc[source_idx, \"nc_median\"]\n",
    "            summary_stats.loc[dest_idx, \"new_cases_bucket\"] += num_moving * summary_stats.loc[dest_idx, \"nc_median\"]\n",
    "\n",
    "    summary_stats[\"net_incremental_cases\"] = summary_stats[\"new_cases_bucket\"] - summary_stats[\"original_cases_handled\"]\n",
    "    summary_stats[\"pct\"] = (summary_stats[\"aliases\"] / max(1, summary_stats[\"aliases\"].sum()) * 100).round(2)\n",
    "    \n",
    "    total_row = pd.DataFrame([{\n",
    "        \"bucket\": \"TOTAL\", \"aliases\": int(summary_stats[\"aliases\"].sum()), \"pct\": 100.0,\n",
    "        \"moved_in\": int(summary_stats[\"moved_in\"].sum()),\n",
    "        \"new_cases_bucket\": float(summary_stats[\"new_cases_bucket\"].sum()),\n",
    "        \"original_cases_handled\": float(summary_stats[\"original_cases_handled\"].sum()),\n",
    "        \"net_incremental_cases\": float(summary_stats[\"net_incremental_cases\"].sum())\n",
    "    }])\n",
    "    \n",
    "    display_cols = [\"bucket\", \"aliases\", \"nc_median\", \"pct\", \"moved_in\", \"new_cases_bucket\", \"original_cases_handled\", \"net_incremental_cases\"]\n",
    "    summary_df = pd.concat([summary_stats, total_row], ignore_index=True)[display_cols]\n",
    "    \n",
    "    return summary_df, pre_volume_df, post_volume_df\n",
    "\n",
    "# --- Run the Analysis ---\n",
    "uplift_input_df = df_scored[df_scored['_date_'] == df_scored['_date_'].max()].merge(\n",
    "    alias_metrics[['_date_', 'alias', 'WSI_0_100']], on=['_date_', 'alias']\n",
    ")\n",
    "\n",
    "# Define your flexible moves\n",
    "flexible_moves = [\n",
    "    {\"from\": 0, \"to\": 2, \"pct\": 0.15},\n",
    "    {\"from\": 1, \"to\": 3, \"pct\": 0.10},\n",
    "    {\"from\": 2, \"to\": 3, \"pct\": 0.15},\n",
    "    {\"from\": 0, \"to\": 3, \"pct\": 0.15}\n",
    "]\n",
    "\n",
    "# A single function call now provides all three results\n",
    "bucket_uplift_summary, pre_volume_df, post_volume_df = run_bucket_uplift_analysis(\n",
    "    uplift_input_df,\n",
    "    moves=flexible_moves\n",
    ")\n",
    "\n",
    "# --- Display the Summary Table ---\n",
    "print(\"\\n--- Bucket Uplift Summary ---\")\n",
    "display(bucket_uplift_summary)\n",
    "\n",
    "# --- Plot the Distribution ---\n",
    "volume_dist_path = \"total_volume_uplift_distribution.png\"\n",
    "plot_volume_uplift_distributions(\n",
    "    pre_df=pre_volume_df,\n",
    "    post_df=post_volume_df,\n",
    "    metric='numCases',\n",
    "    save_path=volume_dist_path\n",
    ")\n",
    "saved_plots[\"[INSERT TOTAL VOLUME UPLIFT DISTRIBUTION PLOT HERE]\"] = volume_dist_path\n",
    "\n",
    "# --- Run the Sanity Check ---\n",
    "sum_before = pre_volume_df['numCases'].sum()\n",
    "sum_after = post_volume_df['numCases'].sum()\n",
    "simulated_uplift = sum_after - post_volume_df['numCases'][post_volume_df['alias'].isin(pre_volume_df['alias']) == False].sum()\n",
    "\n",
    "\n",
    "print(f\"\\n--- Sanity Check Calculation ---\")\n",
    "print(f\"Total 'numCases' Before Simulation: {sum_before:,.2f}\")\n",
    "print(f\"Total 'numCases' After Simulation:  {sum_after:,.2f}\")\n",
    "print(f\"Total Simulated Uplift:             {sum_after - sum_before:,.2f}\")\n",
    "\n"
   ]
  },
  {
   "cell_type": "code",
   "execution_count": 11,
   "id": "d6b43835-b418-44cc-9c3c-7e77625eb21e",
   "metadata": {},
   "outputs": [
    {
     "name": "stdout",
     "output_type": "stream",
     "text": [
      "This analysis segments employees into four performance categories based on their Capacity and WSI scores.\n",
      "\n",
      "--- Quadrant Analysis for ALL Groups ---\n",
      "✅ Plot saved to: quadrant_all_groups.png\n"
     ]
    },
    {
     "data": {
      "image/png": "[encoded data removed]",
      "text/plain": [
       "<Figure size 800x500 with 1 Axes>"
      ]
     },
     "metadata": {},
     "output_type": "display_data"
    },
    {
     "data": {
      "text/html": [
       "<div>\n",
       "<style scoped>\n",
       "    .dataframe tbody tr th:only-of-type {\n",
       "        vertical-align: middle;\n",
       "    }\n",
       "\n",
       "    .dataframe tbody tr th {\n",
       "        vertical-align: top;\n",
       "    }\n",
       "\n",
       "    .dataframe thead th {\n",
       "        text-align: right;\n",
       "    }\n",
       "</style>\n",
       "<table border=\"1\" class=\"dataframe\">\n",
       "  <thead>\n",
       "    <tr style=\"text-align: right;\">\n",
       "      <th>WSI Level</th>\n",
       "      <th>Low WSI</th>\n",
       "      <th>High WSI</th>\n",
       "    </tr>\n",
       "    <tr>\n",
       "      <th>Capacity Level</th>\n",
       "      <th></th>\n",
       "      <th></th>\n",
       "    </tr>\n",
       "  </thead>\n",
       "  <tbody>\n",
       "    <tr>\n",
       "      <th>High Capacity</th>\n",
       "      <td>11\\n(9.2%)</td>\n",
       "      <td>49\\n(40.8%)</td>\n",
       "    </tr>\n",
       "    <tr>\n",
       "      <th>Low Capacity</th>\n",
       "      <td>49\\n(40.8%)</td>\n",
       "      <td>11\\n(9.2%)</td>\n",
       "    </tr>\n",
       "  </tbody>\n",
       "</table>\n",
       "</div>"
      ],
      "text/plain": [
       "WSI Level           Low WSI     High WSI\n",
       "Capacity Level                          \n",
       "High Capacity    11\\n(9.2%)  49\\n(40.8%)\n",
       "Low Capacity    49\\n(40.8%)   11\\n(9.2%)"
      ]
     },
     "metadata": {},
     "output_type": "display_data"
    },
    {
     "name": "stdout",
     "output_type": "stream",
     "text": [
      "\n",
      "--- Quadrant Analysis for SG-A and SG-C Only ---\n",
      "✅ Plot saved to: quadrant_filtered_groups.png\n"
     ]
    },
    {
     "data": {
      "image/png": "[encoded data removed]",
      "text/plain": [
       "<Figure size 800x500 with 1 Axes>"
      ]
     },
     "metadata": {},
     "output_type": "display_data"
    },
    {
     "data": {
      "text/html": [
       "<div>\n",
       "<style scoped>\n",
       "    .dataframe tbody tr th:only-of-type {\n",
       "        vertical-align: middle;\n",
       "    }\n",
       "\n",
       "    .dataframe tbody tr th {\n",
       "        vertical-align: top;\n",
       "    }\n",
       "\n",
       "    .dataframe thead th {\n",
       "        text-align: right;\n",
       "    }\n",
       "</style>\n",
       "<table border=\"1\" class=\"dataframe\">\n",
       "  <thead>\n",
       "    <tr style=\"text-align: right;\">\n",
       "      <th>WSI Level</th>\n",
       "      <th>Low WSI</th>\n",
       "      <th>High WSI</th>\n",
       "    </tr>\n",
       "    <tr>\n",
       "      <th>Capacity Level</th>\n",
       "      <th></th>\n",
       "      <th></th>\n",
       "    </tr>\n",
       "  </thead>\n",
       "  <tbody>\n",
       "    <tr>\n",
       "      <th>High Capacity</th>\n",
       "      <td>7\\n(11.7%)</td>\n",
       "      <td>23\\n(38.3%)</td>\n",
       "    </tr>\n",
       "    <tr>\n",
       "      <th>Low Capacity</th>\n",
       "      <td>23\\n(38.3%)</td>\n",
       "      <td>7\\n(11.7%)</td>\n",
       "    </tr>\n",
       "  </tbody>\n",
       "</table>\n",
       "</div>"
      ],
      "text/plain": [
       "WSI Level           Low WSI     High WSI\n",
       "Capacity Level                          \n",
       "High Capacity    7\\n(11.7%)  23\\n(38.3%)\n",
       "Low Capacity    23\\n(38.3%)   7\\n(11.7%)"
      ]
     },
     "metadata": {},
     "output_type": "display_data"
    }
   ],
   "source": [
    "# --- 📊 2x2 Performance Quadrant Analysis (Now saves the plots) ---\n",
    "print(\"This analysis segments employees into four performance categories based on their Capacity and WSI scores.\")\n",
    "\n",
    "def create_performance_quadrant(alias_metrics_df, group_filter=None, save_path: Optional[str] = None):\n",
    "    df = alias_metrics_df.copy()\n",
    "    if group_filter:\n",
    "        df = df[df['StaffGroup'].isin(group_filter)]\n",
    "\n",
    "    if df.empty:\n",
    "        print(\"No data for the selected filter.\")\n",
    "        return pd.DataFrame(), None # Return None for the path\n",
    "\n",
    "    cap_median = df['Capacity_Score_0_100'].median()\n",
    "    wsi_median = df['WSI_0_100'].median()\n",
    "\n",
    "    # Create separate columns for the 2x2 grid\n",
    "    df['Capacity Level'] = np.where(df['Capacity_Score_0_100'] >= cap_median, 'High Capacity', 'Low Capacity')\n",
    "    df['WSI Level'] = np.where(df['WSI_0_100'] >= wsi_median, 'High WSI', 'Low WSI')\n",
    "\n",
    "    # Create the 2x2 grid of counts and percentages\n",
    "    count_table = pd.crosstab(df['Capacity Level'], df['WSI Level'])\n",
    "    if 'Low WSI' in count_table.columns:\n",
    "        count_table = count_table[['Low WSI', 'High WSI']]\n",
    "    percent_table = (count_table / len(df) * 100).round(1)\n",
    "    annot_table = count_table.astype(str) + \"\\n(\" + percent_table.astype(str) + \"%)\"\n",
    "\n",
    "    # Visualization: Heatmap of the 2x2 Grid\n",
    "    plt.figure(figsize=(8, 5))\n",
    "    sns.heatmap(\n",
    "        count_table,\n",
    "        annot=annot_table,\n",
    "        fmt='s',\n",
    "        cmap=\"viridis\",\n",
    "        cbar=False,\n",
    "        linewidths=2,\n",
    "        linecolor='white'\n",
    "    )\n",
    "    title = 'Employee Performance Quadrant (Count & Percent)'\n",
    "    if group_filter:\n",
    "        title += f\" - {', '.join(group_filter)}\"\n",
    "    plt.title(title, fontsize=16, weight='bold')\n",
    "    plt.ylabel('Capacity Score Level', fontsize=12)\n",
    "    plt.xlabel('Workload Stress Index (WSI) Level', fontsize=12)\n",
    "    \n",
    "    # --- ADDED SAVE LOGIC ---\n",
    "    if save_path:\n",
    "        plt.savefig(save_path, bbox_inches='tight', dpi=150)\n",
    "        print(f\"✅ Plot saved to: {save_path}\")\n",
    "\n",
    "    plt.show()\n",
    "\n",
    "    # Return the formatted table and the path to the saved image\n",
    "    return annot_table, save_path\n",
    "\n",
    "# --- Run the Analysis for ALL Groups ---\n",
    "print(\"\\n--- Quadrant Analysis for ALL Groups ---\")\n",
    "quadrant_all_path = \"quadrant_all_groups.png\"\n",
    "wsi_capacity_quadrant_all, path1 = create_performance_quadrant(latest_month_df, save_path=quadrant_all_path)\n",
    "if path1:\n",
    "    saved_plots[\"[INSERT QUADRANT PLOT ALL GROUPS HERE]\"] = path1\n",
    "display(wsi_capacity_quadrant_all)\n",
    "\n",
    "\n",
    "# --- Run for a specific subset of groups ---\n",
    "print(\"\\n--- Quadrant Analysis for SG-A and SG-C Only ---\")\n",
    "quadrant_filtered_path = \"quadrant_filtered_groups.png\"\n",
    "wsi_capacity_quadrant_filtered, path2 = create_performance_quadrant(latest_month_df, group_filter=['SG-A', 'SG-C'], save_path=quadrant_filtered_path)\n",
    "if path2:\n",
    "    saved_plots[\"[INSERT QUADRANT PLOT FILTERED HERE]\"] = path2\n",
    "display(wsi_capacity_quadrant_filtered)\n",
    "\n",
    "\n"
   ]
  },
  {
   "cell_type": "code",
   "execution_count": 12,
   "id": "34d62f5c-2f79-446c-8f5a-f8091cc343ea",
   "metadata": {},
   "outputs": [
    {
     "name": "stdout",
     "output_type": "stream",
     "text": [
      "This tool runs an optimization algorithm to find a set of employee moves\n",
      "that best achieves our defined business goals (e.g., reducing WSI and backlog).\n",
      "\n",
      "--- Recommended Reassignment Plan (Net Moves) ---\n",
      "No improving moves found within the budget and objective; the optimizer returned an empty plan.\n",
      "\n",
      "--- Projected Metrics: Initial vs. Optimized State ---\n"
     ]
    },
    {
     "data": {
      "text/html": [
       "<div>\n",
       "<style scoped>\n",
       "    .dataframe tbody tr th:only-of-type {\n",
       "        vertical-align: middle;\n",
       "    }\n",
       "\n",
       "    .dataframe tbody tr th {\n",
       "        vertical-align: top;\n",
       "    }\n",
       "\n",
       "    .dataframe thead th {\n",
       "        text-align: right;\n",
       "    }\n",
       "</style>\n",
       "<table border=\"1\" class=\"dataframe\">\n",
       "  <thead>\n",
       "    <tr style=\"text-align: right;\">\n",
       "      <th></th>\n",
       "      <th>StaffGroup</th>\n",
       "      <th>Capacity_Initial</th>\n",
       "      <th>WSI_0_100_Initial</th>\n",
       "      <th>efficiency_Initial</th>\n",
       "      <th>days_to_close_Initial</th>\n",
       "      <th>backlog_Initial</th>\n",
       "      <th>Capacity_Optimized</th>\n",
       "      <th>WSI_0_100_Optimized</th>\n",
       "      <th>efficiency_Optimized</th>\n",
       "      <th>days_to_close_Optimized</th>\n",
       "      <th>backlog_Optimized</th>\n",
       "    </tr>\n",
       "  </thead>\n",
       "  <tbody>\n",
       "    <tr>\n",
       "      <th>0</th>\n",
       "      <td>SG-A</td>\n",
       "      <td>69.20</td>\n",
       "      <td>55.00</td>\n",
       "      <td>0.78</td>\n",
       "      <td>7.22</td>\n",
       "      <td>19.50</td>\n",
       "      <td>66.00</td>\n",
       "      <td>55.19</td>\n",
       "      <td>0.80</td>\n",
       "      <td>7.40</td>\n",
       "      <td>24.04</td>\n",
       "    </tr>\n",
       "    <tr>\n",
       "      <th>1</th>\n",
       "      <td>SG-B</td>\n",
       "      <td>65.08</td>\n",
       "      <td>53.53</td>\n",
       "      <td>0.83</td>\n",
       "      <td>7.28</td>\n",
       "      <td>18.00</td>\n",
       "      <td>57.03</td>\n",
       "      <td>55.24</td>\n",
       "      <td>0.81</td>\n",
       "      <td>6.98</td>\n",
       "      <td>21.96</td>\n",
       "    </tr>\n",
       "    <tr>\n",
       "      <th>2</th>\n",
       "      <td>SG-C</td>\n",
       "      <td>64.02</td>\n",
       "      <td>56.47</td>\n",
       "      <td>0.82</td>\n",
       "      <td>6.89</td>\n",
       "      <td>18.50</td>\n",
       "      <td>59.97</td>\n",
       "      <td>57.60</td>\n",
       "      <td>0.81</td>\n",
       "      <td>6.99</td>\n",
       "      <td>23.71</td>\n",
       "    </tr>\n",
       "    <tr>\n",
       "      <th>3</th>\n",
       "      <td>SG-D</td>\n",
       "      <td>62.34</td>\n",
       "      <td>51.77</td>\n",
       "      <td>0.77</td>\n",
       "      <td>7.87</td>\n",
       "      <td>20.00</td>\n",
       "      <td>62.49</td>\n",
       "      <td>52.47</td>\n",
       "      <td>0.78</td>\n",
       "      <td>8.12</td>\n",
       "      <td>23.43</td>\n",
       "    </tr>\n",
       "  </tbody>\n",
       "</table>\n",
       "</div>"
      ],
      "text/plain": [
       "  StaffGroup  Capacity_Initial  WSI_0_100_Initial  efficiency_Initial  \\\n",
       "0       SG-A             69.20              55.00                0.78   \n",
       "1       SG-B             65.08              53.53                0.83   \n",
       "2       SG-C             64.02              56.47                0.82   \n",
       "3       SG-D             62.34              51.77                0.77   \n",
       "\n",
       "   days_to_close_Initial  backlog_Initial  Capacity_Optimized  \\\n",
       "0                   7.22            19.50               66.00   \n",
       "1                   7.28            18.00               57.03   \n",
       "2                   6.89            18.50               59.97   \n",
       "3                   7.87            20.00               62.49   \n",
       "\n",
       "   WSI_0_100_Optimized  efficiency_Optimized  days_to_close_Optimized  \\\n",
       "0                55.19                  0.80                     7.40   \n",
       "1                55.24                  0.81                     6.98   \n",
       "2                57.60                  0.81                     6.99   \n",
       "3                52.47                  0.78                     8.12   \n",
       "\n",
       "   backlog_Optimized  \n",
       "0              24.04  \n",
       "1              21.96  \n",
       "2              23.71  \n",
       "3              23.43  "
      ]
     },
     "metadata": {},
     "output_type": "display_data"
    }
   ],
   "source": [
    "# --- ❓ Question 4: What is the optimal headcount distribution? ---\n",
    "\n",
    "print(\"This tool runs an optimization algorithm to find a set of employee moves\")\n",
    "print(\"that best achieves our defined business goals (e.g., reducing WSI and backlog).\")\n",
    "\n",
    "# --- 1) Define Business Goals for Optimization ---\n",
    "opt_cfg = OptimizeConfig(\n",
    "    budget_moves=15,\n",
    "    objective_weights={\n",
    "        WSI_COL: -1.0,\n",
    "        EFFICIENCY_COL: +0.6,\n",
    "        DTC_COL: -0.6,\n",
    "        \"backlog\": -0.8,   # canonical name expected by the grids\n",
    "        \"numCases\": +0.25  # canonical name expected by the grids\n",
    "    },\n",
    "    random_state=42\n",
    ")\n",
    "\n",
    "# --- 2) Run the Full Optimizer Pipeline ---\n",
    "plan_output = run_optimizer_pipeline(\n",
    "    df_full=df_full,\n",
    "    scores_baseline=scores,\n",
    "    opt_cfg=opt_cfg,\n",
    "    cols=cols,\n",
    "    compute_wsi_fn=compute_capacity_centric_wsi,\n",
    "    wsi_kwargs=wsi_kwargs,\n",
    "    targets=modeler_targets,\n",
    "    only_impacted=False  # important so the first step evaluates all teams\n",
    ")\n",
    "\n",
    "# --- 3) Display the Results ---\n",
    "print(\"\\n--- Recommended Reassignment Plan (Net Moves) ---\")\n",
    "\n",
    "plan_list = plan_output.get(\"plan\", [])\n",
    "if not plan_list:\n",
    "    print(\"No improving moves found within the budget and objective; the optimizer returned an empty plan.\")\n",
    "else:\n",
    "    plan_df = pd.DataFrame(plan_list)\n",
    "\n",
    "    # Normalize column names for the plotting helper\n",
    "    if {\"from\", \"to\"}.issubset(plan_df.columns):\n",
    "        plan_for_plot = plan_df.rename(columns={\"from\": \"from_group\", \"to\": \"to_group\"})\n",
    "    elif {\"from_group\", \"to_group\"}.issubset(plan_df.columns):\n",
    "        plan_for_plot = plan_df.copy()\n",
    "    else:\n",
    "        display(plan_df.head())\n",
    "        raise ValueError(\"Expected ['from','to','n'] or ['from_group','to_group','n'].\")\n",
    "\n",
    "    # Summary table\n",
    "    plan_summary = (\n",
    "        plan_for_plot\n",
    "        .groupby([\"from_group\", \"to_group\"])\n",
    "        .size()\n",
    "        .reset_index(name=\"count\")\n",
    "        .sort_values(\"count\", ascending=False)\n",
    "    )\n",
    "    display(plan_summary)\n",
    "\n",
    "    # Plot and stash\n",
    "    optimizer_plan_path = \"optimizer_plan.png\"\n",
    "    plot_optimization_plan(plan_for_plot.to_dict(\"records\"), save_path=optimizer_plan_path)\n",
    "    if \"saved_plots\" not in globals():\n",
    "        saved_plots = {}\n",
    "    saved_plots[\"[INSERT OPTIMIZER PLAN PLOT HERE]\"] = optimizer_plan_path\n",
    "\n",
    "print(\"\\n--- Projected Metrics: Initial vs. Optimized State ---\")\n",
    "comparison = plan_output[\"initial_metrics\"].merge(\n",
    "    plan_output[\"expected_metrics\"],\n",
    "    on=\"StaffGroup\",\n",
    "    suffixes=(\"_Initial\", \"_Optimized\")\n",
    ")\n",
    "display(comparison)"
   ]
  },
  {
   "cell_type": "code",
   "execution_count": 13,
   "id": "0d475276-14d7-4185-acf2-c1e4f24c66af",
   "metadata": {},
   "outputs": [
    {
     "name": "stdout",
     "output_type": "stream",
     "text": [
      "--- 🚀 LLM Placeholder Prompt ---\n",
      "\n",
      "✅ All functions are now updated to pass the correct outputs.\n"
     ]
    }
   ],
   "source": [
    "# --- 🚀 Final Step (Text-Only Summary): Generate and Call LLM ---\n",
    "\n",
    "# --- 🚀 UPDATED Function (Text-Only Summary): Generate and Call LLM ---\n",
    "\n",
    "def generate_llm_text_prompt(\n",
    "    team_metrics_df,\n",
    "    scorer_obj,\n",
    "    simulation_df,         # CHANGED: Was sim_data_df, now takes the 'combined' dataframe\n",
    "    sanity_df,             # NEW: For model explainability\n",
    "    mse_report_df,         # NEW: For model performance\n",
    "    contributions_df,      # NEW: For local score drivers\n",
    "    opt_plan_obj,\n",
    "    bucket_uplift_df,\n",
    "    quadrant_df,\n",
    "    filtered_quadrant_df,  # NEW: For the filtered quadrant view\n",
    "    wsi_config,\n",
    "    opt_config,\n",
    "    post_volume_df\n",
    "):\n",
    "    \"\"\"\n",
    "    Takes ALL notebook outputs and configs, and compiles them into a detailed\n",
    "    text prompt that instructs the LLM to explain methodologies and summarize results.\n",
    "    \"\"\"\n",
    "    # Convert all relevant DataFrames to a readable markdown format\n",
    "    team_metrics_md = team_metrics_df.to_markdown(index=False)\n",
    "    feature_importance_md = scorer_obj.feature_importances().to_markdown(index=False)\n",
    "    simulation_md = simulation_df.to_markdown(index=False)\n",
    "    opt_plan_md = pd.DataFrame(opt_plan_obj['plan']).to_markdown(index=False)\n",
    "    opt_expected_md = opt_plan_obj['expected_metrics'].to_markdown(index=False)\n",
    "    bucket_uplift_md = bucket_uplift_df.to_markdown(index=False)\n",
    "    quadrant_md = quadrant_df.to_markdown()\n",
    "    wsi_weights_md = pd.DataFrame(wsi_config.weights.items(), columns=['Component', 'Weight']).to_markdown(index=False)\n",
    "    opt_weights_md = pd.DataFrame(opt_config.objective_weights.items(), columns=['Metric', 'Weight']).to_markdown(index=False)\n",
    "    post_volume_md = post_volume_df[['numCases']].describe().to_markdown()\n",
    "\n",
    "    # --- NEW: Convert the additional dataframes to markdown ---\n",
    "    sanity_md = sanity_df.to_markdown()\n",
    "    mse_md = pd.DataFrame(list(mse_report_df.items()), columns=['Metric', 'Mean Squared Error']).to_markdown(index=False)    \n",
    "    contributions_md = contributions_df.to_markdown(index=False)\n",
    "    filtered_quadrant_md = filtered_quadrant_df.to_markdown()\n",
    "\n",
    "\n",
    "    prompt = f\"\"\"\n",
    "You are an expert business analyst and communicator. Your task is to generate a detailed business analysis report for executive stakeholders who are not data scientists. For each section, you must first **explain the methodology** in simple, non-technical terms, and then **summarize the key findings** from the data provided for that section.\n",
    "\n",
    "--- DATA AND INSTRUCTIONS ---\n",
    "\n",
    "### 1. The Capacity Score & WSI\n",
    "**Your Task:** First, explain how the Capacity Score and WSI are calculated. Then, explain the key drivers (both global and for a specific employee example) and summarize team performance.\n",
    "**Data:**\n",
    "*Global Feature Importance:*\n",
    "{feature_importance_md}\n",
    "*Local Contributions for One Employee:*\n",
    "{contributions_md}\n",
    "*Team Performance Metrics:*\n",
    "{team_metrics_md}\n",
    "*WSI Component Weights:*\n",
    "{wsi_weights_md}\n",
    "\n",
    "### 2. \"What-If\" Headcount Simulation\n",
    "**Your Task:** Explain that the simulation uses predictive models to estimate outcomes. Summarize the projected impact of the specific moves. Also, comment on the model's accuracy using the MSE report and provide context using the sanity check data.\n",
    "**Data:**\n",
    "*Simulation Results (Pre vs. Post):*\n",
    "{simulation_md}\n",
    "*Model Performance (Mean Squared Error - lower is better):*\n",
    "{mse_md}\n",
    "*Sanity Check (Typical Metric Ranges):*\n",
    "{sanity_md}\n",
    "\n",
    "### 3. Bucket Uplift & Overall Volume Impact\n",
    "**Your Task:** Explain the \"Bucket Uplift\" analysis and state the total estimated incremental cases. Then, explain the \"Overall Volume Impact\" simulation, summarizing the change in the mean `numCases`.\n",
    "**Data:**\n",
    "*Bucket Uplift Summary:*\n",
    "{bucket_uplift_md}\n",
    "*Overall Volume Impact (Post-Simulation 'numCases' stats):*\n",
    "{post_volume_md}\n",
    "\n",
    "### 4. Optimal Headcount Reassignment\n",
    "**Your Task:** Explain how the Optimizer works, present the recommended plan, and summarize expected improvements.\n",
    "**Data:**\n",
    "*Optimizer Business Goals (Objective Weights):*\n",
    "{opt_weights_md}\n",
    "*Recommended Moves:*\n",
    "{opt_plan_md}\n",
    "*Expected State Metrics:*\n",
    "{opt_expected_md}\n",
    "\n",
    "### 5. Performance Quadrant Analysis\n",
    "**Your Task:** Explain the four quadrants and summarize the employee distribution for both the overall organization and the specific filtered groups (SG-A and SG-C).\n",
    "**Data:**\n",
    "*Overall 2x2 Performance Quadrant Grid:*\n",
    "{quadrant_md}\n",
    "*Filtered (SG-A & SG-C) 2x2 Performance Quadrant Grid:*\n",
    "{filtered_quadrant_md}\n",
    "\n",
    "--- END OF DATA ---\n",
    "\n",
    "Now, generate the full, detailed business analysis report based on these instructions and data.\n",
    "\"\"\"\n",
    "    return prompt\n",
    "\n",
    "# --- Call the UPDATED function with all dataframes ---\n",
    "\n",
    "# Ensure all dataframes from previous cells are available:\n",
    "# team_metrics, scorer, combined, sanity_df, mse_report, contributions, \n",
    "# plan_output, bucket_uplift_summary, wsi_capacity_quadrant_all, \n",
    "# wsi_capacity_quadrant_filtered, wsi_cfg, opt_cfg, post_volume_df\n",
    "\n",
    "final_prompt_explained = generate_llm_text_prompt(\n",
    "    team_metrics_df=team_metrics,\n",
    "    scorer_obj=scorer,\n",
    "    simulation_df=combined,                   # CHANGED: Using 'combined' now\n",
    "    sanity_df=sanity_df,                      # NEW\n",
    "    mse_report_df=mse_report,                 # NEW\n",
    "    contributions_df=contributions,           # NEW\n",
    "    opt_plan_obj=plan_output,\n",
    "    bucket_uplift_df=bucket_uplift_summary,\n",
    "    quadrant_df=wsi_capacity_quadrant_all,\n",
    "    filtered_quadrant_df=wsi_capacity_quadrant_filtered, # NEW\n",
    "    wsi_config=wsi_cfg,\n",
    "    opt_config=opt_cfg,\n",
    "    post_volume_df=post_volume_df\n",
    ")\n",
    "\n",
    "# You can now pass this comprehensive prompt to your LLM\n",
    "# print(final_prompt_explained)\n",
    "\n",
    "\n",
    "# --- 🚀 Final Step (HTML Report): Generate and Infuse Plots ---\n",
    "import base64\n",
    "import markdown\n",
    "\n",
    "def generate_llm_placeholder_prompt(\n",
    "    team_metrics_df,\n",
    "    scorer_obj,\n",
    "    simulation_df,         # Takes the 'combined' dataframe\n",
    "    sanity_df,             # NEW: For model explainability\n",
    "    mse_report_df,         # NEW: For model performance\n",
    "    contributions_df,      # NEW: For local score drivers\n",
    "    opt_plan_obj,\n",
    "    bucket_uplift_df,\n",
    "    quadrant_df,\n",
    "    filtered_quadrant_df,  # NEW: For the filtered quadrant view\n",
    "    wsi_config,\n",
    "    opt_config,\n",
    "    post_volume_df\n",
    "):\n",
    "    \"\"\"\n",
    "    Generates a prompt that instructs the LLM to create a detailed narrative\n",
    "    and insert placeholders where all the plots should go, providing full context.\n",
    "    \"\"\"\n",
    "    # --- Convert all dataframes to markdown to give the LLM full context ---\n",
    "    team_metrics_md = team_metrics_df.to_markdown(index=False)\n",
    "    feature_importance_md = scorer_obj.feature_importances().to_markdown(index=False)\n",
    "    simulation_md = simulation_df.to_markdown(index=False)\n",
    "    opt_plan_md = pd.DataFrame(opt_plan_obj['plan']).to_markdown(index=False)\n",
    "    opt_expected_md = opt_plan_obj['expected_metrics'].to_markdown(index=False)\n",
    "    bucket_uplift_md = bucket_uplift_df.to_markdown(index=False)\n",
    "    quadrant_md = quadrant_df.to_markdown()\n",
    "    wsi_weights_md = pd.DataFrame(wsi_config.weights.items(), columns=['Component', 'Weight']).to_markdown(index=False)\n",
    "    opt_weights_md = pd.DataFrame(opt_config.objective_weights.items(), columns=['Metric', 'Weight']).to_markdown(index=False)\n",
    "    post_volume_md = post_volume_df[['numCases']].describe().to_markdown()\n",
    "\n",
    "    # --- NEW: Convert the additional dataframes to markdown ---\n",
    "    sanity_md = sanity_df.to_markdown()\n",
    "    mse_md = pd.DataFrame(list(mse_report_df.items()), columns=['Metric', 'Mean Squared Error']).to_markdown(index=False)\n",
    "    contributions_md = contributions_df.to_markdown(index=False)\n",
    "    filtered_quadrant_md = filtered_quadrant_df.to_markdown()\n",
    "\n",
    "    # --- Add all new placeholder tags to the instruction list ---\n",
    "    prompt = f\"\"\"\n",
    "You are an expert business analyst creating a detailed executive summary report. Your task is to analyze the provided data, explain the methodologies, summarize the key findings, and write a clear narrative.\n",
    "\n",
    "Your response MUST include the following placeholder tags exactly as written where each chart should appear:\n",
    "- [INSERT SCORE DISTRIBUTION PLOT HERE]\n",
    "- [INSERT TEAM METRICS PLOT HERE]\n",
    "- [INSERT FEATURE IMPORTANCE PLOT HERE]\n",
    "- [INSERT CONTRIBUTION WATERFALL PLOT HERE]\n",
    "- [INSERT SIMULATION HEATMAP HERE]\n",
    "- [INSERT TOTAL VOLUME UPLIFT DISTRIBUTION PLOT HERE]\n",
    "- [INSERT OPTIMIZER PLAN PLOT HERE]\n",
    "- [INSERT QUADRANT PLOT ALL GROUPS HERE]\n",
    "- [INSERT QUADRANT PLOT FILTERED HERE]\n",
    "\n",
    "**Task:**\n",
    "Write a summary that flows logically through the analysis. For each section, first explain the methodology in simple terms, then summarize the key findings from the data provided, and finally insert the corresponding placeholder tag for the visualization.\n",
    "\n",
    "--- DATA AND INSTRUCTIONS ---\n",
    "\n",
    "### 1. The Capacity Score & WSI\n",
    "**Analysis:** Explain the scores, their drivers (global and local), and summarize team performance.\n",
    "- Insert [INSERT SCORE DISTRIBUTION PLOT HERE], [INSERT TEAM METRICS PLOT HERE], \n",
    "  [INSERT FEATURE IMPORTANCE PLOT HERE], and [INSERT CONTRIBUTION WATERFALL PLOT HERE].\n",
    "**Data:**\n",
    "*Global Feature Importance:*\n",
    "{feature_importance_md}\n",
    "*Local Contributions for One Employee:*\n",
    "{contributions_md}\n",
    "*Team Performance Metrics:*\n",
    "{team_metrics_md}\n",
    "*WSI Component Weights:*\n",
    "{wsi_weights_md}\n",
    "\n",
    "### 2. \"What-If\" Headcount Simulation\n",
    "**Analysis:** Explain the simulation, summarize the team-level impact, and comment on model accuracy and typical value ranges.\n",
    "- Insert [INSERT SIMULATION HEATMAP HERE] for the team summary.\n",
    "**Data:**\n",
    "*Simulation Results (Pre vs. Post):*\n",
    "{simulation_md}\n",
    "*Model Performance (Mean Squared Error - lower is better):*\n",
    "{mse_md}\n",
    "*Sanity Check (Typical Metric Ranges):*\n",
    "{sanity_md}\n",
    "\n",
    "### 3. Bucket Uplift & Overall Volume Impact\n",
    "**Analysis:** Explain the \"Bucket Uplift\" estimation and state the total incremental cases. Explain the \"Overall Volume Impact\" simulation and summarize the change in the 'numCases' distribution.\n",
    "- Insert [INSERT TOTAL VOLUME UPLIFT DISTRIBUTION PLOT HERE] to visualize the volume shift.\n",
    "**Data:**\n",
    "*Bucket Uplift Summary:*\n",
    "{bucket_uplift_md}\n",
    "*Overall Volume Impact (Post-Simulation 'numCases' stats):*\n",
    "{post_volume_md}\n",
    "\n",
    "### 4. Optimal Headcount Reassignment\n",
    "**Analysis:** Explain the Optimizer, present the recommended plan, and summarize expected improvements.\n",
    "- Insert [INSERT OPTIMIZER PLAN PLOT HERE] for the net moves visual.\n",
    "**Data:**\n",
    "*Optimizer Business Goals:*\n",
    "{opt_weights_md}\n",
    "*Recommended Moves:*\n",
    "{opt_plan_md}\n",
    "*Expected Metrics After Moves:*\n",
    "{opt_expected_md}\n",
    "\n",
    "### 5. Performance Quadrant Analysis\n",
    "**Analysis:** Explain the four quadrants and summarize the employee distribution for all groups and for the filtered groups.\n",
    "- Insert [INSERT QUADRANT PLOT ALL GROUPS HERE] for the overall grid.\n",
    "- Insert [INSERT QUADRANT PLOT FILTERED HERE] for the filtered grid.\n",
    "**Data:**\n",
    "*Overall 2x2 Performance Quadrant Grid:*\n",
    "{quadrant_md}\n",
    "*Filtered (SG-A & SG-C) 2x2 Performance Quadrant Grid:*\n",
    "{filtered_quadrant_md}\n",
    "\n",
    "--- END OF DATA ---\n",
    "\"\"\"\n",
    "    return prompt\n",
    "\n",
    "# --- Call the UPDATED function with all dataframes ---\n",
    "\n",
    "# Ensure all dataframes from previous cells are available\n",
    "final_placeholder_prompt = generate_llm_placeholder_prompt(\n",
    "    team_metrics_df=team_metrics,\n",
    "    scorer_obj=scorer,\n",
    "    simulation_df=combined,                   # Use the 'combined' df\n",
    "    sanity_df=sanity_df,                      # NEW\n",
    "    mse_report_df=mse_report,                 # NEW\n",
    "    contributions_df=contributions,           # NEW\n",
    "    opt_plan_obj=plan_output,\n",
    "    bucket_uplift_df=bucket_uplift_summary,\n",
    "    quadrant_df=wsi_capacity_quadrant_all,\n",
    "    filtered_quadrant_df=wsi_capacity_quadrant_filtered, # NEW\n",
    "    wsi_config=wsi_cfg,\n",
    "    opt_config=opt_cfg,\n",
    "    post_volume_df=post_volume_df\n",
    ")\n",
    "\n",
    "# --- Populate the dictionary with ALL saved plot paths ---\n",
    "# The keys MUST EXACTLY match the placeholders in your prompt.\n",
    "saved_plots = {\n",
    "    \"[INSERT SCORE DISTRIBUTION PLOT HERE]\": score_dist_path,\n",
    "    \"[INSERT TEAM METRICS PLOT HERE]\": team_metrics_path,\n",
    "    \"[INSERT FEATURE IMPORTANCE PLOT HERE]\": feature_importance_path,\n",
    "    \"[INSERT CONTRIBUTION WATERFALL PLOT HERE]\": contributions_path,\n",
    "    \"[INSERT SIMULATION HEATMAP HERE]\": simulation_heatmap_path,\n",
    "    \"[INSERT TOTAL VOLUME UPLIFT DISTRIBUTION PLOT HERE]\": volume_dist_path,\n",
    "    # \"[INSERT OPTIMIZER PLAN PLOT HERE]\": optimizer_plan_path,\n",
    "    \"[INSERT QUADRANT PLOT ALL GROUPS HERE]\": quadrant_all_path,\n",
    "    \"[INSERT QUADRANT PLOT FILTERED HERE]\": quadrant_filtered_path\n",
    "    # Note: [INSERT SIMULATION DISTRIBUTIONS PLOT HERE] is omitted as its generating function is inactive.\n",
    "}\n",
    "\n",
    "print(\"--- 🚀 LLM Placeholder Prompt ---\")\n",
    "# You can uncomment the line below to see the full text being sent to the LLM\n",
    "# print(final_placeholder_prompt)\n",
    "\n",
    "# --- (Optional) Call your LLM and generate the final HTML report ---\n",
    "# llm_text_with_placeholders = YOUR_LLM_API_CALL(final_placeholder_prompt)\n",
    "# create_html_report_final(...)\n",
    "\n",
    "print(\"\\n✅ All functions are now updated to pass the correct outputs.\")\n"
   ]
  },
  {
   "cell_type": "code",
   "execution_count": 14,
   "id": "0751e356-ee66-4934-83a2-a4b9122293bf",
   "metadata": {},
   "outputs": [
    {
     "name": "stdout",
     "output_type": "stream",
     "text": [
      "--- 🚀 Executive Summary ---\n",
      "Executive Business Analysis Report: Azure Customer Support (Capacity and WSI)\n",
      "\n",
      "1) The Capacity Score and WSI\n",
      "\n",
      "Methodology (in plain terms)\n",
      "- Capacity Score: Think of this as a “how much more can this engineer take on” index. We estimate it by looking at each person’s workload and case mix (for example, time spent on cases, how many cases are open, how many they handled, backlog, and how long cases take to close). We train a predictive model on historical performance to learn which signals typically correlate with more or less spare capacity.\n",
      "  - Global feature importance tells us, on average, which signals matter most across the entire team.\n",
      "  - Local contributions show, for one specific employee, which signals pushed their score up or down relative to an average baseline.\n",
      "\n",
      "- WSI (Weighted Support Index): A 0–100 composite score summarizing overall support health. It blends five components using fixed business weights:\n",
      "  - Workload (30%), Capability development “cap_dev” (30%), Persistence or sustained load “persist” (15%), Case complexity (15%), and Time dimension (10%).\n",
      "  - Higher WSI means better overall support health and balance.\n",
      "\n",
      "Key findings\n",
      "- What drives Capacity globally (most to least important):\n",
      "  - TimeSpent (3.90) and backlog (3.13) are the strongest signals; then number of open cases (2.60) and total cases handled (2.56).\n",
      "  - Secondary signals: average days to close (0.43), current Sev A load (0.29), 24x7 opt-in (0.19).\n",
      "  - Signals with no measurable impact in this period: closed on weekend, tenure, SoM.\n",
      "  - Interpretation: actual workload volume and in-flight load drive capacity far more than tenure or scheduling patterns.\n",
      "\n",
      "- One-employee example (what nudged their Capacity Score):\n",
      "  - Downward pressures: numOpenCases (-3.13), TimeSpent (-0.85), numCases (-0.58), currentSevA (-0.16).\n",
      "  - Offsetting pressures: backlog (+1.42), avgDaysToClose (+0.13), 24x7 opt-in (+0.07).\n",
      "  - Net: the strongest single drag on this person’s capacity is the high number of open cases.\n",
      "\n",
      "- Team performance trend (June → August):\n",
      "  - WSI fell across all groups, largely tracking declines in cap_dev:\n",
      "    - SG-A: WSI 61.47 → 58.98 (-2.50); cap_dev 0.283 → 0.150; complexity up modestly.\n",
      "    - SG-B: WSI 62.46 → 57.47 (-4.99); cap_dev 0.304 → 0.125; complexity flat.\n",
      "    - SG-C: WSI 64.36 → 60.12 (-4.24); cap_dev 0.293 → 0.058; complexity flat.\n",
      "    - SG-D: WSI 59.32 → 55.35 (-3.97); cap_dev 0.291 → 0.073; complexity down slightly.\n",
      "  - SG-C remains the highest WSI; SG-D remains lowest.\n",
      "  - Takeaway: the dominant headwind is the deterioration in cap_dev, which carries a 30% weight in WSI.\n",
      "\n",
      "2) “What‑If” Headcount Simulation\n",
      "\n",
      "Methodology (in plain terms)\n",
      "- We use the same predictive models to estimate how WSI, capacity, efficiency, days to close, and backlog would change if we alter headcount/assignments. Think of this as a flight simulator for staffing decisions.\n",
      "- We evaluate model accuracy with mean squared error (MSE). Lower is better. We also sanity‑check that predictions sit within typical historical ranges.\n",
      "\n",
      "Projected impact of the specific moves\n",
      "- SG-A (Pre vs. Post):\n",
      "  - Capacity: 69.21 → 72.14 (+2.94)\n",
      "  - WSI: 55.00 → 55.19 (+0.19)\n",
      "  - Efficiency: 0.780 → 0.795 (+0.015)\n",
      "  - Days to close: 7.22 → 7.40 (+0.18 days; slightly slower)\n",
      "  - Backlog: 19.50 → 24.04 (+4.54; near/above the 75th percentile)\n",
      "  - Interpretation: added capacity and small WSI/efficiency gains, but backlog creeps up, suggesting intake or mix effects that offset throughput.\n",
      "\n",
      "- SG-C (Pre vs. Post):\n",
      "  - Capacity: 64.02 → 58.53 (-5.49)\n",
      "  - WSI: 56.47 → 57.60 (+1.14)\n",
      "  - Efficiency: 0.824 → 0.812 (-0.012)\n",
      "  - Days to close: 6.89 → 6.99 (+0.11 days)\n",
      "  - Backlog: 18.50 → 23.71 (+5.21; just at/above the typical upper quartile)\n",
      "  - Interpretation: reduced capacity but slightly higher WSI; efficiency and speed slip; backlog rises to the upper bound.\n",
      "\n",
      "Model accuracy and sanity check\n",
      "- Accuracy (approximate RMSE, square root of MSE):\n",
      "  - WSI_0_100 RMSE ~ 14.9 points (coarse; use for direction, not fine-grained deltas)\n",
      "  - Efficiency RMSE ~ 0.081 (moderate precision)\n",
      "  - Days_to_close RMSE ~ 2.53 days (directional; daily deltas under ~0.5 day are within noise)\n",
      "  - Backlog RMSE ~ 8.1 cases (directional)\n",
      "- Sanity checks: All predicted values sit within or near historical interquartile ranges. The primary watch-out is backlog gravitating toward or slightly above the 75th percentile in both SG-A and SG-C.\n",
      "\n",
      "3) Bucket Uplift and Overall Volume Impact\n",
      "\n",
      "Methodology (in plain terms)\n",
      "- Bucket Uplift: We group engineers by typical case volume bands (0–25, 25–50, 50–75, 75–100). We “move” selected engineers into a higher-volume bucket and estimate how many extra cases they can handle versus their original production. Net incremental cases = new bucket output − original output for those moved.\n",
      "- Overall Volume Impact: After these moves, we re-estimate the distribution of cases handled (“numCases”) across the workforce to assess the organization-level effect.\n",
      "\n",
      "Key findings\n",
      "- Bucket Uplift:\n",
      "  - 13 engineers were moved into the 75–100 bucket.\n",
      "  - New cases handled by those 13: 773.5 vs. original 534 → net +239.5 cases.\n",
      "  - Average gain per moved engineer: about +18.4 cases.\n",
      "  - Organization-wide lift: +239.5 cases across 120 engineers ≈ +2.0 cases per person on average.\n",
      "\n",
      "- Overall Volume Impact:\n",
      "  - Post-simulation mean numCases = 45.97 (n=120; 25th/50th/75th percentiles: 37 / 44 / 59.5).\n",
      "  - Interpreting change: Using the +239.5 uplift as the incremental delta, the implied lift in the organization-wide mean is roughly +2.0 cases per engineer (~+4.5%). This is an estimate because only post-simulation summary stats were provided.\n",
      "\n",
      "4) Optimal Headcount Reassignment\n",
      "\n",
      "Methodology (in plain terms)\n",
      "- The optimizer searches possible reassignments to best meet business goals, using the same prediction models to score each “what-if.” It balances multiple objectives with business-set weights:\n",
      "  - Improve WSI (weight −1, higher is better), improve efficiency (+0.6), reduce days to close (−0.6), reduce backlog (−0.8), and grow volume (+0.25).\n",
      "- Negative weights mean “minimize this metric”; positive weights mean “maximize.” The optimizer finds a staffing pattern that best satisfies all goals jointly.\n",
      "\n",
      "Recommended plan and expected state\n",
      "- The optimizer targets these steady-state metrics by group (recommended moves list not provided; figures reflect the targeted post-optimization levels):\n",
      "  - SG-A: Capacity 66; WSI 55.19; Efficiency 0.795; Days to close 7.40; Backlog 24.04\n",
      "  - SG-B: Capacity 57.03; WSI 55.24; Efficiency 0.809; Days to close 6.98; Backlog 21.96\n",
      "  - SG-C: Capacity 59.97; WSI 57.60; Efficiency 0.812; Days to close 6.99; Backlog 23.71\n",
      "  - SG-D: Capacity 62.49; WSI 52.47; Efficiency 0.777; Days to close 8.12; Backlog 23.43\n",
      "- Organization-level averages under this plan:\n",
      "  - Capacity ≈ 61.37; WSI ≈ 55.13; Efficiency ≈ 0.798; Days to close ≈ 7.37; Backlog ≈ 23.29.\n",
      "- Interpretation:\n",
      "  - The plan evens out WSI across groups (range ~5.1 points), keeps days to close largely in the 7–8 day band, and holds backlog near 23–24 cases per group.\n",
      "  - Relative positioning: SG-C remains the performance anchor (highest WSI and efficiency, sub-7-day cycle time); SG-B is close behind with the lowest backlog; SG-D runs slower and lower WSI, indicating either higher mix complexity or an opportunity for targeted enablement.\n",
      "\n",
      "5) Performance Quadrant Analysis\n",
      "\n",
      "Methodology (in plain terms)\n",
      "- We place employees on a simple 2x2: Capacity level (high/low) vs. WSI (high/low). This flags who can take on more work, who needs relief, and who should be coached or emulated.\n",
      "  - High Capacity + High WSI: role models — keep load steady, use as mentors.\n",
      "  - High Capacity + Low WSI: available capacity but outcomes lag — fix blockers/process/skills.\n",
      "  - Low Capacity + High WSI: performing well but near limit — protect, automate, or add relief.\n",
      "  - Low Capacity + Low WSI: at-risk — reduce load and coach.\n",
      "\n",
      "Key findings\n",
      "- Overall organization (n=120):\n",
      "  - High Capacity/High WSI: 49 (40.8%) — strong core of role models.\n",
      "  - High Capacity/Low WSI: 11 (9.2%) — opportunity to convert capacity into outcomes.\n",
      "  - Low Capacity/High WSI: 11 (9.2%) — protect and selectively increase support.\n",
      "  - Low Capacity/Low WSI: 49 (40.8%) — sizable at-risk cohort requiring targeted intervention.\n",
      "\n",
      "- SG-A and SG-C combined (n=60):\n",
      "  - High Capacity/High WSI: 23 (38.3%)\n",
      "  - High Capacity/Low WSI: 7 (11.7%)\n",
      "  - Low Capacity/High WSI: 7 (11.7%)\n",
      "  - Low Capacity/Low WSI: 23 (38.3%)\n",
      "  - Interpretation: The distribution mirrors the overall org. The at-risk group is material (38.3%); the high-high bench is equally material and can be leveraged for peer coaching and knowledge transfer.\n",
      "\n",
      "Recommended executive actions (near term)\n",
      "- Stabilize cap_dev to arrest WSI decline:\n",
      "  - Reinstate or protect enablement time (cap_dev has a 30% weight in WSI and fell sharply across all groups).\n",
      "- Targeted load balancing:\n",
      "  - Use the optimizer guidance to shift marginal capacity toward SG-B/C profiles while containing SG-D cycle times with enablement/automation support.\n",
      "- Backlog containment:\n",
      "  - Because backlog hovers at upper bounds in simulations, deploy short-term backlog sprints and prioritize deflection/automation for repeat issues.\n",
      "- Quadrant-based playbooks:\n",
      "  - Low capacity/low WSI: temporarily reduce workload; provide coaching and process support.\n",
      "  - High capacity/low WSI: remove blockers, pair with high-high mentors; review case mix fit.\n",
      "  - Low capacity/high WSI: protect from overload; give tools/automation to maintain quality.\n",
      "- Measure and iterate:\n",
      "  - Treat WSI predictions as directional (coarse RMSE ~15). Use efficiency and days-to-close changes as more reliable early indicators. Re-run simulations after two weeks to confirm trajectory.\n",
      "\n",
      "Appendix: Definitions recap\n",
      "- Capacity Score: model-derived indicator of spare capacity, primarily driven by TimeSpent, backlog, open cases, and total cases.\n",
      "- WSI: 0–100 composite of workload (30%), capability development (30%), persistence (15%), complexity (15%), and time (10%). Higher is better.\n"
     ]
    }
   ],
   "source": [
    "# 1. Install the library (run this once)\n",
    "# !pip install openai\n",
    "\n",
    "import openai\n",
    "import os\n",
    "\n",
    "# 2. Set up your API key\n",
    "# (Best practice is to set this as an environment variable)\n",
    "# openai.api_key = os.getenv(\"OPENAI_API_KEY\")\n",
    "os.environ[\"OPENAI_API_KEY\"] = \"ENTER API KEY HERE\"\n",
    "\n",
    "OPENAI_API_KEY = os.getenv(\"OPENAI_API_KEY\")  # optional; only if you use the LLM section\n",
    "\n",
    "# 3. Send the prompt to the model\n",
    "response = openai.chat.completions.create(\n",
    "  model=\"gpt-5\", # Or \"gpt-3.5-turbo\"\n",
    "  messages=[\n",
    "    {\"role\": \"system\", \"content\": \"You are a expert business analyst for Microsoft Azure customer support.\"},\n",
    "    {\"role\": \"user\", \"content\": final_prompt_explained}\n",
    "  ]\n",
    ")\n",
    "\n",
    "# 4. Print the executive summary\n",
    "print(\"--- 🚀 Executive Summary ---\")\n",
    "print(response.choices[0].message.content)"
   ]
  },
  {
   "cell_type": "code",
   "execution_count": 19,
   "id": "97a1d2fe-7221-42cb-95ac-b135606d5163",
   "metadata": {},
   "outputs": [
    {
     "name": "stdout",
     "output_type": "stream",
     "text": [
      "✅ Report successfully generated: Executive_Summary_Final.html\n"
     ]
    }
   ],
   "source": [
    "# --- 🚀 Final Step (HTML Report): Generate LLM Narrative and Infuse Plots ---\n",
    "import base64\n",
    "import markdown\n",
    "\n",
    "# This function is correct as you provided it.\n",
    "def create_html_report_final(\n",
    "    executive_summary,\n",
    "    llm_placeholder_text,\n",
    "    plot_paths,\n",
    "    output_filename=\"Executive_Summary_Final.html\"\n",
    "):\n",
    "    \"\"\"\n",
    "    Takes the executive summary, the placeholder narrative, and plot paths\n",
    "    to generate a self-contained HTML report.\n",
    "    \"\"\"\n",
    "    summary_html = markdown.markdown(executive_summary)\n",
    "    plots_narrative_html = markdown.markdown(llm_placeholder_text)\n",
    "\n",
    "    for placeholder, path in plot_paths.items():\n",
    "        try:\n",
    "            with open(path, \"rb\") as image_file:\n",
    "                encoded_string = base64.b64encode(image_file.read()).decode('utf-8')\n",
    "            plot_title = placeholder.strip('[]').replace('INSERT', '').replace('PLOT HERE', '').replace('_', ' ').strip().title()\n",
    "            img_tag = f'<h3>{plot_title}</h3><img src=\"data:image/png;base64,{encoded_string}\">'\n",
    "            plots_narrative_html = plots_narrative_html.replace(placeholder, img_tag)\n",
    "        except (FileNotFoundError, TypeError):\n",
    "            plots_narrative_html = plots_narrative_html.replace(placeholder, f\"<p><i><b>Warning:</b> Image file not found at {path}.</i></p>\")\n",
    "\n",
    "    html_content = f\"\"\"\n",
    "    <html>\n",
    "    <head>\n",
    "        <title>Executive Summary</title>\n",
    "        <style>\n",
    "            body {{ font-family: -apple-system, BlinkMacSystemFont, \"Segoe UI\", Roboto, Helvetica, Arial, sans-serif; line-height: 1.6; padding: 25px; max-width: 960px; margin: auto; color: #333; }}\n",
    "            h1, h2, h3 {{ color: #2a2a2a; border-bottom: 1px solid #eee; padding-bottom: 5px; margin-top: 30px;}}\n",
    "            h1 {{ text-align: center; border-bottom: 2px solid #333; }}\n",
    "            hr {{ border: 0; border-top: 1px solid #eee; margin: 40px 0; }}\n",
    "            img {{ max-width: 100%; height: auto; border: 1px solid #ddd; border-radius: 4px; margin: 20px 0; box-shadow: 0 2px 4px rgba(0,0,0,0.1); }}\n",
    "            p, li {{ font-size: 16px; }}\n",
    "            ul {{ padding-left: 20px; }}\n",
    "            table {{ border-collapse: collapse; width: 100%; margin: 20px 0; }}\n",
    "            th, td {{ border: 1px solid #ddd; padding: 8px; text-align: left; }}\n",
    "            th {{ background-color: #f4f4f4; }}\n",
    "        </style>\n",
    "    </head>\n",
    "    <body>\n",
    "        <h1>Executive Summary: Capacity & Workload Analysis</h1>\n",
    "        {summary_html}\n",
    "        <hr>\n",
    "        <h2>Detailed Analysis & Visualizations</h2>\n",
    "        {plots_narrative_html}\n",
    "    </body>\n",
    "    </html>\n",
    "    \"\"\"\n",
    "    \n",
    "    with open(output_filename, \"w\", encoding='utf-8') as f:\n",
    "        f.write(html_content)\n",
    "        \n",
    "    print(f\"✅ Report successfully generated: {output_filename}\")\n",
    "\n",
    "\n",
    "# --- 1. Get the Executive Summary from the LLM ---\n",
    "# This uses the detailed prompt created in the previous cell.\n",
    "# NOTE: Replace the line below with your actual API call.\n",
    "# response = openai.chat.completions.create(model=\"gpt-4\", messages=[{\"role\": \"user\", \"content\": final_prompt_explained}])\n",
    "# executive_summary_text = response.choices[0].message.content\n",
    "executive_summary_text = response.choices[0].message.content\n",
    "\n",
    "\n",
    "# --- 2. Get the Plot Narrative from the LLM ---\n",
    "# This generates the prompt that asks the LLM to include placeholders.\n",
    "final_placeholder_prompt = generate_llm_placeholder_prompt(\n",
    "    team_metrics_df=team_metrics,\n",
    "    scorer_obj=scorer,\n",
    "    simulation_df=combined,\n",
    "    sanity_df=sanity_df,\n",
    "    mse_report_df=mse_report,\n",
    "    contributions_df=contributions,\n",
    "    opt_plan_obj=plan_output,\n",
    "    bucket_uplift_df=bucket_uplift_summary,\n",
    "    quadrant_df=wsi_capacity_quadrant_all,\n",
    "    filtered_quadrant_df=wsi_capacity_quadrant_filtered,\n",
    "    wsi_config=wsi_cfg,\n",
    "    opt_config=opt_cfg,\n",
    "    post_volume_df=post_volume_df\n",
    ")\n",
    "\n",
    "# NOTE: Replace the line below with your actual API call.\n",
    "# response_for_html = openai.chat.completions.create(model=\"gpt-4\", messages=[{\"role\": \"user\", \"content\": final_placeholder_prompt}])\n",
    "# llm_text_with_placeholders = response_for_html.choices[0].message.content\n",
    "llm_text_with_placeholders = \"\"\"\n",
    "### Placeholder narrative for plots. The LLM will generate detailed text here.\n",
    "\n",
    "This section provides the visual charts that support the executive summary above.\n",
    "[INSERT SCORE DISTRIBUTION PLOT HERE]\n",
    "[INSERT TEAM METRICS PLOT HERE]\n",
    "[INSERT FEATURE IMPORTANCE PLOT HERE]\n",
    "[INSERT CONTRIBUTION WATERFALL PLOT HERE]\n",
    "[INSERT SIMULATION HEATMAP HERE]\n",
    "[INSERT TOTAL VOLUME UPLIFT DISTRIBUTION PLOT HERE]\n",
    "# [INSERT OPTIMIZER PLAN PLOT HERE]\n",
    "[INSERT QUADRANT PLOT ALL GROUPS HERE]\n",
    "[INSERT QUADRANT PLOT FILTERED HERE]\n",
    "\"\"\" # Using a sample text for demonstration\n",
    "\n",
    "# --- 3. Define the complete and correct dictionary of plot paths ---\n",
    "saved_plots = {\n",
    "    \"[INSERT SCORE DISTRIBUTION PLOT HERE]\": score_dist_path,\n",
    "    \"[INSERT TEAM METRICS PLOT HERE]\": team_metrics_path,\n",
    "    \"[INSERT FEATURE IMPORTANCE PLOT HERE]\": feature_importance_path,\n",
    "    \"[INSERT CONTRIBUTION WATERFALL PLOT HERE]\": contributions_path,\n",
    "    \"[INSERT SIMULATION HEATMAP HERE]\": simulation_heatmap_path,\n",
    "    \"[INSERT TOTAL VOLUME UPLIFT DISTRIBUTION PLOT HERE]\": volume_dist_path,\n",
    "    # \"[INSERT OPTIMIZER PLAN PLOT HERE]\": optimizer_plan_path,\n",
    "    \"[INSERT QUADRANT PLOT ALL GROUPS HERE]\": quadrant_all_path,\n",
    "    \"[INSERT QUADRANT PLOT FILTERED HERE]\": quadrant_filtered_path # Now includes the filtered plot\n",
    "    # Note: \"[INSERT SIMULATION DISTRIBUTIONS PLOT HERE]\" is omitted as its generating function is inactive.\n",
    "}\n",
    "\n",
    "# --- 4. Generate the final HTML report ---\n",
    "create_html_report_final(\n",
    "    executive_summary=executive_summary_text,\n",
    "    llm_placeholder_text=llm_text_with_placeholders,\n",
    "    plot_paths=saved_plots\n",
    ")"
   ]
  },
  {
   "cell_type": "code",
   "execution_count": null,
   "id": "9d7ec198-f405-4f7f-aabc-772fc1d7cddd",
   "metadata": {},
   "outputs": [],
   "source": []
  },
  {
   "cell_type": "code",
   "execution_count": null,
   "id": "5d426709-8097-43c2-a81d-6786709ef113",
   "metadata": {},
   "outputs": [],
   "source": []
  },
  {
   "cell_type": "code",
   "execution_count": null,
   "id": "d0841920-6751-4b4d-b0e1-aed525357525",
   "metadata": {},
   "outputs": [],
   "source": []
  },
  {
   "cell_type": "code",
   "execution_count": null,
   "id": "6134fe89-40c2-4c04-be99-4cde780671bb",
   "metadata": {},
   "outputs": [],
   "source": []
  }
 ],
 "metadata": {
  "kernelspec": {
   "display_name": "Python 3 (pyenv 3.11.6)",
   "language": "python",
   "name": "pyenv-3.11.6"
  },
  "language_info": {
   "codemirror_mode": {
    "name": "ipython",
    "version": 3
   },
   "file_extension": ".py",
   "mimetype": "text/x-python",
   "name": "python",
   "nbconvert_exporter": "python",
   "pygments_lexer": "ipython3",
   "version": "3.11.6"
  }
 },
 "nbformat": 4,
 "nbformat_minor": 5
}
